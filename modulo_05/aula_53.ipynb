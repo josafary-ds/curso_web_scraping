{
 "cells": [
  {
   "cell_type": "markdown",
   "metadata": {},
   "source": [
    "# Obtendo LOGs e Executando JavaScript "
   ]
  },
  {
   "cell_type": "code",
   "execution_count": 1,
   "metadata": {},
   "outputs": [],
   "source": [
    "from selenium import webdriver\n",
    "from selenium.webdriver.common.by import By\n",
    "from selenium.webdriver.support.wait import WebDriverWait\n",
    "from selenium.webdriver.support import expected_conditions as EC\n",
    "from selenium.webdriver.common.action_chains import ActionChains\n",
    "from selenium.webdriver.common.keys import Keys"
   ]
  },
  {
   "cell_type": "code",
   "execution_count": 2,
   "metadata": {},
   "outputs": [],
   "source": [
    "driver = webdriver.Chrome()\n",
    "driver.get('https://curso-web-scraping.pages.dev/#/exemplo/11')"
   ]
  },
  {
   "cell_type": "code",
   "execution_count": 3,
   "metadata": {},
   "outputs": [
    {
     "data": {
      "text/plain": [
       "['browser', 'driver']"
      ]
     },
     "execution_count": 3,
     "metadata": {},
     "output_type": "execute_result"
    }
   ],
   "source": [
    "driver.log_types"
   ]
  },
  {
   "cell_type": "code",
   "execution_count": 4,
   "metadata": {},
   "outputs": [
    {
     "data": {
      "text/plain": [
       "[{'level': 'WARNING',\n",
       "  'message': 'https://curso-web-scraping.pages.dev/assets/index-BYzAF07t.js 92:28755 \"Entre agora mesmo para o grupo de alunos t.me/programadoraventureiro\"',\n",
       "  'source': 'console-api',\n",
       "  'timestamp': 1731534062140},\n",
       " {'level': 'SEVERE',\n",
       "  'message': 'https://curso-web-scraping.pages.dev/assets/index-BYzAF07t.js 92:28840 \"Não saia da aula com dúvidas!\"',\n",
       "  'source': 'console-api',\n",
       "  'timestamp': 1731534062140}]"
      ]
     },
     "execution_count": 4,
     "metadata": {},
     "output_type": "execute_result"
    }
   ],
   "source": [
    "driver.get_log('browser')"
   ]
  },
  {
   "cell_type": "code",
   "execution_count": 5,
   "metadata": {},
   "outputs": [
    {
     "data": {
      "text/plain": [
       "[]"
      ]
     },
     "execution_count": 5,
     "metadata": {},
     "output_type": "execute_result"
    }
   ],
   "source": [
    "driver.get_log('driver')"
   ]
  },
  {
   "cell_type": "code",
   "execution_count": 6,
   "metadata": {},
   "outputs": [],
   "source": [
    "driver.get('https://www.magazineluiza.com.br')"
   ]
  },
  {
   "cell_type": "code",
   "execution_count": 7,
   "metadata": {},
   "outputs": [
    {
     "data": {
      "text/plain": [
       "[{'level': 'SEVERE',\n",
       "  'message': 'https://www.magazineluiza.com.br/mixer/_next/static/chunks/4504-84ab7b333f468918.js 0 Error: <svg> attribute viewBox: Expected number, \"0 0 100% 100%\".',\n",
       "  'source': 'rendering',\n",
       "  'timestamp': 1731534272960},\n",
       " {'level': 'WARNING',\n",
       "  'message': 'https://www.magazineluiza.com.br/mixer/_next/static/chunks/6473-2af91431c8c028b0.js 0:2393 MaxListenersExceededWarning: Possible EventEmitter memory leak detected. 11 pageview listeners added. Use emitter.setMaxListeners() to increase limit\\n    at j (https://www.magazineluiza.com.br/mixer/_next/static/chunks/6473-2af91431c8c028b0.js:1:2139)\\n    at f.addListener (https://www.magazineluiza.com.br/mixer/_next/static/chunks/6473-2af91431c8c028b0.js:1:4760)\\n    at f.value (https://www.magazineluiza.com.br/mixer/_next/static/chunks/8354-6d25da85c636ca49.js:1:42241)\\n    at https://www.magazineluiza.com.br/mixer/_next/static/chunks/8354-6d25da85c636ca49.js:1:42503\\n    at Array.forEach (<anonymous>)\\n    at https://www.magazineluiza.com.br/mixer/_next/static/chunks/8354-6d25da85c636ca49.js:1:42481\\n    at Array.forEach (<anonymous>)\\n    at f.value (https://www.magazineluiza.com.br/mixer/_next/static/chunks/8354-6d25da85c636ca49.js:1:42409)\\n    at w (https://www.magazineluiza.com.br/mixer/_next/static/chunks/8354-6d25da85c636ca49.js:1:43309)\\n    at fs (https://www.magazineluiza.com.br/mixer/_next/static/chunks/framework-a78051e383c5165f.js:10:59096)',\n",
       "  'source': 'console-api',\n",
       "  'timestamp': 1731534272961},\n",
       " {'level': 'SEVERE',\n",
       "  'message': 'https://www.magazineluiza.com.br/mixer/_next/static/chunks/4504-84ab7b333f468918.js 0 Error: <svg> attribute viewBox: Expected number, \"0 0 100% 100%\".',\n",
       "  'source': 'rendering',\n",
       "  'timestamp': 1731534273000},\n",
       " {'level': 'SEVERE',\n",
       "  'message': 'https://www.magazineluiza.com.br/mixer/_next/static/chunks/4504-84ab7b333f468918.js 0 Error: <svg> attribute viewBox: Expected number, \"0 0 100% 100%\".',\n",
       "  'source': 'rendering',\n",
       "  'timestamp': 1731534273080},\n",
       " {'level': 'SEVERE',\n",
       "  'message': 'https://www.magazineluiza.com.br/mixer/_next/static/chunks/4504-84ab7b333f468918.js 0 Error: <svg> attribute viewBox: Expected number, \"0 0 100% 100%\".',\n",
       "  'source': 'rendering',\n",
       "  'timestamp': 1731534273082},\n",
       " {'level': 'SEVERE',\n",
       "  'message': 'https://www.magazineluiza.com.br/mixer/_next/static/chunks/4504-84ab7b333f468918.js 0 Error: <svg> attribute viewBox: Expected number, \"0 0 100% 100%\".',\n",
       "  'source': 'rendering',\n",
       "  'timestamp': 1731534273082},\n",
       " {'level': 'SEVERE',\n",
       "  'message': 'https://www.magazineluiza.com.br/mixer/_next/static/chunks/4504-84ab7b333f468918.js 0 Error: <svg> attribute viewBox: Expected number, \"0 0 100% 100%\".',\n",
       "  'source': 'rendering',\n",
       "  'timestamp': 1731534273082},\n",
       " {'level': 'SEVERE',\n",
       "  'message': 'https://e1.emxdgt.com/put?d=d53&uid=k-Xe_EW0IyaXpYKWeqRNPDIIkopJeUD969ZUiTNg - Failed to load resource: net::ERR_NAME_NOT_RESOLVED',\n",
       "  'source': 'network',\n",
       "  'timestamp': 1731534281001},\n",
       " {'level': 'SEVERE',\n",
       "  'message': 'https://federation.magazineluiza.com.br/graphql - Failed to load resource: the server responded with a status of 400 ()',\n",
       "  'source': 'network',\n",
       "  'timestamp': 1731534294569},\n",
       " {'level': 'SEVERE',\n",
       "  'message': 'https://federation.magazineluiza.com.br/graphql - Failed to load resource: the server responded with a status of 400 ()',\n",
       "  'source': 'network',\n",
       "  'timestamp': 1731534294569},\n",
       " {'level': 'SEVERE',\n",
       "  'message': 'https://www.datadoghq-browser-agent.com/us1/v5/datadog-rum.js 0:69140 \"[apolloClient] - GraphQl Error - message: invalid type for variable: \\'input\\' - location: undefined - path: undefined - variables: {\\\\\"input\\\\\":[{\\\\\"eventDate\\\\\":\\\\\"2024-11-13T21:44:54.261Z\\\\\",\\\\\"placement\\\\\":{\\\\\"categoryId\\\\\":null,\\\\\"path\\\\\":\\\\\"web/desktop/home/selecao_de_produtos_patrocinados_para_voce\\\\\",\\\\\"position\\\\\":3},\\\\\"trackId\\\\\":\\\\\"ChAGc1HcFkx8mL0Eoz3sEONQEhABkkYJfbh-4pvdImJb7bY2GhABkdfIqGt8844mluoJL-y-Ig4KCmpnYThjMGczYjMQATDO1jc\\\\\",\\\\\"type\\\\\":\\\\\"views\\\\\"}]} - operation: SendAdsEvents\"',\n",
       "  'source': 'console-api',\n",
       "  'timestamp': 1731534294573},\n",
       " {'level': 'SEVERE',\n",
       "  'message': 'https://www.datadoghq-browser-agent.com/us1/v5/datadog-rum.js 0:69140 \"[SendAdsEvents] - Error: Response not successful: Received status code 400\"',\n",
       "  'source': 'console-api',\n",
       "  'timestamp': 1731534294574},\n",
       " {'level': 'SEVERE',\n",
       "  'message': 'https://www.datadoghq-browser-agent.com/us1/v5/datadog-rum.js 0:69140 \"[apolloClient] - GraphQl Error - message: invalid type for variable: \\'input\\' - location: undefined - path: undefined - variables: {\\\\\"input\\\\\":[{\\\\\"eventDate\\\\\":\\\\\"2024-11-13T21:44:54.236Z\\\\\",\\\\\"placement\\\\\":{\\\\\"categoryId\\\\\":null,\\\\\"path\\\\\":\\\\\"web/desktop/home/selecao_de_produtos_patrocinados_para_voce\\\\\",\\\\\"position\\\\\":2},\\\\\"trackId\\\\\":\\\\\"ChAGc1HcFkx8mL0Eoz3sEONQEhABkyJlAol1AqXu0Lyrr3n-GhABkkEOjxp9AYUc1Cuq4sSeIg0KCTIzODQ5MzQwMBABMNelUA\\\\\",\\\\\"type\\\\\":\\\\\"views\\\\\"}]} - operation: SendAdsEvents\"',\n",
       "  'source': 'console-api',\n",
       "  'timestamp': 1731534294575},\n",
       " {'level': 'SEVERE',\n",
       "  'message': 'https://www.datadoghq-browser-agent.com/us1/v5/datadog-rum.js 0:69140 \"[SendAdsEvents] - Error: Response not successful: Received status code 400\"',\n",
       "  'source': 'console-api',\n",
       "  'timestamp': 1731534294576},\n",
       " {'level': 'SEVERE',\n",
       "  'message': 'https://federation.magazineluiza.com.br/graphql - Failed to load resource: the server responded with a status of 400 ()',\n",
       "  'source': 'network',\n",
       "  'timestamp': 1731534294580},\n",
       " {'level': 'SEVERE',\n",
       "  'message': 'https://www.datadoghq-browser-agent.com/us1/v5/datadog-rum.js 0:69140 \"[apolloClient] - GraphQl Error - message: invalid type for variable: \\'input\\' - location: undefined - path: undefined - variables: {\\\\\"input\\\\\":[{\\\\\"eventDate\\\\\":\\\\\"2024-11-13T21:44:54.214Z\\\\\",\\\\\"placement\\\\\":{\\\\\"categoryId\\\\\":null,\\\\\"path\\\\\":\\\\\"web/desktop/home/selecao_de_produtos_patrocinados_para_voce\\\\\",\\\\\"position\\\\\":1},\\\\\"trackId\\\\\":\\\\\"ChAGc1HcFkx8mL0Eoz3sEONQEhABkyJlAol1AqXu0Lyrr3n-GhABkkEOjxp9AYUc1Cuq4sSeIg0KCTIzODQ5MzMwMBABMNelUA\\\\\",\\\\\"type\\\\\":\\\\\"views\\\\\"}]} - operation: SendAdsEvents\"',\n",
       "  'source': 'console-api',\n",
       "  'timestamp': 1731534294581},\n",
       " {'level': 'SEVERE',\n",
       "  'message': 'https://www.datadoghq-browser-agent.com/us1/v5/datadog-rum.js 0:69140 \"[SendAdsEvents] - Error: Response not successful: Received status code 400\"',\n",
       "  'source': 'console-api',\n",
       "  'timestamp': 1731534294581}]"
      ]
     },
     "execution_count": 7,
     "metadata": {},
     "output_type": "execute_result"
    }
   ],
   "source": [
    "driver.get_log('browser')"
   ]
  },
  {
   "cell_type": "markdown",
   "metadata": {},
   "source": [
    "### Executando JavaScript"
   ]
  },
  {
   "cell_type": "code",
   "execution_count": 9,
   "metadata": {},
   "outputs": [],
   "source": [
    "driver.get('https://curso-web-scraping.pages.dev/#/exemplo/11')"
   ]
  },
  {
   "cell_type": "code",
   "execution_count": 10,
   "metadata": {},
   "outputs": [
    {
     "data": {
      "text/plain": [
       "'Exemplo 11'"
      ]
     },
     "execution_count": 10,
     "metadata": {},
     "output_type": "execute_result"
    }
   ],
   "source": [
    "driver.execute_script('return document.title')"
   ]
  },
  {
   "cell_type": "code",
   "execution_count": 11,
   "metadata": {},
   "outputs": [],
   "source": [
    "driver.execute_script('console.log(\"Olá, mundo!\")')"
   ]
  },
  {
   "cell_type": "code",
   "execution_count": 12,
   "metadata": {},
   "outputs": [],
   "source": [
    "driver.execute_script('setInterval(() => console.log(\"Olá, mundo!\"), 1000)')"
   ]
  },
  {
   "cell_type": "code",
   "execution_count": null,
   "metadata": {},
   "outputs": [],
   "source": []
  }
 ],
 "metadata": {
  "kernelspec": {
   "display_name": "Python 3",
   "language": "python",
   "name": "python3"
  },
  "language_info": {
   "codemirror_mode": {
    "name": "ipython",
    "version": 3
   },
   "file_extension": ".py",
   "mimetype": "text/x-python",
   "name": "python",
   "nbconvert_exporter": "python",
   "pygments_lexer": "ipython3",
   "version": "3.12.0"
  }
 },
 "nbformat": 4,
 "nbformat_minor": 2
}
