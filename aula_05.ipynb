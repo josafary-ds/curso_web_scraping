{
 "cells": [
  {
   "cell_type": "code",
   "execution_count": 1,
   "metadata": {},
   "outputs": [],
   "source": [
    "from selenium import webdriver\n",
    "from selenium.webdriver.common.by import By\n",
    "\n",
    "driver = webdriver.Chrome()"
   ]
  },
  {
   "cell_type": "code",
   "execution_count": 2,
   "metadata": {},
   "outputs": [],
   "source": [
    "driver.get('http://localhost:8000/#/exemplo/1')"
   ]
  },
  {
   "cell_type": "markdown",
   "metadata": {},
   "source": [
    "## Seletor XPATH"
   ]
  },
  {
   "cell_type": "markdown",
   "metadata": {},
   "source": [
    "### 1. Caminho Absoluto"
   ]
  },
  {
   "cell_type": "code",
   "execution_count": null,
   "metadata": {},
   "outputs": [],
   "source": [
    "driver.find_elements(By.XPATH, '/html/body/div/div/div[2]')"
   ]
  },
  {
   "cell_type": "markdown",
   "metadata": {},
   "source": [
    "### 2. Busca por TAG"
   ]
  },
  {
   "cell_type": "code",
   "execution_count": 3,
   "metadata": {},
   "outputs": [
    {
     "data": {
      "text/plain": [
       "[<selenium.webdriver.remote.webelement.WebElement (session=\"18c4e2c96c578fe026b7840ad38ee0d1\", element=\"f.FEF43FC77CE9B32C480CB74C70CC0C1C.d.45001036E0989E20190A29B26D63188E.e.24\")>,\n",
       " <selenium.webdriver.remote.webelement.WebElement (session=\"18c4e2c96c578fe026b7840ad38ee0d1\", element=\"f.FEF43FC77CE9B32C480CB74C70CC0C1C.d.45001036E0989E20190A29B26D63188E.e.25\")>,\n",
       " <selenium.webdriver.remote.webelement.WebElement (session=\"18c4e2c96c578fe026b7840ad38ee0d1\", element=\"f.FEF43FC77CE9B32C480CB74C70CC0C1C.d.45001036E0989E20190A29B26D63188E.e.26\")>,\n",
       " <selenium.webdriver.remote.webelement.WebElement (session=\"18c4e2c96c578fe026b7840ad38ee0d1\", element=\"f.FEF43FC77CE9B32C480CB74C70CC0C1C.d.45001036E0989E20190A29B26D63188E.e.27\")>]"
      ]
     },
     "execution_count": 3,
     "metadata": {},
     "output_type": "execute_result"
    }
   ],
   "source": [
    "driver.find_elements(By.XPATH, '//input')"
   ]
  },
  {
   "cell_type": "markdown",
   "metadata": {},
   "source": [
    "### 3. Busca por posição"
   ]
  },
  {
   "cell_type": "code",
   "execution_count": 4,
   "metadata": {},
   "outputs": [
    {
     "data": {
      "text/plain": [
       "[<selenium.webdriver.remote.webelement.WebElement (session=\"18c4e2c96c578fe026b7840ad38ee0d1\", element=\"f.FEF43FC77CE9B32C480CB74C70CC0C1C.d.45001036E0989E20190A29B26D63188E.e.24\")>]"
      ]
     },
     "execution_count": 4,
     "metadata": {},
     "output_type": "execute_result"
    }
   ],
   "source": [
    "driver.find_elements(By.XPATH, '//input[1]')"
   ]
  },
  {
   "cell_type": "code",
   "execution_count": 7,
   "metadata": {},
   "outputs": [
    {
     "name": "stdout",
     "output_type": "stream",
     "text": [
      "Lara Pereira\n",
      "Sagitário\n"
     ]
    }
   ],
   "source": [
    "inputs = driver.find_elements(By.XPATH, '//input[1] | //input[3]')\n",
    "\n",
    "for i in inputs:\n",
    "    valor = i.get_property('value')\n",
    "    print(valor)"
   ]
  },
  {
   "cell_type": "markdown",
   "metadata": {},
   "source": [
    "### 4. Busca por atributos"
   ]
  },
  {
   "cell_type": "code",
   "execution_count": 8,
   "metadata": {},
   "outputs": [
    {
     "data": {
      "text/plain": [
       "[<selenium.webdriver.remote.webelement.WebElement (session=\"18c4e2c96c578fe026b7840ad38ee0d1\", element=\"f.FEF43FC77CE9B32C480CB74C70CC0C1C.d.45001036E0989E20190A29B26D63188E.e.24\")>]"
      ]
     },
     "execution_count": 8,
     "metadata": {},
     "output_type": "execute_result"
    }
   ],
   "source": [
    "driver.find_elements(By.XPATH, '//input[@id=\"user\"]')"
   ]
  },
  {
   "cell_type": "code",
   "execution_count": 9,
   "metadata": {},
   "outputs": [
    {
     "data": {
      "text/plain": [
       "[<selenium.webdriver.remote.webelement.WebElement (session=\"18c4e2c96c578fe026b7840ad38ee0d1\", element=\"f.FEF43FC77CE9B32C480CB74C70CC0C1C.d.45001036E0989E20190A29B26D63188E.e.212\")>]"
      ]
     },
     "execution_count": 9,
     "metadata": {},
     "output_type": "execute_result"
    }
   ],
   "source": [
    "# Usa-se \"/\" para descendentes imediatos e \"//\" para descendentes quaisquer\n",
    "driver.find_elements(By.XPATH, '//div[@id=\"social\"]/a[1]')"
   ]
  },
  {
   "cell_type": "code",
   "execution_count": null,
   "metadata": {},
   "outputs": [],
   "source": []
  },
  {
   "cell_type": "markdown",
   "metadata": {},
   "source": [
    "# Obtendo seletores através do navegador"
   ]
  },
  {
   "cell_type": "code",
   "execution_count": 12,
   "metadata": {},
   "outputs": [
    {
     "data": {
      "text/plain": [
       "[<selenium.webdriver.remote.webelement.WebElement (session=\"18c4e2c96c578fe026b7840ad38ee0d1\", element=\"f.FEF43FC77CE9B32C480CB74C70CC0C1C.d.45001036E0989E20190A29B26D63188E.e.221\")>]"
      ]
     },
     "execution_count": 12,
     "metadata": {},
     "output_type": "execute_result"
    }
   ],
   "source": [
    "driver.find_elements(By.CSS_SELECTOR, '#social > a:nth-child(3)')\n"
   ]
  },
  {
   "cell_type": "code",
   "execution_count": 13,
   "metadata": {},
   "outputs": [
    {
     "data": {
      "text/plain": [
       "[<selenium.webdriver.remote.webelement.WebElement (session=\"18c4e2c96c578fe026b7840ad38ee0d1\", element=\"f.FEF43FC77CE9B32C480CB74C70CC0C1C.d.45001036E0989E20190A29B26D63188E.e.221\")>]"
      ]
     },
     "execution_count": 13,
     "metadata": {},
     "output_type": "execute_result"
    }
   ],
   "source": [
    "driver.find_elements(By.XPATH, '//*[@id=\"social\"]/a[3]')"
   ]
  },
  {
   "cell_type": "markdown",
   "metadata": {},
   "source": [
    "# Diferenças entre Atributos e Propriedades HTML"
   ]
  },
  {
   "cell_type": "code",
   "execution_count": 15,
   "metadata": {},
   "outputs": [
    {
     "data": {
      "text/plain": [
       "('zodiac', 'zodiac')"
      ]
     },
     "execution_count": 15,
     "metadata": {},
     "output_type": "execute_result"
    }
   ],
   "source": [
    "atr = driver.find_element(By.ID, 'zodiac').get_attribute('id')\n",
    "prop = driver.find_element(By.ID, 'zodiac').get_property('id')\n",
    "\n",
    "atr, prop"
   ]
  },
  {
   "cell_type": "code",
   "execution_count": 17,
   "metadata": {},
   "outputs": [
    {
     "data": {
      "text/plain": [
       "('block w-full rounded-md border-0 py-1.5 px-4 h-10 text-gray-700 ring-1 ring-inset ring-gray-300 bg-white placeholder:text-gray-400 focus:ring-2 focus:ring-inset focus:ring-cyan-600 sm:text-sm sm:leading-6 styled-input optional-info',\n",
       " 'block w-full rounded-md border-0 py-1.5 px-4 h-10 text-gray-700 ring-1 ring-inset ring-gray-300 bg-white placeholder:text-gray-400 focus:ring-2 focus:ring-inset focus:ring-cyan-600 sm:text-sm sm:leading-6 styled-input optional-info')"
      ]
     },
     "execution_count": 17,
     "metadata": {},
     "output_type": "execute_result"
    }
   ],
   "source": [
    "# Atributos são características das TAGS html\n",
    "atr = driver.find_element(By.ID, 'zodiac').get_attribute('class')\n",
    "# Propriedades são características do DOM, alguns nomes são alterados para evitar conflitos com o JavaScript\n",
    "prop = driver.find_element(By.ID, 'zodiac').get_property('className')\n",
    "\n",
    "atr, prop"
   ]
  },
  {
   "cell_type": "code",
   "execution_count": 19,
   "metadata": {},
   "outputs": [
    {
     "data": {
      "text/plain": [
       "('true', {'optional': 'true'})"
      ]
     },
     "execution_count": 19,
     "metadata": {},
     "output_type": "execute_result"
    }
   ],
   "source": [
    "atr = driver.find_element(By.ID, 'zodiac').get_attribute('data-optional')\n",
    "prop = driver.find_element(By.ID, 'zodiac').get_property('dataset')\n",
    "\n",
    "atr, prop"
   ]
  },
  {
   "cell_type": "code",
   "execution_count": 20,
   "metadata": {},
   "outputs": [
    {
     "data": {
      "text/plain": [
       "('true', 'true')"
      ]
     },
     "execution_count": 20,
     "metadata": {},
     "output_type": "execute_result"
    }
   ],
   "source": [
    "atr = driver.find_element(By.ID, 'zodiac').get_attribute('data-optional')\n",
    "prop = driver.find_element(By.ID, 'zodiac').get_property('dataset')['optional']\n",
    "\n",
    "atr, prop"
   ]
  },
  {
   "cell_type": "code",
   "execution_count": 21,
   "metadata": {},
   "outputs": [],
   "source": [
    "driver.quit()"
   ]
  },
  {
   "cell_type": "code",
   "execution_count": null,
   "metadata": {},
   "outputs": [],
   "source": []
  }
 ],
 "metadata": {
  "kernelspec": {
   "display_name": ".venv",
   "language": "python",
   "name": "python3"
  },
  "language_info": {
   "codemirror_mode": {
    "name": "ipython",
    "version": 3
   },
   "file_extension": ".py",
   "mimetype": "text/x-python",
   "name": "python",
   "nbconvert_exporter": "python",
   "pygments_lexer": "ipython3",
   "version": "3.12.1"
  }
 },
 "nbformat": 4,
 "nbformat_minor": 2
}
