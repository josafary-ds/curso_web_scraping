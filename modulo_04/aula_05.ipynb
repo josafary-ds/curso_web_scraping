{
 "cells": [
  {
   "cell_type": "code",
   "execution_count": 1,
   "metadata": {},
   "outputs": [],
   "source": [
    "from selenium import webdriver\n",
    "from selenium.webdriver.common.by import By\n",
    "from selenium.webdriver.support.ui import Select\n",
    "from selenium.webdriver.support.wait import WebDriverWait\n",
    "from selenium.webdriver.support import expected_conditions as EC\n",
    "\n",
    "driver = webdriver.Chrome()"
   ]
  },
  {
   "cell_type": "code",
   "execution_count": 2,
   "metadata": {},
   "outputs": [],
   "source": [
    "driver.get('http://localhost:8000/#/exemplo/8')"
   ]
  },
  {
   "cell_type": "code",
   "execution_count": 3,
   "metadata": {},
   "outputs": [],
   "source": [
    "driver.implicitly_wait(time_to_wait=10)"
   ]
  },
  {
   "cell_type": "code",
   "execution_count": 4,
   "metadata": {},
   "outputs": [
    {
     "data": {
      "text/plain": [
       "[<selenium.webdriver.remote.webelement.WebElement (session=\"d54377e06ef36e4dec342d1d935d09b6\", element=\"f.E4F0F9DE6F88B59B78C64F428B7EECE4.d.8D966ECD74D1E0EA27E631BD6A9E0453.e.1549\")>,\n",
       " <selenium.webdriver.remote.webelement.WebElement (session=\"d54377e06ef36e4dec342d1d935d09b6\", element=\"f.E4F0F9DE6F88B59B78C64F428B7EECE4.d.8D966ECD74D1E0EA27E631BD6A9E0453.e.1557\")>,\n",
       " <selenium.webdriver.remote.webelement.WebElement (session=\"d54377e06ef36e4dec342d1d935d09b6\", element=\"f.E4F0F9DE6F88B59B78C64F428B7EECE4.d.8D966ECD74D1E0EA27E631BD6A9E0453.e.1565\")>,\n",
       " <selenium.webdriver.remote.webelement.WebElement (session=\"d54377e06ef36e4dec342d1d935d09b6\", element=\"f.E4F0F9DE6F88B59B78C64F428B7EECE4.d.8D966ECD74D1E0EA27E631BD6A9E0453.e.1573\")>,\n",
       " <selenium.webdriver.remote.webelement.WebElement (session=\"d54377e06ef36e4dec342d1d935d09b6\", element=\"f.E4F0F9DE6F88B59B78C64F428B7EECE4.d.8D966ECD74D1E0EA27E631BD6A9E0453.e.1581\")>,\n",
       " <selenium.webdriver.remote.webelement.WebElement (session=\"d54377e06ef36e4dec342d1d935d09b6\", element=\"f.E4F0F9DE6F88B59B78C64F428B7EECE4.d.8D966ECD74D1E0EA27E631BD6A9E0453.e.1589\")>,\n",
       " <selenium.webdriver.remote.webelement.WebElement (session=\"d54377e06ef36e4dec342d1d935d09b6\", element=\"f.E4F0F9DE6F88B59B78C64F428B7EECE4.d.8D966ECD74D1E0EA27E631BD6A9E0453.e.1597\")>,\n",
       " <selenium.webdriver.remote.webelement.WebElement (session=\"d54377e06ef36e4dec342d1d935d09b6\", element=\"f.E4F0F9DE6F88B59B78C64F428B7EECE4.d.8D966ECD74D1E0EA27E631BD6A9E0453.e.1605\")>,\n",
       " <selenium.webdriver.remote.webelement.WebElement (session=\"d54377e06ef36e4dec342d1d935d09b6\", element=\"f.E4F0F9DE6F88B59B78C64F428B7EECE4.d.8D966ECD74D1E0EA27E631BD6A9E0453.e.1613\")>,\n",
       " <selenium.webdriver.remote.webelement.WebElement (session=\"d54377e06ef36e4dec342d1d935d09b6\", element=\"f.E4F0F9DE6F88B59B78C64F428B7EECE4.d.8D966ECD74D1E0EA27E631BD6A9E0453.e.1621\")>]"
      ]
     },
     "execution_count": 4,
     "metadata": {},
     "output_type": "execute_result"
    }
   ],
   "source": [
    "tabela = driver.find_element(By.ID, 'tabela-usuarios')\n",
    "linhas = tabela.find_elements(By.CSS_SELECTOR, 'tbody tr')\n",
    "linhas"
   ]
  },
  {
   "cell_type": "code",
   "execution_count": 5,
   "metadata": {},
   "outputs": [],
   "source": [
    "from dataclasses import dataclass\n",
    "\n",
    "@dataclass\n",
    "class Usuario:\n",
    "    avatar: str\n",
    "    nome: str\n",
    "    profissao: str\n",
    "    email: str\n",
    "    perfil: str\n",
    "    estado: str"
   ]
  },
  {
   "cell_type": "code",
   "execution_count": null,
   "metadata": {},
   "outputs": [],
   "source": [
    "registros = []\n",
    "\n",
    "for linha in linhas:\n",
    "    dados = linha.get_property('children')"
   ]
  }
 ],
 "metadata": {
  "kernelspec": {
   "display_name": "Python 3",
   "language": "python",
   "name": "python3"
  },
  "language_info": {
   "codemirror_mode": {
    "name": "ipython",
    "version": 3
   },
   "file_extension": ".py",
   "mimetype": "text/x-python",
   "name": "python",
   "nbconvert_exporter": "python",
   "pygments_lexer": "ipython3",
   "version": "3.12.0"
  }
 },
 "nbformat": 4,
 "nbformat_minor": 2
}
