{
 "cells": [
  {
   "cell_type": "markdown",
   "metadata": {},
   "source": [
    "# Extraindo dados paginados"
   ]
  },
  {
   "cell_type": "code",
   "execution_count": 1,
   "metadata": {},
   "outputs": [],
   "source": [
    "from selenium import webdriver\n",
    "from selenium.webdriver.common.by import By\n",
    "from selenium.webdriver.support.ui import Select\n",
    "from selenium.webdriver.support.wait import WebDriverWait\n",
    "from selenium.webdriver.support import expected_conditions as EC\n",
    "\n",
    "driver = webdriver.Chrome()"
   ]
  },
  {
   "cell_type": "code",
   "execution_count": 2,
   "metadata": {},
   "outputs": [],
   "source": [
    "driver.get('http://localhost:8000/#/exemplo/8')"
   ]
  },
  {
   "cell_type": "code",
   "execution_count": 3,
   "metadata": {},
   "outputs": [],
   "source": [
    "driver.implicitly_wait(time_to_wait=10)"
   ]
  },
  {
   "cell_type": "code",
   "execution_count": 4,
   "metadata": {},
   "outputs": [
    {
     "data": {
      "text/plain": [
       "[<selenium.webdriver.remote.webelement.WebElement (session=\"edb39b235676b2bf6e2ceb02277048dd\", element=\"f.B33BBEA9B4E204B512D4A738E760089B.d.BAFF09BDC72CDFE14BDC8E81AF4736EB.e.238\")>,\n",
       " <selenium.webdriver.remote.webelement.WebElement (session=\"edb39b235676b2bf6e2ceb02277048dd\", element=\"f.B33BBEA9B4E204B512D4A738E760089B.d.BAFF09BDC72CDFE14BDC8E81AF4736EB.e.246\")>,\n",
       " <selenium.webdriver.remote.webelement.WebElement (session=\"edb39b235676b2bf6e2ceb02277048dd\", element=\"f.B33BBEA9B4E204B512D4A738E760089B.d.BAFF09BDC72CDFE14BDC8E81AF4736EB.e.254\")>,\n",
       " <selenium.webdriver.remote.webelement.WebElement (session=\"edb39b235676b2bf6e2ceb02277048dd\", element=\"f.B33BBEA9B4E204B512D4A738E760089B.d.BAFF09BDC72CDFE14BDC8E81AF4736EB.e.262\")>,\n",
       " <selenium.webdriver.remote.webelement.WebElement (session=\"edb39b235676b2bf6e2ceb02277048dd\", element=\"f.B33BBEA9B4E204B512D4A738E760089B.d.BAFF09BDC72CDFE14BDC8E81AF4736EB.e.270\")>,\n",
       " <selenium.webdriver.remote.webelement.WebElement (session=\"edb39b235676b2bf6e2ceb02277048dd\", element=\"f.B33BBEA9B4E204B512D4A738E760089B.d.BAFF09BDC72CDFE14BDC8E81AF4736EB.e.278\")>,\n",
       " <selenium.webdriver.remote.webelement.WebElement (session=\"edb39b235676b2bf6e2ceb02277048dd\", element=\"f.B33BBEA9B4E204B512D4A738E760089B.d.BAFF09BDC72CDFE14BDC8E81AF4736EB.e.286\")>,\n",
       " <selenium.webdriver.remote.webelement.WebElement (session=\"edb39b235676b2bf6e2ceb02277048dd\", element=\"f.B33BBEA9B4E204B512D4A738E760089B.d.BAFF09BDC72CDFE14BDC8E81AF4736EB.e.294\")>,\n",
       " <selenium.webdriver.remote.webelement.WebElement (session=\"edb39b235676b2bf6e2ceb02277048dd\", element=\"f.B33BBEA9B4E204B512D4A738E760089B.d.BAFF09BDC72CDFE14BDC8E81AF4736EB.e.302\")>,\n",
       " <selenium.webdriver.remote.webelement.WebElement (session=\"edb39b235676b2bf6e2ceb02277048dd\", element=\"f.B33BBEA9B4E204B512D4A738E760089B.d.BAFF09BDC72CDFE14BDC8E81AF4736EB.e.310\")>]"
      ]
     },
     "execution_count": 4,
     "metadata": {},
     "output_type": "execute_result"
    }
   ],
   "source": [
    "tabela = driver.find_element(By.ID, 'tabela-usuarios')\n",
    "linhas = tabela.find_elements(By.CSS_SELECTOR, 'tbody tr')\n",
    "linhas"
   ]
  },
  {
   "cell_type": "code",
   "execution_count": 5,
   "metadata": {},
   "outputs": [],
   "source": [
    "from dataclasses import dataclass\n",
    "\n",
    "@dataclass\n",
    "class Usuario:\n",
    "    avatar: str\n",
    "    nome: str\n",
    "    profissao: str\n",
    "    email: str\n",
    "    perfil: str\n",
    "    estado: str"
   ]
  },
  {
   "cell_type": "code",
   "execution_count": 9,
   "metadata": {},
   "outputs": [
    {
     "data": {
      "text/plain": [
       "[Usuario(avatar='https://avatars.githubusercontent.com/u/39486032', nome='Aline Silva', profissao='Diretor', email='aline.silva7@example.org', perfil='aline.silva26', estado='Goiás'),\n",
       " Usuario(avatar='https://cloudflare-ipfs.com/ipfs/Qmd3W5DuhgHirLHGVixi6V76LhCkZUz6pnFt5AJBiyvHye/avatar/955.jpg', nome='Joana Braga Jr.', profissao='Representante', email='joana_braga48@example.com', perfil='joana_braga25', estado='Roraima'),\n",
       " Usuario(avatar='https://cloudflare-ipfs.com/ipfs/Qmd3W5DuhgHirLHGVixi6V76LhCkZUz6pnFt5AJBiyvHye/avatar/618.jpg', nome='Lorenzo Albuquerque', profissao='Analista', email='lorenzo_albuquerque@example.com', perfil='lorenzo_albuquerque', estado='Roraima'),\n",
       " Usuario(avatar='https://avatars.githubusercontent.com/u/32119117', nome='Sr. Giovanna Macedo', profissao='Gerente', email='giovanna_macedo@example.com', perfil='giovanna.macedo', estado='Mato Grosso do Sul'),\n",
       " Usuario(avatar='https://cloudflare-ipfs.com/ipfs/Qmd3W5DuhgHirLHGVixi6V76LhCkZUz6pnFt5AJBiyvHye/avatar/335.jpg', nome='Sara Braga', profissao='Diretor', email='sara_braga@example.net', perfil='sara.braga10', estado='Rio Grande do Sul'),\n",
       " Usuario(avatar='https://cloudflare-ipfs.com/ipfs/Qmd3W5DuhgHirLHGVixi6V76LhCkZUz6pnFt5AJBiyvHye/avatar/43.jpg', nome='Maria Reis', profissao='Analista', email='maria.reis24@example.org', perfil='maria.reis', estado='Roraima'),\n",
       " Usuario(avatar='https://cloudflare-ipfs.com/ipfs/Qmd3W5DuhgHirLHGVixi6V76LhCkZUz6pnFt5AJBiyvHye/avatar/609.jpg', nome='Isis Barros', profissao='Diretor', email='isis.barros@example.org', perfil='isis_barros', estado='Roraima'),\n",
       " Usuario(avatar='https://cloudflare-ipfs.com/ipfs/Qmd3W5DuhgHirLHGVixi6V76LhCkZUz6pnFt5AJBiyvHye/avatar/1094.jpg', nome='Antônio Melo', profissao='Facilitador', email='antonio.melo@example.net', perfil='antonio_melo3', estado='Bahia'),\n",
       " Usuario(avatar='https://cloudflare-ipfs.com/ipfs/Qmd3W5DuhgHirLHGVixi6V76LhCkZUz6pnFt5AJBiyvHye/avatar/70.jpg', nome='Lavínia Pereira', profissao='Orquestrador', email='lavinia_pereira29@example.com', perfil='lavinia_pereira84', estado='Roraima'),\n",
       " Usuario(avatar='https://avatars.githubusercontent.com/u/70608230', nome='Henrique Reis', profissao='Atentende', email='henrique_reis14@example.org', perfil='henrique.reis', estado='Sergipe')]"
      ]
     },
     "execution_count": 9,
     "metadata": {},
     "output_type": "execute_result"
    }
   ],
   "source": [
    "registros = []\n",
    "\n",
    "for linha in linhas:\n",
    "    dados = linha.get_property('children')\n",
    "\n",
    "    registro = Usuario(\n",
    "        avatar = dados[0].find_element(By.TAG_NAME, 'img').get_property('src'),\n",
    "        nome = dados[1].text,\n",
    "        profissao = dados[2].text,\n",
    "        email = dados[3].text,\n",
    "        perfil = dados[4].text,\n",
    "        estado = dados[5].text\n",
    "    )\n",
    "\n",
    "    registros.append(registro)\n",
    "\n",
    "registros"
   ]
  },
  {
   "cell_type": "code",
   "execution_count": 15,
   "metadata": {},
   "outputs": [
    {
     "data": {
      "text/plain": [
       "'Próxima'"
      ]
     },
     "execution_count": 15,
     "metadata": {},
     "output_type": "execute_result"
    }
   ],
   "source": [
    "prox = driver.find_elements(By.CSS_SELECTOR, 'main button')[1]\n",
    "prox.text"
   ]
  },
  {
   "cell_type": "code",
   "execution_count": 16,
   "metadata": {},
   "outputs": [],
   "source": [
    "prox.click()"
   ]
  },
  {
   "cell_type": "markdown",
   "metadata": {},
   "source": [
    "## Automatizando para todas as páginas"
   ]
  },
  {
   "cell_type": "code",
   "execution_count": 17,
   "metadata": {},
   "outputs": [],
   "source": [
    "@dataclass\n",
    "class Usuario:\n",
    "    avatar: str\n",
    "    nome: str\n",
    "    profissao: str\n",
    "    email: str\n",
    "    perfil: str\n",
    "    estado: str\n",
    "\n",
    "def capturar_dados_da_tabela():\n",
    "    linhas = driver.find_elements(By.CSS_SELECTOR, '#tabela-usuarios tbody tr')\n",
    "    registros = []\n",
    "\n",
    "    for linha in linhas:\n",
    "        dados = linha.get_property('children')\n",
    "\n",
    "        registro = Usuario(\n",
    "            avatar = dados[0].find_element(By.TAG_NAME, 'img').get_property('src'),\n",
    "            nome = dados[1].text,\n",
    "            profissao = dados[2].text,\n",
    "            email = dados[3].text,\n",
    "            perfil = dados[4].text,\n",
    "            estado = dados[5].text\n",
    "        )\n",
    "\n",
    "        registros.append(registro)\n",
    "    \n",
    "    return registros"
   ]
  },
  {
   "cell_type": "code",
   "execution_count": 18,
   "metadata": {},
   "outputs": [],
   "source": [
    "dados_tabela = []\n",
    "\n",
    "while True:\n",
    "    dados = capturar_dados_da_tabela()\n",
    "    dados_tabela.extend(dados)\n",
    "\n",
    "    try:\n",
    "        prox = driver.find_elements(By.CSS_SELECTOR, 'main button')[1]\n",
    "        prox.click()\n",
    "\n",
    "    except Exception as e:\n",
    "        break"
   ]
  },
  {
   "cell_type": "code",
   "execution_count": 19,
   "metadata": {},
   "outputs": [
    {
     "data": {
      "text/plain": [
       "90"
      ]
     },
     "execution_count": 19,
     "metadata": {},
     "output_type": "execute_result"
    }
   ],
   "source": [
    "len(dados_tabela)"
   ]
  },
  {
   "cell_type": "code",
   "execution_count": null,
   "metadata": {},
   "outputs": [],
   "source": []
  }
 ],
 "metadata": {
  "kernelspec": {
   "display_name": "Python 3",
   "language": "python",
   "name": "python3"
  },
  "language_info": {
   "codemirror_mode": {
    "name": "ipython",
    "version": 3
   },
   "file_extension": ".py",
   "mimetype": "text/x-python",
   "name": "python",
   "nbconvert_exporter": "python",
   "pygments_lexer": "ipython3",
   "version": "3.12.0"
  }
 },
 "nbformat": 4,
 "nbformat_minor": 2
}
