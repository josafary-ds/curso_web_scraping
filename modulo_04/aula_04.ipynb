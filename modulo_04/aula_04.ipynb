{
 "cells": [
  {
   "cell_type": "code",
   "execution_count": 1,
   "metadata": {},
   "outputs": [],
   "source": [
    "from selenium import webdriver\n",
    "from selenium.webdriver.common.by import By\n",
    "from selenium.webdriver.support.ui import Select\n",
    "from selenium.webdriver.support.wait import WebDriverWait\n",
    "from selenium.webdriver.support import expected_conditions as EC\n",
    "\n",
    "driver = webdriver.Chrome()"
   ]
  },
  {
   "cell_type": "code",
   "execution_count": 2,
   "metadata": {},
   "outputs": [],
   "source": [
    "driver.get('http://localhost:8000/#/exemplo/7')"
   ]
  },
  {
   "cell_type": "code",
   "execution_count": 3,
   "metadata": {},
   "outputs": [],
   "source": [
    "driver.implicitly_wait(time_to_wait=10)"
   ]
  },
  {
   "cell_type": "code",
   "execution_count": 5,
   "metadata": {},
   "outputs": [
    {
     "data": {
      "text/plain": [
       "[<selenium.webdriver.remote.webelement.WebElement (session=\"b7979afdb5f8b4156e1553aad14029c6\", element=\"f.2B8730551C169160D94B70B0CDA44746.d.559E9A8882A8EF4E8395516988E762B2.e.168\")>,\n",
       " <selenium.webdriver.remote.webelement.WebElement (session=\"b7979afdb5f8b4156e1553aad14029c6\", element=\"f.2B8730551C169160D94B70B0CDA44746.d.559E9A8882A8EF4E8395516988E762B2.e.170\")>,\n",
       " <selenium.webdriver.remote.webelement.WebElement (session=\"b7979afdb5f8b4156e1553aad14029c6\", element=\"f.2B8730551C169160D94B70B0CDA44746.d.559E9A8882A8EF4E8395516988E762B2.e.172\")>,\n",
       " <selenium.webdriver.remote.webelement.WebElement (session=\"b7979afdb5f8b4156e1553aad14029c6\", element=\"f.2B8730551C169160D94B70B0CDA44746.d.559E9A8882A8EF4E8395516988E762B2.e.174\")>,\n",
       " <selenium.webdriver.remote.webelement.WebElement (session=\"b7979afdb5f8b4156e1553aad14029c6\", element=\"f.2B8730551C169160D94B70B0CDA44746.d.559E9A8882A8EF4E8395516988E762B2.e.176\")>,\n",
       " <selenium.webdriver.remote.webelement.WebElement (session=\"b7979afdb5f8b4156e1553aad14029c6\", element=\"f.2B8730551C169160D94B70B0CDA44746.d.559E9A8882A8EF4E8395516988E762B2.e.178\")>,\n",
       " <selenium.webdriver.remote.webelement.WebElement (session=\"b7979afdb5f8b4156e1553aad14029c6\", element=\"f.2B8730551C169160D94B70B0CDA44746.d.559E9A8882A8EF4E8395516988E762B2.e.180\")>,\n",
       " <selenium.webdriver.remote.webelement.WebElement (session=\"b7979afdb5f8b4156e1553aad14029c6\", element=\"f.2B8730551C169160D94B70B0CDA44746.d.559E9A8882A8EF4E8395516988E762B2.e.182\")>,\n",
       " <selenium.webdriver.remote.webelement.WebElement (session=\"b7979afdb5f8b4156e1553aad14029c6\", element=\"f.2B8730551C169160D94B70B0CDA44746.d.559E9A8882A8EF4E8395516988E762B2.e.184\")>,\n",
       " <selenium.webdriver.remote.webelement.WebElement (session=\"b7979afdb5f8b4156e1553aad14029c6\", element=\"f.2B8730551C169160D94B70B0CDA44746.d.559E9A8882A8EF4E8395516988E762B2.e.186\")>,\n",
       " <selenium.webdriver.remote.webelement.WebElement (session=\"b7979afdb5f8b4156e1553aad14029c6\", element=\"f.2B8730551C169160D94B70B0CDA44746.d.559E9A8882A8EF4E8395516988E762B2.e.188\")>,\n",
       " <selenium.webdriver.remote.webelement.WebElement (session=\"b7979afdb5f8b4156e1553aad14029c6\", element=\"f.2B8730551C169160D94B70B0CDA44746.d.559E9A8882A8EF4E8395516988E762B2.e.190\")>,\n",
       " <selenium.webdriver.remote.webelement.WebElement (session=\"b7979afdb5f8b4156e1553aad14029c6\", element=\"f.2B8730551C169160D94B70B0CDA44746.d.559E9A8882A8EF4E8395516988E762B2.e.192\")>,\n",
       " <selenium.webdriver.remote.webelement.WebElement (session=\"b7979afdb5f8b4156e1553aad14029c6\", element=\"f.2B8730551C169160D94B70B0CDA44746.d.559E9A8882A8EF4E8395516988E762B2.e.194\")>,\n",
       " <selenium.webdriver.remote.webelement.WebElement (session=\"b7979afdb5f8b4156e1553aad14029c6\", element=\"f.2B8730551C169160D94B70B0CDA44746.d.559E9A8882A8EF4E8395516988E762B2.e.196\")>,\n",
       " <selenium.webdriver.remote.webelement.WebElement (session=\"b7979afdb5f8b4156e1553aad14029c6\", element=\"f.2B8730551C169160D94B70B0CDA44746.d.559E9A8882A8EF4E8395516988E762B2.e.198\")>,\n",
       " <selenium.webdriver.remote.webelement.WebElement (session=\"b7979afdb5f8b4156e1553aad14029c6\", element=\"f.2B8730551C169160D94B70B0CDA44746.d.559E9A8882A8EF4E8395516988E762B2.e.200\")>,\n",
       " <selenium.webdriver.remote.webelement.WebElement (session=\"b7979afdb5f8b4156e1553aad14029c6\", element=\"f.2B8730551C169160D94B70B0CDA44746.d.559E9A8882A8EF4E8395516988E762B2.e.202\")>,\n",
       " <selenium.webdriver.remote.webelement.WebElement (session=\"b7979afdb5f8b4156e1553aad14029c6\", element=\"f.2B8730551C169160D94B70B0CDA44746.d.559E9A8882A8EF4E8395516988E762B2.e.204\")>,\n",
       " <selenium.webdriver.remote.webelement.WebElement (session=\"b7979afdb5f8b4156e1553aad14029c6\", element=\"f.2B8730551C169160D94B70B0CDA44746.d.559E9A8882A8EF4E8395516988E762B2.e.206\")>,\n",
       " <selenium.webdriver.remote.webelement.WebElement (session=\"b7979afdb5f8b4156e1553aad14029c6\", element=\"f.2B8730551C169160D94B70B0CDA44746.d.559E9A8882A8EF4E8395516988E762B2.e.208\")>,\n",
       " <selenium.webdriver.remote.webelement.WebElement (session=\"b7979afdb5f8b4156e1553aad14029c6\", element=\"f.2B8730551C169160D94B70B0CDA44746.d.559E9A8882A8EF4E8395516988E762B2.e.210\")>,\n",
       " <selenium.webdriver.remote.webelement.WebElement (session=\"b7979afdb5f8b4156e1553aad14029c6\", element=\"f.2B8730551C169160D94B70B0CDA44746.d.559E9A8882A8EF4E8395516988E762B2.e.212\")>,\n",
       " <selenium.webdriver.remote.webelement.WebElement (session=\"b7979afdb5f8b4156e1553aad14029c6\", element=\"f.2B8730551C169160D94B70B0CDA44746.d.559E9A8882A8EF4E8395516988E762B2.e.214\")>,\n",
       " <selenium.webdriver.remote.webelement.WebElement (session=\"b7979afdb5f8b4156e1553aad14029c6\", element=\"f.2B8730551C169160D94B70B0CDA44746.d.559E9A8882A8EF4E8395516988E762B2.e.216\")>,\n",
       " <selenium.webdriver.remote.webelement.WebElement (session=\"b7979afdb5f8b4156e1553aad14029c6\", element=\"f.2B8730551C169160D94B70B0CDA44746.d.559E9A8882A8EF4E8395516988E762B2.e.218\")>,\n",
       " <selenium.webdriver.remote.webelement.WebElement (session=\"b7979afdb5f8b4156e1553aad14029c6\", element=\"f.2B8730551C169160D94B70B0CDA44746.d.559E9A8882A8EF4E8395516988E762B2.e.220\")>,\n",
       " <selenium.webdriver.remote.webelement.WebElement (session=\"b7979afdb5f8b4156e1553aad14029c6\", element=\"f.2B8730551C169160D94B70B0CDA44746.d.559E9A8882A8EF4E8395516988E762B2.e.222\")>,\n",
       " <selenium.webdriver.remote.webelement.WebElement (session=\"b7979afdb5f8b4156e1553aad14029c6\", element=\"f.2B8730551C169160D94B70B0CDA44746.d.559E9A8882A8EF4E8395516988E762B2.e.224\")>,\n",
       " <selenium.webdriver.remote.webelement.WebElement (session=\"b7979afdb5f8b4156e1553aad14029c6\", element=\"f.2B8730551C169160D94B70B0CDA44746.d.559E9A8882A8EF4E8395516988E762B2.e.226\")>]"
      ]
     },
     "execution_count": 5,
     "metadata": {},
     "output_type": "execute_result"
    }
   ],
   "source": [
    "galeria = driver.find_element(By.ID, 'galeria')\n",
    "imagens = galeria.find_elements(By.TAG_NAME, 'img')\n",
    "imagens"
   ]
  },
  {
   "cell_type": "code",
   "execution_count": 6,
   "metadata": {},
   "outputs": [
    {
     "data": {
      "text/plain": [
       "[<selenium.webdriver.remote.webelement.WebElement (session=\"b7979afdb5f8b4156e1553aad14029c6\", element=\"f.2B8730551C169160D94B70B0CDA44746.d.559E9A8882A8EF4E8395516988E762B2.e.168\")>,\n",
       " <selenium.webdriver.remote.webelement.WebElement (session=\"b7979afdb5f8b4156e1553aad14029c6\", element=\"f.2B8730551C169160D94B70B0CDA44746.d.559E9A8882A8EF4E8395516988E762B2.e.170\")>,\n",
       " <selenium.webdriver.remote.webelement.WebElement (session=\"b7979afdb5f8b4156e1553aad14029c6\", element=\"f.2B8730551C169160D94B70B0CDA44746.d.559E9A8882A8EF4E8395516988E762B2.e.172\")>,\n",
       " <selenium.webdriver.remote.webelement.WebElement (session=\"b7979afdb5f8b4156e1553aad14029c6\", element=\"f.2B8730551C169160D94B70B0CDA44746.d.559E9A8882A8EF4E8395516988E762B2.e.174\")>,\n",
       " <selenium.webdriver.remote.webelement.WebElement (session=\"b7979afdb5f8b4156e1553aad14029c6\", element=\"f.2B8730551C169160D94B70B0CDA44746.d.559E9A8882A8EF4E8395516988E762B2.e.176\")>,\n",
       " <selenium.webdriver.remote.webelement.WebElement (session=\"b7979afdb5f8b4156e1553aad14029c6\", element=\"f.2B8730551C169160D94B70B0CDA44746.d.559E9A8882A8EF4E8395516988E762B2.e.178\")>,\n",
       " <selenium.webdriver.remote.webelement.WebElement (session=\"b7979afdb5f8b4156e1553aad14029c6\", element=\"f.2B8730551C169160D94B70B0CDA44746.d.559E9A8882A8EF4E8395516988E762B2.e.180\")>,\n",
       " <selenium.webdriver.remote.webelement.WebElement (session=\"b7979afdb5f8b4156e1553aad14029c6\", element=\"f.2B8730551C169160D94B70B0CDA44746.d.559E9A8882A8EF4E8395516988E762B2.e.182\")>,\n",
       " <selenium.webdriver.remote.webelement.WebElement (session=\"b7979afdb5f8b4156e1553aad14029c6\", element=\"f.2B8730551C169160D94B70B0CDA44746.d.559E9A8882A8EF4E8395516988E762B2.e.184\")>,\n",
       " <selenium.webdriver.remote.webelement.WebElement (session=\"b7979afdb5f8b4156e1553aad14029c6\", element=\"f.2B8730551C169160D94B70B0CDA44746.d.559E9A8882A8EF4E8395516988E762B2.e.186\")>,\n",
       " <selenium.webdriver.remote.webelement.WebElement (session=\"b7979afdb5f8b4156e1553aad14029c6\", element=\"f.2B8730551C169160D94B70B0CDA44746.d.559E9A8882A8EF4E8395516988E762B2.e.188\")>,\n",
       " <selenium.webdriver.remote.webelement.WebElement (session=\"b7979afdb5f8b4156e1553aad14029c6\", element=\"f.2B8730551C169160D94B70B0CDA44746.d.559E9A8882A8EF4E8395516988E762B2.e.190\")>,\n",
       " <selenium.webdriver.remote.webelement.WebElement (session=\"b7979afdb5f8b4156e1553aad14029c6\", element=\"f.2B8730551C169160D94B70B0CDA44746.d.559E9A8882A8EF4E8395516988E762B2.e.192\")>,\n",
       " <selenium.webdriver.remote.webelement.WebElement (session=\"b7979afdb5f8b4156e1553aad14029c6\", element=\"f.2B8730551C169160D94B70B0CDA44746.d.559E9A8882A8EF4E8395516988E762B2.e.194\")>,\n",
       " <selenium.webdriver.remote.webelement.WebElement (session=\"b7979afdb5f8b4156e1553aad14029c6\", element=\"f.2B8730551C169160D94B70B0CDA44746.d.559E9A8882A8EF4E8395516988E762B2.e.196\")>,\n",
       " <selenium.webdriver.remote.webelement.WebElement (session=\"b7979afdb5f8b4156e1553aad14029c6\", element=\"f.2B8730551C169160D94B70B0CDA44746.d.559E9A8882A8EF4E8395516988E762B2.e.198\")>,\n",
       " <selenium.webdriver.remote.webelement.WebElement (session=\"b7979afdb5f8b4156e1553aad14029c6\", element=\"f.2B8730551C169160D94B70B0CDA44746.d.559E9A8882A8EF4E8395516988E762B2.e.200\")>,\n",
       " <selenium.webdriver.remote.webelement.WebElement (session=\"b7979afdb5f8b4156e1553aad14029c6\", element=\"f.2B8730551C169160D94B70B0CDA44746.d.559E9A8882A8EF4E8395516988E762B2.e.202\")>,\n",
       " <selenium.webdriver.remote.webelement.WebElement (session=\"b7979afdb5f8b4156e1553aad14029c6\", element=\"f.2B8730551C169160D94B70B0CDA44746.d.559E9A8882A8EF4E8395516988E762B2.e.204\")>,\n",
       " <selenium.webdriver.remote.webelement.WebElement (session=\"b7979afdb5f8b4156e1553aad14029c6\", element=\"f.2B8730551C169160D94B70B0CDA44746.d.559E9A8882A8EF4E8395516988E762B2.e.206\")>,\n",
       " <selenium.webdriver.remote.webelement.WebElement (session=\"b7979afdb5f8b4156e1553aad14029c6\", element=\"f.2B8730551C169160D94B70B0CDA44746.d.559E9A8882A8EF4E8395516988E762B2.e.208\")>,\n",
       " <selenium.webdriver.remote.webelement.WebElement (session=\"b7979afdb5f8b4156e1553aad14029c6\", element=\"f.2B8730551C169160D94B70B0CDA44746.d.559E9A8882A8EF4E8395516988E762B2.e.210\")>,\n",
       " <selenium.webdriver.remote.webelement.WebElement (session=\"b7979afdb5f8b4156e1553aad14029c6\", element=\"f.2B8730551C169160D94B70B0CDA44746.d.559E9A8882A8EF4E8395516988E762B2.e.212\")>,\n",
       " <selenium.webdriver.remote.webelement.WebElement (session=\"b7979afdb5f8b4156e1553aad14029c6\", element=\"f.2B8730551C169160D94B70B0CDA44746.d.559E9A8882A8EF4E8395516988E762B2.e.214\")>,\n",
       " <selenium.webdriver.remote.webelement.WebElement (session=\"b7979afdb5f8b4156e1553aad14029c6\", element=\"f.2B8730551C169160D94B70B0CDA44746.d.559E9A8882A8EF4E8395516988E762B2.e.216\")>,\n",
       " <selenium.webdriver.remote.webelement.WebElement (session=\"b7979afdb5f8b4156e1553aad14029c6\", element=\"f.2B8730551C169160D94B70B0CDA44746.d.559E9A8882A8EF4E8395516988E762B2.e.218\")>,\n",
       " <selenium.webdriver.remote.webelement.WebElement (session=\"b7979afdb5f8b4156e1553aad14029c6\", element=\"f.2B8730551C169160D94B70B0CDA44746.d.559E9A8882A8EF4E8395516988E762B2.e.220\")>,\n",
       " <selenium.webdriver.remote.webelement.WebElement (session=\"b7979afdb5f8b4156e1553aad14029c6\", element=\"f.2B8730551C169160D94B70B0CDA44746.d.559E9A8882A8EF4E8395516988E762B2.e.222\")>,\n",
       " <selenium.webdriver.remote.webelement.WebElement (session=\"b7979afdb5f8b4156e1553aad14029c6\", element=\"f.2B8730551C169160D94B70B0CDA44746.d.559E9A8882A8EF4E8395516988E762B2.e.224\")>,\n",
       " <selenium.webdriver.remote.webelement.WebElement (session=\"b7979afdb5f8b4156e1553aad14029c6\", element=\"f.2B8730551C169160D94B70B0CDA44746.d.559E9A8882A8EF4E8395516988E762B2.e.226\")>]"
      ]
     },
     "execution_count": 6,
     "metadata": {},
     "output_type": "execute_result"
    }
   ],
   "source": [
    "imagens = driver.find_elements(By.CSS_SELECTOR, '#galeria img')\n",
    "imagens"
   ]
  },
  {
   "cell_type": "code",
   "execution_count": 7,
   "metadata": {},
   "outputs": [],
   "source": [
    "import urllib.request\n",
    "import os"
   ]
  },
  {
   "cell_type": "code",
   "execution_count": 11,
   "metadata": {},
   "outputs": [
    {
     "name": "stdout",
     "output_type": "stream",
     "text": [
      "imagem_0 https://picsum.photos/seed/vYgHE5/1920/1080\n",
      "imagem_1 https://picsum.photos/seed/UoZcjg/1920/1080\n",
      "imagem_2 https://picsum.photos/seed/7Yb5QKnO/1920/1080\n",
      "imagem_3 https://picsum.photos/seed/zRw80/1920/1080\n",
      "imagem_4 https://picsum.photos/seed/OWOgw0/1920/1080\n",
      "imagem_5 https://picsum.photos/seed/oMfuiq4/1920/1080\n",
      "imagem_6 https://picsum.photos/seed/lLAtzekju/1920/1080\n",
      "imagem_7 https://picsum.photos/seed/Nt2dO/1920/1080\n",
      "imagem_8 https://picsum.photos/seed/8Ns8kL/1920/1080\n",
      "imagem_9 https://picsum.photos/seed/Qt51Ism/1920/1080\n",
      "imagem_10 https://picsum.photos/seed/nIsQtrDe/1920/1080\n",
      "imagem_11 https://picsum.photos/seed/FZDJ6/1920/1080\n",
      "imagem_12 https://picsum.photos/seed/4qjEbC/1920/1080\n",
      "imagem_13 https://picsum.photos/seed/lGkj1B/1920/1080\n",
      "imagem_14 https://picsum.photos/seed/DSybzh/1920/1080\n",
      "imagem_15 https://picsum.photos/seed/ClaLa/1920/1080\n",
      "imagem_16 https://picsum.photos/seed/yTzptby/1920/1080\n",
      "imagem_17 https://picsum.photos/seed/Ejhy5r0/1920/1080\n",
      "imagem_18 https://picsum.photos/seed/PAF9OPJc/1920/1080\n",
      "imagem_19 https://picsum.photos/seed/jzWpUO4n/1920/1080\n",
      "imagem_20 https://picsum.photos/seed/pNS31rG7/1920/1080\n",
      "imagem_21 https://picsum.photos/seed/R1tIAD/1920/1080\n",
      "imagem_22 https://picsum.photos/seed/cBFPz/1920/1080\n",
      "imagem_23 https://picsum.photos/seed/681I9VYYM/1920/1080\n",
      "imagem_24 https://picsum.photos/seed/PLtd8iN6FV/1920/1080\n",
      "imagem_25 https://picsum.photos/seed/vsBxoz/1920/1080\n",
      "imagem_26 https://picsum.photos/seed/cda88Jdjcv/1920/1080\n",
      "imagem_27 https://picsum.photos/seed/4hIMsc/1920/1080\n",
      "imagem_28 https://picsum.photos/seed/EeID2Qna/1920/1080\n",
      "imagem_29 https://picsum.photos/seed/wCTR24q1iS/1920/1080\n"
     ]
    }
   ],
   "source": [
    "for img in imagens:\n",
    "    img_src = img.get_property('src')\n",
    "    img_id = img.get_property('id')\n",
    "\n",
    "    print(img_id, img_src)\n",
    "\n",
    "    if not os.path.exists('./imagens'):\n",
    "        os.mkdir('./imagens')\n",
    "\n",
    "    file = f'{img_id}.jpg'\n",
    "    file_path = os.path.join('./imagens', file)\n",
    "    urllib.request.urlretrieve(img_src, file_path)"
   ]
  },
  {
   "cell_type": "code",
   "execution_count": null,
   "metadata": {},
   "outputs": [],
   "source": []
  }
 ],
 "metadata": {
  "kernelspec": {
   "display_name": "Python 3",
   "language": "python",
   "name": "python3"
  },
  "language_info": {
   "codemirror_mode": {
    "name": "ipython",
    "version": 3
   },
   "file_extension": ".py",
   "mimetype": "text/x-python",
   "name": "python",
   "nbconvert_exporter": "python",
   "pygments_lexer": "ipython3",
   "version": "3.12.0"
  }
 },
 "nbformat": 4,
 "nbformat_minor": 2
}
