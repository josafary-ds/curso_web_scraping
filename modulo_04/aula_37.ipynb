{
 "cells": [
  {
   "cell_type": "markdown",
   "metadata": {},
   "source": [
    "# Capturando atributos dos elementos"
   ]
  },
  {
   "cell_type": "code",
   "execution_count": 1,
   "metadata": {},
   "outputs": [],
   "source": [
    "from selenium import webdriver\n",
    "from selenium.webdriver.common.by import By\n",
    "from selenium.webdriver.support.ui import Select\n",
    "from selenium.webdriver.support.wait import WebDriverWait\n",
    "from selenium.webdriver.support import expected_conditions as EC\n",
    "\n",
    "driver = webdriver.Chrome()"
   ]
  },
  {
   "cell_type": "code",
   "execution_count": 2,
   "metadata": {},
   "outputs": [],
   "source": [
    "driver.get('http://localhost:8000/#/exemplo/6')"
   ]
  },
  {
   "cell_type": "code",
   "execution_count": 3,
   "metadata": {},
   "outputs": [],
   "source": [
    "driver.implicitly_wait(time_to_wait=10)"
   ]
  },
  {
   "cell_type": "code",
   "execution_count": 4,
   "metadata": {},
   "outputs": [],
   "source": [
    "estados = driver.find_element(By.ID, 'estados')"
   ]
  },
  {
   "cell_type": "markdown",
   "metadata": {},
   "source": [
    "## Atributos"
   ]
  },
  {
   "cell_type": "code",
   "execution_count": 7,
   "metadata": {},
   "outputs": [
    {
     "name": "stdout",
     "output_type": "stream",
     "text": [
      "flex flex-wrap justify-start lg:mx-auto gap-8 text-left\n",
      "estados\n"
     ]
    }
   ],
   "source": [
    "print(estados.get_attribute('class'))\n",
    "print(estados.get_attribute('id'))"
   ]
  },
  {
   "cell_type": "markdown",
   "metadata": {},
   "source": [
    "## Propriedades"
   ]
  },
  {
   "cell_type": "code",
   "execution_count": 9,
   "metadata": {},
   "outputs": [
    {
     "name": "stdout",
     "output_type": "stream",
     "text": [
      "flex flex-wrap justify-start lg:mx-auto gap-8 text-left\n",
      "estados\n"
     ]
    }
   ],
   "source": [
    "print(estados.get_property('className'))\n",
    "print(estados.get_property('id'))"
   ]
  },
  {
   "cell_type": "code",
   "execution_count": 12,
   "metadata": {},
   "outputs": [
    {
     "data": {
      "text/plain": [
       "[<selenium.webdriver.remote.webelement.WebElement (session=\"1b72309051e105e0d965a029a7957a14\", element=\"f.0848EE2BBE52CEFFB6EB5031BF35024B.d.74771686CCF06272CE07DEC285B07943.e.226\")>,\n",
       " <selenium.webdriver.remote.webelement.WebElement (session=\"1b72309051e105e0d965a029a7957a14\", element=\"f.0848EE2BBE52CEFFB6EB5031BF35024B.d.74771686CCF06272CE07DEC285B07943.e.240\")>,\n",
       " <selenium.webdriver.remote.webelement.WebElement (session=\"1b72309051e105e0d965a029a7957a14\", element=\"f.0848EE2BBE52CEFFB6EB5031BF35024B.d.74771686CCF06272CE07DEC285B07943.e.269\")>,\n",
       " <selenium.webdriver.remote.webelement.WebElement (session=\"1b72309051e105e0d965a029a7957a14\", element=\"f.0848EE2BBE52CEFFB6EB5031BF35024B.d.74771686CCF06272CE07DEC285B07943.e.292\")>,\n",
       " <selenium.webdriver.remote.webelement.WebElement (session=\"1b72309051e105e0d965a029a7957a14\", element=\"f.0848EE2BBE52CEFFB6EB5031BF35024B.d.74771686CCF06272CE07DEC285B07943.e.306\")>]"
      ]
     },
     "execution_count": 12,
     "metadata": {},
     "output_type": "execute_result"
    }
   ],
   "source": [
    "# Equivalente ao seletor CSS 'estados > div'\n",
    "children = estados.get_property('children')\n",
    "children"
   ]
  },
  {
   "cell_type": "code",
   "execution_count": 13,
   "metadata": {},
   "outputs": [
    {
     "name": "stdout",
     "output_type": "stream",
     "text": [
      "Região Centro-Oeste\n",
      "Distrito Federal\n",
      "Goiás\n",
      "Mato Grosso\n",
      "Mato Grosso do Sul\n",
      "Região Nordeste\n",
      "Alagoas\n",
      "Bahia\n",
      "Ceará\n",
      "Maranhão\n",
      "Paraíba\n",
      "Pernambuco\n",
      "Piauí\n",
      "Rio Grande do Norte\n",
      "Sergipe\n",
      "Região Norte\n",
      "Acre\n",
      "Amapá\n",
      "Amazonas\n",
      "Pará\n",
      "Rondônia\n",
      "Roraima\n",
      "Tocantis\n",
      "Região Sudeste\n",
      "Espírito Santo\n",
      "Minas Gerais\n",
      "Rio de Janeiro\n",
      "São Paulo\n",
      "Região Sul\n",
      "Paraná\n",
      "Rio Grande do Sul\n",
      "Santa Catarina\n"
     ]
    }
   ],
   "source": [
    "for child in children:\n",
    "    print(child.text)"
   ]
  },
  {
   "cell_type": "code",
   "execution_count": 15,
   "metadata": {},
   "outputs": [
    {
     "name": "stdout",
     "output_type": "stream",
     "text": [
      "Região Centro-Oeste\n",
      "\t - Distrito Federal\n",
      "\t - Goiás\n",
      "\t - Mato Grosso\n",
      "\t - Mato Grosso do Sul\n",
      "Região Nordeste\n",
      "\t - Alagoas\n",
      "\t - Bahia\n",
      "\t - Ceará\n",
      "\t - Maranhão\n",
      "\t - Paraíba\n",
      "\t - Pernambuco\n",
      "\t - Piauí\n",
      "\t - Rio Grande do Norte\n",
      "\t - Sergipe\n",
      "Região Norte\n",
      "\t - Acre\n",
      "\t - Amapá\n",
      "\t - Amazonas\n",
      "\t - Pará\n",
      "\t - Rondônia\n",
      "\t - Roraima\n",
      "\t - Tocantis\n",
      "Região Sudeste\n",
      "\t - Espírito Santo\n",
      "\t - Minas Gerais\n",
      "\t - Rio de Janeiro\n",
      "\t - São Paulo\n",
      "Região Sul\n",
      "\t - Paraná\n",
      "\t - Rio Grande do Sul\n",
      "\t - Santa Catarina\n"
     ]
    }
   ],
   "source": [
    "for child in children:\n",
    "    cchild = child.get_property('children')\n",
    "\n",
    "    for cc in cchild:\n",
    "        if cc.tag_name == 'label':\n",
    "            print(cc.text)\n",
    "\n",
    "        if cc.tag_name == 'div':\n",
    "            print('\\t -', cc.text)"
   ]
  },
  {
   "cell_type": "code",
   "execution_count": 16,
   "metadata": {},
   "outputs": [
    {
     "data": {
      "text/plain": [
       "{'country': 'Brasil',\n",
       " 'language': 'Português',\n",
       " 'location': 'América do Sul',\n",
       " 'timezone': 'UTC-3'}"
      ]
     },
     "execution_count": 16,
     "metadata": {},
     "output_type": "execute_result"
    }
   ],
   "source": [
    "# Todo componente html que começa com \"data-...\", é armazenado na propriedade \"dataset\" do DOM\n",
    "estados.get_property('dataset')"
   ]
  },
  {
   "cell_type": "code",
   "execution_count": 17,
   "metadata": {},
   "outputs": [
    {
     "data": {
      "text/plain": [
       "'Brasil'"
      ]
     },
     "execution_count": 17,
     "metadata": {},
     "output_type": "execute_result"
    }
   ],
   "source": [
    "estados.get_property('dataset')['country']"
   ]
  },
  {
   "cell_type": "code",
   "execution_count": 19,
   "metadata": {},
   "outputs": [
    {
     "data": {
      "text/html": [
       "<div id=\"estados\" data-country=\"Brasil\" data-timezone=\"UTC-3\" data-language=\"Português\" data-location=\"América do Sul\" class=\"flex flex-wrap justify-start lg:mx-auto gap-8 text-left\"><div data-index=\"0\" class=\"w-40\"><label class=\"block text-sm font-medium leading-6 text-gray-700 dark:text-white text-left \">Região Centro-Oeste</label><div aria-description=\"Região Centro-Oeste\" class=\"flex items-center my-2\"><button type=\"button\" role=\"checkbox\" aria-checked=\"false\" data-state=\"unchecked\" value=\"on\" id=\"Região Centro-Oeste_0\" class=\"CheckboxRoot\"></button><label class=\"block text-sm font-medium leading-6 text-gray-700 dark:text-white text-left Label\" for=\"Região Centro-Oeste_0\">Distrito Federal</label></div><div aria-description=\"Região Centro-Oeste\" class=\"flex items-center my-2\"><button type=\"button\" role=\"checkbox\" aria-checked=\"false\" data-state=\"unchecked\" value=\"on\" id=\"Região Centro-Oeste_1\" class=\"CheckboxRoot\"></button><label class=\"block text-sm font-medium leading-6 text-gray-700 dark:text-white text-left Label\" for=\"Região Centro-Oeste_1\">Goiás</label></div><div aria-description=\"Região Centro-Oeste\" class=\"flex items-center my-2\"><button type=\"button\" role=\"checkbox\" aria-checked=\"false\" data-state=\"unchecked\" value=\"on\" id=\"Região Centro-Oeste_2\" class=\"CheckboxRoot\"></button><label class=\"block text-sm font-medium leading-6 text-gray-700 dark:text-white text-left Label\" for=\"Região Centro-Oeste_2\">Mato Grosso</label></div><div aria-description=\"Região Centro-Oeste\" class=\"flex items-center my-2\"><button type=\"button\" role=\"checkbox\" aria-checked=\"false\" data-state=\"unchecked\" value=\"on\" id=\"Região Centro-Oeste_3\" class=\"CheckboxRoot\"></button><label class=\"block text-sm font-medium leading-6 text-gray-700 dark:text-white text-left Label\" for=\"Região Centro-Oeste_3\">Mato Grosso do Sul</label></div></div><div data-index=\"1\" class=\"w-40\"><label class=\"block text-sm font-medium leading-6 text-gray-700 dark:text-white text-left \">Região Nordeste</label><div aria-description=\"Região Nordeste\" class=\"flex items-center my-2\"><button type=\"button\" role=\"checkbox\" aria-checked=\"false\" data-state=\"unchecked\" value=\"on\" id=\"Região Nordeste_0\" class=\"CheckboxRoot\"></button><label class=\"block text-sm font-medium leading-6 text-gray-700 dark:text-white text-left Label\" for=\"Região Nordeste_0\">Alagoas</label></div><div aria-description=\"Região Nordeste\" class=\"flex items-center my-2\"><button type=\"button\" role=\"checkbox\" aria-checked=\"false\" data-state=\"unchecked\" value=\"on\" id=\"Região Nordeste_1\" class=\"CheckboxRoot\"></button><label class=\"block text-sm font-medium leading-6 text-gray-700 dark:text-white text-left Label\" for=\"Região Nordeste_1\">Bahia</label></div><div aria-description=\"Região Nordeste\" class=\"flex items-center my-2\"><button type=\"button\" role=\"checkbox\" aria-checked=\"false\" data-state=\"unchecked\" value=\"on\" id=\"Região Nordeste_2\" class=\"CheckboxRoot\"></button><label class=\"block text-sm font-medium leading-6 text-gray-700 dark:text-white text-left Label\" for=\"Região Nordeste_2\">Ceará</label></div><div aria-description=\"Região Nordeste\" class=\"flex items-center my-2\"><button type=\"button\" role=\"checkbox\" aria-checked=\"false\" data-state=\"unchecked\" value=\"on\" id=\"Região Nordeste_3\" class=\"CheckboxRoot\"></button><label class=\"block text-sm font-medium leading-6 text-gray-700 dark:text-white text-left Label\" for=\"Região Nordeste_3\">Maranhão</label></div><div aria-description=\"Região Nordeste\" class=\"flex items-center my-2\"><button type=\"button\" role=\"checkbox\" aria-checked=\"false\" data-state=\"unchecked\" value=\"on\" id=\"Região Nordeste_4\" class=\"CheckboxRoot\"></button><label class=\"block text-sm font-medium leading-6 text-gray-700 dark:text-white text-left Label\" for=\"Região Nordeste_4\">Paraíba</label></div><div aria-description=\"Região Nordeste\" class=\"flex items-center my-2\"><button type=\"button\" role=\"checkbox\" aria-checked=\"false\" data-state=\"unchecked\" value=\"on\" id=\"Região Nordeste_5\" class=\"CheckboxRoot\"></button><label class=\"block text-sm font-medium leading-6 text-gray-700 dark:text-white text-left Label\" for=\"Região Nordeste_5\">Pernambuco</label></div><div aria-description=\"Região Nordeste\" class=\"flex items-center my-2\"><button type=\"button\" role=\"checkbox\" aria-checked=\"false\" data-state=\"unchecked\" value=\"on\" id=\"Região Nordeste_6\" class=\"CheckboxRoot\"></button><label class=\"block text-sm font-medium leading-6 text-gray-700 dark:text-white text-left Label\" for=\"Região Nordeste_6\">Piauí</label></div><div aria-description=\"Região Nordeste\" class=\"flex items-center my-2\"><button type=\"button\" role=\"checkbox\" aria-checked=\"false\" data-state=\"unchecked\" value=\"on\" id=\"Região Nordeste_7\" class=\"CheckboxRoot\"></button><label class=\"block text-sm font-medium leading-6 text-gray-700 dark:text-white text-left Label\" for=\"Região Nordeste_7\">Rio Grande do Norte</label></div><div aria-description=\"Região Nordeste\" class=\"flex items-center my-2\"><button type=\"button\" role=\"checkbox\" aria-checked=\"false\" data-state=\"unchecked\" value=\"on\" id=\"Região Nordeste_8\" class=\"CheckboxRoot\"></button><label class=\"block text-sm font-medium leading-6 text-gray-700 dark:text-white text-left Label\" for=\"Região Nordeste_8\">Sergipe</label></div></div><div data-index=\"2\" class=\"w-40\"><label class=\"block text-sm font-medium leading-6 text-gray-700 dark:text-white text-left \">Região Norte</label><div aria-description=\"Região Norte\" class=\"flex items-center my-2\"><button type=\"button\" role=\"checkbox\" aria-checked=\"false\" data-state=\"unchecked\" value=\"on\" id=\"Região Norte_0\" class=\"CheckboxRoot\"></button><label class=\"block text-sm font-medium leading-6 text-gray-700 dark:text-white text-left Label\" for=\"Região Norte_0\">Acre</label></div><div aria-description=\"Região Norte\" class=\"flex items-center my-2\"><button type=\"button\" role=\"checkbox\" aria-checked=\"false\" data-state=\"unchecked\" value=\"on\" id=\"Região Norte_1\" class=\"CheckboxRoot\"></button><label class=\"block text-sm font-medium leading-6 text-gray-700 dark:text-white text-left Label\" for=\"Região Norte_1\">Amapá</label></div><div aria-description=\"Região Norte\" class=\"flex items-center my-2\"><button type=\"button\" role=\"checkbox\" aria-checked=\"false\" data-state=\"unchecked\" value=\"on\" id=\"Região Norte_2\" class=\"CheckboxRoot\"></button><label class=\"block text-sm font-medium leading-6 text-gray-700 dark:text-white text-left Label\" for=\"Região Norte_2\">Amazonas</label></div><div aria-description=\"Região Norte\" class=\"flex items-center my-2\"><button type=\"button\" role=\"checkbox\" aria-checked=\"false\" data-state=\"unchecked\" value=\"on\" id=\"Região Norte_3\" class=\"CheckboxRoot\"></button><label class=\"block text-sm font-medium leading-6 text-gray-700 dark:text-white text-left Label\" for=\"Região Norte_3\">Pará</label></div><div aria-description=\"Região Norte\" class=\"flex items-center my-2\"><button type=\"button\" role=\"checkbox\" aria-checked=\"false\" data-state=\"unchecked\" value=\"on\" id=\"Região Norte_4\" class=\"CheckboxRoot\"></button><label class=\"block text-sm font-medium leading-6 text-gray-700 dark:text-white text-left Label\" for=\"Região Norte_4\">Rondônia</label></div><div aria-description=\"Região Norte\" class=\"flex items-center my-2\"><button type=\"button\" role=\"checkbox\" aria-checked=\"false\" data-state=\"unchecked\" value=\"on\" id=\"Região Norte_5\" class=\"CheckboxRoot\"></button><label class=\"block text-sm font-medium leading-6 text-gray-700 dark:text-white text-left Label\" for=\"Região Norte_5\">Roraima</label></div><div aria-description=\"Região Norte\" class=\"flex items-center my-2\"><button type=\"button\" role=\"checkbox\" aria-checked=\"false\" data-state=\"unchecked\" value=\"on\" id=\"Região Norte_6\" class=\"CheckboxRoot\"></button><label class=\"block text-sm font-medium leading-6 text-gray-700 dark:text-white text-left Label\" for=\"Região Norte_6\">Tocantis</label></div></div><div data-index=\"3\" class=\"w-40\"><label class=\"block text-sm font-medium leading-6 text-gray-700 dark:text-white text-left \">Região Sudeste</label><div aria-description=\"Região Sudeste\" class=\"flex items-center my-2\"><button type=\"button\" role=\"checkbox\" aria-checked=\"false\" data-state=\"unchecked\" value=\"on\" id=\"Região Sudeste_0\" class=\"CheckboxRoot\"></button><label class=\"block text-sm font-medium leading-6 text-gray-700 dark:text-white text-left Label\" for=\"Região Sudeste_0\">Espírito Santo</label></div><div aria-description=\"Região Sudeste\" class=\"flex items-center my-2\"><button type=\"button\" role=\"checkbox\" aria-checked=\"false\" data-state=\"unchecked\" value=\"on\" id=\"Região Sudeste_1\" class=\"CheckboxRoot\"></button><label class=\"block text-sm font-medium leading-6 text-gray-700 dark:text-white text-left Label\" for=\"Região Sudeste_1\">Minas Gerais</label></div><div aria-description=\"Região Sudeste\" class=\"flex items-center my-2\"><button type=\"button\" role=\"checkbox\" aria-checked=\"false\" data-state=\"unchecked\" value=\"on\" id=\"Região Sudeste_2\" class=\"CheckboxRoot\"></button><label class=\"block text-sm font-medium leading-6 text-gray-700 dark:text-white text-left Label\" for=\"Região Sudeste_2\">Rio de Janeiro</label></div><div aria-description=\"Região Sudeste\" class=\"flex items-center my-2\"><button type=\"button\" role=\"checkbox\" aria-checked=\"false\" data-state=\"unchecked\" value=\"on\" id=\"Região Sudeste_3\" class=\"CheckboxRoot\"></button><label class=\"block text-sm font-medium leading-6 text-gray-700 dark:text-white text-left Label\" for=\"Região Sudeste_3\">São Paulo</label></div></div><div data-index=\"4\" class=\"w-40\"><label class=\"block text-sm font-medium leading-6 text-gray-700 dark:text-white text-left \">Região Sul</label><div aria-description=\"Região Sul\" class=\"flex items-center my-2\"><button type=\"button\" role=\"checkbox\" aria-checked=\"false\" data-state=\"unchecked\" value=\"on\" id=\"Região Sul_0\" class=\"CheckboxRoot\"></button><label class=\"block text-sm font-medium leading-6 text-gray-700 dark:text-white text-left Label\" for=\"Região Sul_0\">Paraná</label></div><div aria-description=\"Região Sul\" class=\"flex items-center my-2\"><button type=\"button\" role=\"checkbox\" aria-checked=\"false\" data-state=\"unchecked\" value=\"on\" id=\"Região Sul_1\" class=\"CheckboxRoot\"></button><label class=\"block text-sm font-medium leading-6 text-gray-700 dark:text-white text-left Label\" for=\"Região Sul_1\">Rio Grande do Sul</label></div><div aria-description=\"Região Sul\" class=\"flex items-center my-2\"><button type=\"button\" role=\"checkbox\" aria-checked=\"false\" data-state=\"unchecked\" value=\"on\" id=\"Região Sul_2\" class=\"CheckboxRoot\"></button><label class=\"block text-sm font-medium leading-6 text-gray-700 dark:text-white text-left Label\" for=\"Região Sul_2\">Santa Catarina</label></div></div></div>"
      ],
      "text/plain": [
       "<IPython.core.display.HTML object>"
      ]
     },
     "execution_count": 19,
     "metadata": {},
     "output_type": "execute_result"
    }
   ],
   "source": [
    "from IPython.display import HTML\n",
    "\n",
    "HTML(estados.get_property('outerHTML'))\n",
    "# Muito útil para verificar se o componente que selecionamos é o correto."
   ]
  },
  {
   "cell_type": "markdown",
   "metadata": {},
   "source": [
    "## Tamanho"
   ]
  },
  {
   "cell_type": "code",
   "execution_count": 22,
   "metadata": {},
   "outputs": [
    {
     "data": {
      "text/plain": [
       "{'height': 552, 'width': 710}"
      ]
     },
     "execution_count": 22,
     "metadata": {},
     "output_type": "execute_result"
    }
   ],
   "source": [
    "estados.size"
   ]
  },
  {
   "cell_type": "markdown",
   "metadata": {},
   "source": [
    "## Localização"
   ]
  },
  {
   "cell_type": "code",
   "execution_count": 23,
   "metadata": {},
   "outputs": [
    {
     "data": {
      "text/plain": [
       "{'x': 201, 'y': 132}"
      ]
     },
     "execution_count": 23,
     "metadata": {},
     "output_type": "execute_result"
    }
   ],
   "source": [
    "estados.location"
   ]
  },
  {
   "cell_type": "markdown",
   "metadata": {},
   "source": [
    "## Tamanho e Localização juntos"
   ]
  },
  {
   "cell_type": "code",
   "execution_count": 24,
   "metadata": {},
   "outputs": [
    {
     "data": {
      "text/plain": [
       "{'height': 552, 'width': 710, 'x': 200.703125, 'y': 132}"
      ]
     },
     "execution_count": 24,
     "metadata": {},
     "output_type": "execute_result"
    }
   ],
   "source": [
    "estados.rect"
   ]
  },
  {
   "cell_type": "markdown",
   "metadata": {},
   "source": [
    "## Valor do CSS"
   ]
  },
  {
   "cell_type": "code",
   "execution_count": 25,
   "metadata": {},
   "outputs": [
    {
     "data": {
      "text/plain": [
       "'solid'"
      ]
     },
     "execution_count": 25,
     "metadata": {},
     "output_type": "execute_result"
    }
   ],
   "source": [
    "estados.value_of_css_property('border-bottom-style')"
   ]
  },
  {
   "cell_type": "code",
   "execution_count": 26,
   "metadata": {},
   "outputs": [
    {
     "data": {
      "text/plain": [
       "'400'"
      ]
     },
     "execution_count": 26,
     "metadata": {},
     "output_type": "execute_result"
    }
   ],
   "source": [
    "estados.value_of_css_property('font-weight')"
   ]
  },
  {
   "cell_type": "markdown",
   "metadata": {},
   "source": [
    "## Nome da tag"
   ]
  },
  {
   "cell_type": "code",
   "execution_count": 27,
   "metadata": {},
   "outputs": [
    {
     "data": {
      "text/plain": [
       "'div'"
      ]
     },
     "execution_count": 27,
     "metadata": {},
     "output_type": "execute_result"
    }
   ],
   "source": [
    "estados.tag_name"
   ]
  },
  {
   "cell_type": "code",
   "execution_count": 30,
   "metadata": {},
   "outputs": [
    {
     "name": "stdout",
     "output_type": "stream",
     "text": [
      "div\n",
      " - div\n",
      " - div\n",
      " - div\n",
      " - div\n",
      " - div\n"
     ]
    }
   ],
   "source": [
    "print(estados.tag_name)\n",
    "\n",
    "for estado in estados.get_property('children'):\n",
    "    print(' -', estado.tag_name)"
   ]
  },
  {
   "cell_type": "code",
   "execution_count": null,
   "metadata": {},
   "outputs": [],
   "source": []
  }
 ],
 "metadata": {
  "kernelspec": {
   "display_name": "Python 3",
   "language": "python",
   "name": "python3"
  },
  "language_info": {
   "codemirror_mode": {
    "name": "ipython",
    "version": 3
   },
   "file_extension": ".py",
   "mimetype": "text/x-python",
   "name": "python",
   "nbconvert_exporter": "python",
   "pygments_lexer": "ipython3",
   "version": "3.12.0"
  }
 },
 "nbformat": 4,
 "nbformat_minor": 2
}
