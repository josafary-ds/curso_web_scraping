{
 "cells": [
  {
   "cell_type": "markdown",
   "metadata": {},
   "source": [
    "# Wait: aguardando componentes"
   ]
  },
  {
   "cell_type": "code",
   "execution_count": 3,
   "metadata": {},
   "outputs": [],
   "source": [
    "from selenium import webdriver\n",
    "from selenium.webdriver.common.by import By\n",
    "from selenium.webdriver.support.ui import Select\n",
    "\n",
    "driver = webdriver.Chrome()"
   ]
  },
  {
   "cell_type": "code",
   "execution_count": 4,
   "metadata": {},
   "outputs": [],
   "source": [
    "driver.get('http://localhost:8000/#/exemplo/4')"
   ]
  },
  {
   "cell_type": "code",
   "execution_count": 7,
   "metadata": {},
   "outputs": [],
   "source": [
    "from selenium.webdriver.support.wait import WebDriverWait\n",
    "from selenium.webdriver.support import expected_conditions as EC"
   ]
  },
  {
   "cell_type": "markdown",
   "metadata": {},
   "source": [
    "### Tempo limite que ele deve aguardar até levantar uma exceção (timeout)"
   ]
  },
  {
   "cell_type": "code",
   "execution_count": 8,
   "metadata": {},
   "outputs": [],
   "source": [
    "wait = WebDriverWait(driver=driver, timeout=5)"
   ]
  },
  {
   "cell_type": "code",
   "execution_count": 10,
   "metadata": {},
   "outputs": [
    {
     "data": {
      "text/plain": [
       "[<selenium.webdriver.remote.webelement.WebElement (session=\"deb2c0a46207bc70376d5006d6a75857\", element=\"f.5D01C2342FDE83ADC088F4CBC0E1BB83.d.60047E20DB1254CF9B41F2FD73068288.e.716\")>]"
      ]
     },
     "execution_count": 10,
     "metadata": {},
     "output_type": "execute_result"
    }
   ],
   "source": [
    "driver.refresh()\n",
    "wait.until(EC.presence_of_all_elements_located(locator=(By.ID, 'vantagens')))"
   ]
  },
  {
   "cell_type": "markdown",
   "metadata": {},
   "source": [
    "### Tempo entre cada verificação (poll_frequency)"
   ]
  },
  {
   "cell_type": "code",
   "execution_count": 11,
   "metadata": {},
   "outputs": [
    {
     "data": {
      "text/plain": [
       "[<selenium.webdriver.remote.webelement.WebElement (session=\"deb2c0a46207bc70376d5006d6a75857\", element=\"f.5D01C2342FDE83ADC088F4CBC0E1BB83.d.4AB803EDD38E997B42F5140DEA4C3856.e.935\")>]"
      ]
     },
     "execution_count": 11,
     "metadata": {},
     "output_type": "execute_result"
    }
   ],
   "source": [
    "driver.refresh()\n",
    "wait = WebDriverWait(driver=driver, timeout=10, poll_frequency=5)\n",
    "wait.until(EC.presence_of_all_elements_located(locator=(By.ID, 'vantagens')))"
   ]
  },
  {
   "cell_type": "markdown",
   "metadata": {},
   "source": [
    "### Tratamento de exceptions"
   ]
  },
  {
   "cell_type": "code",
   "execution_count": 13,
   "metadata": {},
   "outputs": [
    {
     "name": "stdout",
     "output_type": "stream",
     "text": [
      "Message: Componente de ID não encontrado!\n",
      "\n"
     ]
    }
   ],
   "source": [
    "driver.refresh()\n",
    "wait = WebDriverWait(driver=driver, timeout=2)\n",
    "\n",
    "try:\n",
    "    wait.until(\n",
    "        method=EC.presence_of_all_elements_located(locator=(By.ID, 'vantagens')),\n",
    "        message='Componente de ID não encontrado!')\n",
    "    \n",
    "except Exception as e:\n",
    "    print(e)"
   ]
  },
  {
   "cell_type": "markdown",
   "metadata": {},
   "source": [
    "### Exemplos de uso\n",
    "\n",
    "- Lojas com tabelas de produtos\n",
    "- Internet lenta\n",
    "- Alta latência"
   ]
  },
  {
   "cell_type": "code",
   "execution_count": null,
   "metadata": {},
   "outputs": [],
   "source": [
    "driver.implicitly_wait(time_to_wait=5)\n",
    "\n",
    "driver.refresh()\n",
    "driver.find_element(By.ID, 'vantagens')"
   ]
  }
 ],
 "metadata": {
  "kernelspec": {
   "display_name": "Python 3",
   "language": "python",
   "name": "python3"
  },
  "language_info": {
   "codemirror_mode": {
    "name": "ipython",
    "version": 3
   },
   "file_extension": ".py",
   "mimetype": "text/x-python",
   "name": "python",
   "nbconvert_exporter": "python",
   "pygments_lexer": "ipython3",
   "version": "3.12.0"
  }
 },
 "nbformat": 4,
 "nbformat_minor": 2
}
