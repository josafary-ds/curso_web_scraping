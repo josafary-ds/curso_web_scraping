{
 "cells": [
  {
   "cell_type": "code",
   "execution_count": 16,
   "metadata": {},
   "outputs": [],
   "source": [
    "import pandas as pd\n",
    "from selenium import webdriver\n",
    "from selenium.webdriver.common.by import By\n",
    "from selenium.webdriver.support.ui import Select\n",
    "from selenium.webdriver.support.wait import WebDriverWait\n",
    "from selenium.webdriver.support import expected_conditions as EC\n",
    "\n",
    "driver = webdriver.Chrome()"
   ]
  },
  {
   "cell_type": "code",
   "execution_count": 17,
   "metadata": {},
   "outputs": [],
   "source": [
    "driver.get('http://localhost:8000/#/desafio/2')"
   ]
  },
  {
   "cell_type": "markdown",
   "metadata": {},
   "source": [
    "## Criando a lógica"
   ]
  },
  {
   "cell_type": "code",
   "execution_count": 33,
   "metadata": {},
   "outputs": [
    {
     "data": {
      "text/plain": [
       "['Dalton', 'Ana', 'Maria', 'João', 'Leonardo', 'Talita', 'Rafael']"
      ]
     },
     "execution_count": 33,
     "metadata": {},
     "output_type": "execute_result"
    }
   ],
   "source": [
    "file = pd.read_json('desafio_2_dados.json')\n",
    "file = file[0].tolist()\n",
    "file"
   ]
  },
  {
   "cell_type": "code",
   "execution_count": 19,
   "metadata": {},
   "outputs": [],
   "source": [
    "driver.implicitly_wait(time_to_wait=10)"
   ]
  },
  {
   "cell_type": "code",
   "execution_count": 34,
   "metadata": {},
   "outputs": [
    {
     "data": {
      "text/plain": [
       "'Dalton'"
      ]
     },
     "execution_count": 34,
     "metadata": {},
     "output_type": "execute_result"
    }
   ],
   "source": [
    "usuario = file[0]\n",
    "usuario"
   ]
  },
  {
   "cell_type": "code",
   "execution_count": 36,
   "metadata": {},
   "outputs": [],
   "source": [
    "entrada = driver.find_element(By.CSS_SELECTOR, 'main input[type=\"text\"]')\n",
    "entrada.clear()\n",
    "entrada.send_keys(usuario)"
   ]
  },
  {
   "cell_type": "code",
   "execution_count": 37,
   "metadata": {},
   "outputs": [],
   "source": [
    "botao = driver.find_element(By.CSS_SELECTOR, 'main button')\n",
    "wait = WebDriverWait(driver=driver, timeout=5, poll_frequency=1)\n",
    "wait.until(EC.element_to_be_clickable(mark=botao))\n",
    "botao.click()"
   ]
  },
  {
   "cell_type": "code",
   "execution_count": 38,
   "metadata": {},
   "outputs": [
    {
     "data": {
      "text/plain": [
       "[<selenium.webdriver.remote.webelement.WebElement (session=\"1e92d33e0504a12c4b9565a07fb4c058\", element=\"f.9183D9AC88CBA3766E88B6B34FF84DCD.d.E18EF30A7EA3FF42DEA259393D0B9336.e.418\")>,\n",
       " <selenium.webdriver.remote.webelement.WebElement (session=\"1e92d33e0504a12c4b9565a07fb4c058\", element=\"f.9183D9AC88CBA3766E88B6B34FF84DCD.d.E18EF30A7EA3FF42DEA259393D0B9336.e.432\")>,\n",
       " <selenium.webdriver.remote.webelement.WebElement (session=\"1e92d33e0504a12c4b9565a07fb4c058\", element=\"f.9183D9AC88CBA3766E88B6B34FF84DCD.d.E18EF30A7EA3FF42DEA259393D0B9336.e.446\")>,\n",
       " <selenium.webdriver.remote.webelement.WebElement (session=\"1e92d33e0504a12c4b9565a07fb4c058\", element=\"f.9183D9AC88CBA3766E88B6B34FF84DCD.d.E18EF30A7EA3FF42DEA259393D0B9336.e.460\")>,\n",
       " <selenium.webdriver.remote.webelement.WebElement (session=\"1e92d33e0504a12c4b9565a07fb4c058\", element=\"f.9183D9AC88CBA3766E88B6B34FF84DCD.d.E18EF30A7EA3FF42DEA259393D0B9336.e.474\")>,\n",
       " <selenium.webdriver.remote.webelement.WebElement (session=\"1e92d33e0504a12c4b9565a07fb4c058\", element=\"f.9183D9AC88CBA3766E88B6B34FF84DCD.d.E18EF30A7EA3FF42DEA259393D0B9336.e.488\")>,\n",
       " <selenium.webdriver.remote.webelement.WebElement (session=\"1e92d33e0504a12c4b9565a07fb4c058\", element=\"f.9183D9AC88CBA3766E88B6B34FF84DCD.d.E18EF30A7EA3FF42DEA259393D0B9336.e.502\")>,\n",
       " <selenium.webdriver.remote.webelement.WebElement (session=\"1e92d33e0504a12c4b9565a07fb4c058\", element=\"f.9183D9AC88CBA3766E88B6B34FF84DCD.d.E18EF30A7EA3FF42DEA259393D0B9336.e.516\")>,\n",
       " <selenium.webdriver.remote.webelement.WebElement (session=\"1e92d33e0504a12c4b9565a07fb4c058\", element=\"f.9183D9AC88CBA3766E88B6B34FF84DCD.d.E18EF30A7EA3FF42DEA259393D0B9336.e.530\")>,\n",
       " <selenium.webdriver.remote.webelement.WebElement (session=\"1e92d33e0504a12c4b9565a07fb4c058\", element=\"f.9183D9AC88CBA3766E88B6B34FF84DCD.d.E18EF30A7EA3FF42DEA259393D0B9336.e.544\")>]"
      ]
     },
     "execution_count": 38,
     "metadata": {},
     "output_type": "execute_result"
    }
   ],
   "source": [
    "users = driver.find_elements(By.CSS_SELECTOR, 'div.users-list > div')\n",
    "users"
   ]
  },
  {
   "cell_type": "code",
   "execution_count": 39,
   "metadata": {},
   "outputs": [
    {
     "data": {
      "text/plain": [
       "10"
      ]
     },
     "execution_count": 39,
     "metadata": {},
     "output_type": "execute_result"
    }
   ],
   "source": [
    "len(users)"
   ]
  },
  {
   "cell_type": "code",
   "execution_count": 40,
   "metadata": {},
   "outputs": [
    {
     "data": {
      "text/plain": [
       "<selenium.webdriver.remote.webelement.WebElement (session=\"1e92d33e0504a12c4b9565a07fb4c058\", element=\"f.9183D9AC88CBA3766E88B6B34FF84DCD.d.E18EF30A7EA3FF42DEA259393D0B9336.e.418\")>"
      ]
     },
     "execution_count": 40,
     "metadata": {},
     "output_type": "execute_result"
    }
   ],
   "source": [
    "user = users[0]\n",
    "user"
   ]
  },
  {
   "cell_type": "code",
   "execution_count": 42,
   "metadata": {},
   "outputs": [],
   "source": [
    "imagem = user.find_element(By.TAG_NAME, 'img')\n",
    "nome = user.find_element(By.TAG_NAME, 'h3')\n",
    "profissao = user.find_element(By.TAG_NAME, 'span')\n",
    "email = user.find_element(By.CSS_SELECTOR, 'ul > li:nth-child(1)')\n",
    "telefone = user.find_element(By.CSS_SELECTOR, 'ul > li:nth-child(2)')\n",
    "user_name = user.find_element(By.CSS_SELECTOR, 'ul > li:nth-child(3)')\n",
    "estado = user.find_element(By.CSS_SELECTOR, 'ul > li:nth-child(4)')"
   ]
  },
  {
   "cell_type": "code",
   "execution_count": 54,
   "metadata": {},
   "outputs": [],
   "source": [
    "from dataclasses import dataclass\n",
    "\n",
    "@dataclass\n",
    "class Usuario:\n",
    "    img: str\n",
    "    nome: str\n",
    "    profissao: str\n",
    "    email: str\n",
    "    telefone: str\n",
    "    user_name: str\n",
    "    estado: str"
   ]
  },
  {
   "cell_type": "code",
   "execution_count": 55,
   "metadata": {},
   "outputs": [],
   "source": [
    "dados_do_usuario = Usuario(\n",
    "    img = imagem.get_property('src'),\n",
    "    nome = nome.text, # nome.get_attribute('innerText')\n",
    "    profissao = profissao.text,\n",
    "    email = email.text.split(': ')[1],\n",
    "    telefone = telefone.text.split(': ')[1],\n",
    "    user_name = user_name.text.split(': ')[1],\n",
    "    estado = estado.text.split(': ')[1]\n",
    ")"
   ]
  },
  {
   "cell_type": "code",
   "execution_count": 56,
   "metadata": {},
   "outputs": [
    {
     "data": {
      "text/plain": [
       "'Dalton Reis'"
      ]
     },
     "execution_count": 56,
     "metadata": {},
     "output_type": "execute_result"
    }
   ],
   "source": [
    "dados_do_usuario.nome"
   ]
  },
  {
   "cell_type": "markdown",
   "metadata": {},
   "source": [
    "## Automatização do processo"
   ]
  },
  {
   "cell_type": "code",
   "execution_count": 60,
   "metadata": {},
   "outputs": [],
   "source": [
    "driver.refresh()\n",
    "entrada = driver.find_element(By.CSS_SELECTOR, 'main input[type=\"text\"]')\n",
    "botao = driver.find_element(By.CSS_SELECTOR, 'main button')\n",
    "\n",
    "from dataclasses import dataclass\n",
    "\n",
    "@dataclass\n",
    "class Usuario:\n",
    "    img: str\n",
    "    nome: str\n",
    "    profissao: str\n",
    "    email: str\n",
    "    telefone: str\n",
    "    user_name: str\n",
    "    estado: str"
   ]
  },
  {
   "cell_type": "code",
   "execution_count": 67,
   "metadata": {},
   "outputs": [],
   "source": [
    "data = []\n",
    "\n",
    "file = pd.read_json('desafio_2_dados.json')\n",
    "usuarios = file[0].tolist()\n",
    "\n",
    "for usuario in usuarios:\n",
    "    # Preenchimento do campo de informação para busca\n",
    "    entrada.clear()\n",
    "    entrada.send_keys(usuario)\n",
    "\n",
    "    # Aguardando botão adquirir status de \"clicável\" e realizando a busca\n",
    "    wait = WebDriverWait(driver=driver, timeout=5, poll_frequency=1)\n",
    "    wait.until(EC.element_to_be_clickable(mark=botao))\n",
    "    botao.click()\n",
    "\n",
    "    # Aguardando que todas as imagens (elementos mais pesados) sejam renderizados na tela\n",
    "    # Obtém todos os usuários encontrados na busca\n",
    "    driver.implicitly_wait(time_to_wait=5)\n",
    "    #locator = (By. CSS_SELECTOR, 'div.users-list > div > img')\n",
    "    #wait.until(EC.visibility_of_all_elements_located(locator=locator))\n",
    "    users = driver.find_elements(By.CSS_SELECTOR, 'div.users-list > div')\n",
    "\n",
    "    for user in users:\n",
    "        imagem = user.find_element(By.TAG_NAME, 'img')\n",
    "        nome = user.find_element(By.TAG_NAME, 'h3')\n",
    "        profissao = user.find_element(By.TAG_NAME, 'span')\n",
    "        email = user.find_element(By.CSS_SELECTOR, 'ul > li:nth-child(1)')\n",
    "        telefone = user.find_element(By.CSS_SELECTOR, 'ul > li:nth-child(2)')\n",
    "        user_name = user.find_element(By.CSS_SELECTOR, 'ul > li:nth-child(3)')\n",
    "        estado = user.find_element(By.CSS_SELECTOR, 'ul > li:nth-child(4)')\n",
    "\n",
    "        dados_do_usuario = Usuario(\n",
    "        img = imagem.get_property('src'),\n",
    "        nome = nome.text,\n",
    "        profissao = profissao.text,\n",
    "        email = email.text.split(': ')[1],\n",
    "        telefone = telefone.text.split(': ')[1],\n",
    "        user_name = user_name.text.split(': ')[1],\n",
    "        estado = estado.text.split(': ')[1]\n",
    "    )\n",
    "        \n",
    "    data.append(dados_do_usuario)"
   ]
  },
  {
   "cell_type": "code",
   "execution_count": 68,
   "metadata": {},
   "outputs": [
    {
     "data": {
      "text/plain": [
       "[Usuario(img='https://avatars.githubusercontent.com/u/9769886', nome='Dalton Silva', profissao='Supervisor', email='dalton.silva38@example.com', telefone='(72) 53006-8006', user_name='dalton.silva', estado='Mato Grosso do Sul'),\n",
       " Usuario(img='https://cloudflare-ipfs.com/ipfs/Qmd3W5DuhgHirLHGVixi6V76LhCkZUz6pnFt5AJBiyvHye/avatar/200.jpg', nome='Ana Carvalho', profissao='Arquiteto', email='ana.carvalho4@example.net', telefone='(13) 4197-1577', user_name='ana.carvalho60', estado='Roraima'),\n",
       " Usuario(img='https://cloudflare-ipfs.com/ipfs/Qmd3W5DuhgHirLHGVixi6V76LhCkZUz6pnFt5AJBiyvHye/avatar/242.jpg', nome='Maria Silva', profissao='Agente', email='maria_silva@example.net', telefone='(56) 53716-8323', user_name='maria.silva', estado='Ceará'),\n",
       " Usuario(img='https://cloudflare-ipfs.com/ipfs/Qmd3W5DuhgHirLHGVixi6V76LhCkZUz6pnFt5AJBiyvHye/avatar/920.jpg', nome='João Oliveira', profissao='Técnico', email='joao.oliveira@example.net', telefone='(29) 2251-1606', user_name='joao.oliveira35', estado='Santa Catarina'),\n",
       " Usuario(img='https://avatars.githubusercontent.com/u/23400768', nome='Leonardo Braga', profissao='Associado', email='leonardo_braga63@example.net', telefone='+55 (70) 7371-2086', user_name='leonardo_braga73', estado='Pernambuco'),\n",
       " Usuario(img='https://avatars.githubusercontent.com/u/21639476', nome='Talita Macedo', profissao='Técnico', email='talita_macedo55@example.com', telefone='(01) 78841-4040', user_name='talita_macedo', estado='Pará'),\n",
       " Usuario(img='https://avatars.githubusercontent.com/u/48467393', nome='Rafael Souza', profissao='Produtor', email='rafael_souza17@example.com', telefone='(96) 14449-2441', user_name='rafael_souza46', estado='Alagoas')]"
      ]
     },
     "execution_count": 68,
     "metadata": {},
     "output_type": "execute_result"
    }
   ],
   "source": [
    "data"
   ]
  },
  {
   "cell_type": "markdown",
   "metadata": {},
   "source": [
    "## Convertendo em DataFrame e salvando em csv"
   ]
  },
  {
   "cell_type": "code",
   "execution_count": 69,
   "metadata": {},
   "outputs": [],
   "source": [
    "from dataclasses import asdict\n",
    "\n",
    "# Convertendo os objetos do dataclass em um dicionário\n",
    "data_dict = [asdict(usuario) for usuario in data]"
   ]
  },
  {
   "cell_type": "code",
   "execution_count": 70,
   "metadata": {},
   "outputs": [
    {
     "data": {
      "text/html": [
       "<div>\n",
       "<style scoped>\n",
       "    .dataframe tbody tr th:only-of-type {\n",
       "        vertical-align: middle;\n",
       "    }\n",
       "\n",
       "    .dataframe tbody tr th {\n",
       "        vertical-align: top;\n",
       "    }\n",
       "\n",
       "    .dataframe thead th {\n",
       "        text-align: right;\n",
       "    }\n",
       "</style>\n",
       "<table border=\"1\" class=\"dataframe\">\n",
       "  <thead>\n",
       "    <tr style=\"text-align: right;\">\n",
       "      <th></th>\n",
       "      <th>img</th>\n",
       "      <th>nome</th>\n",
       "      <th>profissao</th>\n",
       "      <th>email</th>\n",
       "      <th>telefone</th>\n",
       "      <th>user_name</th>\n",
       "      <th>estado</th>\n",
       "    </tr>\n",
       "  </thead>\n",
       "  <tbody>\n",
       "    <tr>\n",
       "      <th>0</th>\n",
       "      <td>https://avatars.githubusercontent.com/u/9769886</td>\n",
       "      <td>Dalton Silva</td>\n",
       "      <td>Supervisor</td>\n",
       "      <td>dalton.silva38@example.com</td>\n",
       "      <td>(72) 53006-8006</td>\n",
       "      <td>dalton.silva</td>\n",
       "      <td>Mato Grosso do Sul</td>\n",
       "    </tr>\n",
       "    <tr>\n",
       "      <th>1</th>\n",
       "      <td>https://cloudflare-ipfs.com/ipfs/Qmd3W5DuhgHir...</td>\n",
       "      <td>Ana Carvalho</td>\n",
       "      <td>Arquiteto</td>\n",
       "      <td>ana.carvalho4@example.net</td>\n",
       "      <td>(13) 4197-1577</td>\n",
       "      <td>ana.carvalho60</td>\n",
       "      <td>Roraima</td>\n",
       "    </tr>\n",
       "    <tr>\n",
       "      <th>2</th>\n",
       "      <td>https://cloudflare-ipfs.com/ipfs/Qmd3W5DuhgHir...</td>\n",
       "      <td>Maria Silva</td>\n",
       "      <td>Agente</td>\n",
       "      <td>maria_silva@example.net</td>\n",
       "      <td>(56) 53716-8323</td>\n",
       "      <td>maria.silva</td>\n",
       "      <td>Ceará</td>\n",
       "    </tr>\n",
       "    <tr>\n",
       "      <th>3</th>\n",
       "      <td>https://cloudflare-ipfs.com/ipfs/Qmd3W5DuhgHir...</td>\n",
       "      <td>João Oliveira</td>\n",
       "      <td>Técnico</td>\n",
       "      <td>joao.oliveira@example.net</td>\n",
       "      <td>(29) 2251-1606</td>\n",
       "      <td>joao.oliveira35</td>\n",
       "      <td>Santa Catarina</td>\n",
       "    </tr>\n",
       "    <tr>\n",
       "      <th>4</th>\n",
       "      <td>https://avatars.githubusercontent.com/u/23400768</td>\n",
       "      <td>Leonardo Braga</td>\n",
       "      <td>Associado</td>\n",
       "      <td>leonardo_braga63@example.net</td>\n",
       "      <td>+55 (70) 7371-2086</td>\n",
       "      <td>leonardo_braga73</td>\n",
       "      <td>Pernambuco</td>\n",
       "    </tr>\n",
       "    <tr>\n",
       "      <th>5</th>\n",
       "      <td>https://avatars.githubusercontent.com/u/21639476</td>\n",
       "      <td>Talita Macedo</td>\n",
       "      <td>Técnico</td>\n",
       "      <td>talita_macedo55@example.com</td>\n",
       "      <td>(01) 78841-4040</td>\n",
       "      <td>talita_macedo</td>\n",
       "      <td>Pará</td>\n",
       "    </tr>\n",
       "    <tr>\n",
       "      <th>6</th>\n",
       "      <td>https://avatars.githubusercontent.com/u/48467393</td>\n",
       "      <td>Rafael Souza</td>\n",
       "      <td>Produtor</td>\n",
       "      <td>rafael_souza17@example.com</td>\n",
       "      <td>(96) 14449-2441</td>\n",
       "      <td>rafael_souza46</td>\n",
       "      <td>Alagoas</td>\n",
       "    </tr>\n",
       "  </tbody>\n",
       "</table>\n",
       "</div>"
      ],
      "text/plain": [
       "                                                 img            nome  \\\n",
       "0    https://avatars.githubusercontent.com/u/9769886    Dalton Silva   \n",
       "1  https://cloudflare-ipfs.com/ipfs/Qmd3W5DuhgHir...    Ana Carvalho   \n",
       "2  https://cloudflare-ipfs.com/ipfs/Qmd3W5DuhgHir...     Maria Silva   \n",
       "3  https://cloudflare-ipfs.com/ipfs/Qmd3W5DuhgHir...   João Oliveira   \n",
       "4   https://avatars.githubusercontent.com/u/23400768  Leonardo Braga   \n",
       "5   https://avatars.githubusercontent.com/u/21639476   Talita Macedo   \n",
       "6   https://avatars.githubusercontent.com/u/48467393    Rafael Souza   \n",
       "\n",
       "    profissao                         email            telefone  \\\n",
       "0  Supervisor    dalton.silva38@example.com     (72) 53006-8006   \n",
       "1   Arquiteto     ana.carvalho4@example.net      (13) 4197-1577   \n",
       "2      Agente       maria_silva@example.net     (56) 53716-8323   \n",
       "3     Técnico     joao.oliveira@example.net      (29) 2251-1606   \n",
       "4   Associado  leonardo_braga63@example.net  +55 (70) 7371-2086   \n",
       "5     Técnico   talita_macedo55@example.com     (01) 78841-4040   \n",
       "6    Produtor    rafael_souza17@example.com     (96) 14449-2441   \n",
       "\n",
       "          user_name              estado  \n",
       "0      dalton.silva  Mato Grosso do Sul  \n",
       "1    ana.carvalho60             Roraima  \n",
       "2       maria.silva               Ceará  \n",
       "3   joao.oliveira35      Santa Catarina  \n",
       "4  leonardo_braga73          Pernambuco  \n",
       "5     talita_macedo                Pará  \n",
       "6    rafael_souza46             Alagoas  "
      ]
     },
     "execution_count": 70,
     "metadata": {},
     "output_type": "execute_result"
    }
   ],
   "source": [
    "df = pd.DataFrame(data_dict)\n",
    "df"
   ]
  },
  {
   "cell_type": "code",
   "execution_count": 72,
   "metadata": {},
   "outputs": [],
   "source": [
    "df.to_csv('desafio_2_resultado.csv', sep=';', index=None)"
   ]
  },
  {
   "cell_type": "code",
   "execution_count": null,
   "metadata": {},
   "outputs": [],
   "source": []
  }
 ],
 "metadata": {
  "kernelspec": {
   "display_name": "Python 3",
   "language": "python",
   "name": "python3"
  },
  "language_info": {
   "codemirror_mode": {
    "name": "ipython",
    "version": 3
   },
   "file_extension": ".py",
   "mimetype": "text/x-python",
   "name": "python",
   "nbconvert_exporter": "python",
   "pygments_lexer": "ipython3",
   "version": "3.12.0"
  }
 },
 "nbformat": 4,
 "nbformat_minor": 2
}
