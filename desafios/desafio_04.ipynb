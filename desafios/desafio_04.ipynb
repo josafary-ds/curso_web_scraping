{
 "cells": [
  {
   "cell_type": "code",
   "execution_count": 1,
   "metadata": {},
   "outputs": [],
   "source": [
    "from selenium import webdriver\n",
    "from selenium.webdriver.common.by import By\n",
    "from selenium.webdriver.support.wait import WebDriverWait\n",
    "from selenium.webdriver.support import expected_conditions as EC\n",
    "from selenium.webdriver.support.ui import Select\n",
    "from selenium.webdriver.common.action_chains import ActionChains\n",
    "from selenium.webdriver.common.keys import Keys"
   ]
  },
  {
   "cell_type": "code",
   "execution_count": 32,
   "metadata": {},
   "outputs": [],
   "source": [
    "driver = webdriver.Chrome()"
   ]
  },
  {
   "cell_type": "code",
   "execution_count": 34,
   "metadata": {},
   "outputs": [],
   "source": [
    "#driver.get('https://curso-web-scraping.pages.dev/#/desafio/4')\n",
    "driver.get('http://localhost:8000/#/desafio/4')"
   ]
  },
  {
   "cell_type": "markdown",
   "metadata": {},
   "source": [
    "# Construindo a lógica"
   ]
  },
  {
   "cell_type": "code",
   "execution_count": 35,
   "metadata": {},
   "outputs": [],
   "source": [
    "categoria = \"Celulares\""
   ]
  },
  {
   "cell_type": "code",
   "execution_count": 36,
   "metadata": {},
   "outputs": [],
   "source": [
    "(\n",
    "    ActionChains(driver)\n",
    "    .click(driver.find_element(By.XPATH, f'//div//h1[contains(text(), \"{categoria}\")]'))\n",
    "    .perform()\n",
    ")"
   ]
  },
  {
   "cell_type": "markdown",
   "metadata": {},
   "source": [
    "### Busca de produtos"
   ]
  },
  {
   "cell_type": "code",
   "execution_count": 37,
   "metadata": {},
   "outputs": [
    {
     "data": {
      "text/plain": [
       "[<selenium.webdriver.remote.webelement.WebElement (session=\"cfff13241aea74f95ca4e2370dd6c48f\", element=\"f.7974DFA9C215FFA68987D8B076D3D60E.d.E7CC09FA8F07275C63B0DE4EC3AD2E76.e.414\")>,\n",
       " <selenium.webdriver.remote.webelement.WebElement (session=\"cfff13241aea74f95ca4e2370dd6c48f\", element=\"f.7974DFA9C215FFA68987D8B076D3D60E.d.E7CC09FA8F07275C63B0DE4EC3AD2E76.e.439\")>,\n",
       " <selenium.webdriver.remote.webelement.WebElement (session=\"cfff13241aea74f95ca4e2370dd6c48f\", element=\"f.7974DFA9C215FFA68987D8B076D3D60E.d.E7CC09FA8F07275C63B0DE4EC3AD2E76.e.465\")>,\n",
       " <selenium.webdriver.remote.webelement.WebElement (session=\"cfff13241aea74f95ca4e2370dd6c48f\", element=\"f.7974DFA9C215FFA68987D8B076D3D60E.d.E7CC09FA8F07275C63B0DE4EC3AD2E76.e.491\")>,\n",
       " <selenium.webdriver.remote.webelement.WebElement (session=\"cfff13241aea74f95ca4e2370dd6c48f\", element=\"f.7974DFA9C215FFA68987D8B076D3D60E.d.E7CC09FA8F07275C63B0DE4EC3AD2E76.e.515\")>,\n",
       " <selenium.webdriver.remote.webelement.WebElement (session=\"cfff13241aea74f95ca4e2370dd6c48f\", element=\"f.7974DFA9C215FFA68987D8B076D3D60E.d.E7CC09FA8F07275C63B0DE4EC3AD2E76.e.541\")>,\n",
       " <selenium.webdriver.remote.webelement.WebElement (session=\"cfff13241aea74f95ca4e2370dd6c48f\", element=\"f.7974DFA9C215FFA68987D8B076D3D60E.d.E7CC09FA8F07275C63B0DE4EC3AD2E76.e.565\")>,\n",
       " <selenium.webdriver.remote.webelement.WebElement (session=\"cfff13241aea74f95ca4e2370dd6c48f\", element=\"f.7974DFA9C215FFA68987D8B076D3D60E.d.E7CC09FA8F07275C63B0DE4EC3AD2E76.e.589\")>,\n",
       " <selenium.webdriver.remote.webelement.WebElement (session=\"cfff13241aea74f95ca4e2370dd6c48f\", element=\"f.7974DFA9C215FFA68987D8B076D3D60E.d.E7CC09FA8F07275C63B0DE4EC3AD2E76.e.615\")>]"
      ]
     },
     "execution_count": 37,
     "metadata": {},
     "output_type": "execute_result"
    }
   ],
   "source": [
    "produtos = driver.find_elements(By.CSS_SELECTOR, 'form#filtros + div div:has(>img)')\n",
    "produtos"
   ]
  },
  {
   "cell_type": "code",
   "execution_count": 38,
   "metadata": {},
   "outputs": [],
   "source": [
    "from dataclasses import dataclass\n",
    "\n",
    "@dataclass\n",
    "class Produto:\n",
    "    titulo: str\n",
    "    frete_gratis: bool\n",
    "    parcelamento_s_juros: bool\n",
    "    envio_internacional: bool\n",
    "    em_oferta: bool\n",
    "    num_estrelas: int\n",
    "    descricao: str\n",
    "    preco: int\n",
    "    foto: str"
   ]
  },
  {
   "cell_type": "code",
   "execution_count": 40,
   "metadata": {},
   "outputs": [],
   "source": [
    "produto = produtos[0]\n",
    "\n",
    "dados = []\n",
    "\n",
    "dados_produto = Produto(\n",
    "    titulo = produto.find_element(By.TAG_NAME, 'h5').text,\n",
    "    frete_gratis = True if produto.find_elements(By.CSS_SELECTOR, 'div.bg-blue-100') else False,\n",
    "    parcelamento_s_juros = True if produto.find_elements(By.CSS_SELECTOR, 'div.bg-green-100') else False,\n",
    "    envio_internacional = True if produto.find_elements(By.CSS_SELECTOR, 'div.bg-orange-100') else False,\n",
    "    em_oferta = True if produto.find_elements(By.CSS_SELECTOR, 'div.bg-purple-100') else False,\n",
    "    num_estrelas = len(produto.find_elements(By.CSS_SELECTOR, 'svg.text-yellow-300')),\n",
    "    descricao = produto.find_element(By.TAG_NAME, 'p').text,\n",
    "    preco = produto.find_element(By.CSS_SELECTOR, 'div:has(>span:nth-last-child(2)) > span:nth-child(2)').text,\n",
    "    foto = produto.find_element(By.TAG_NAME, 'img').get_attribute('src')\n",
    ")\n",
    "\n",
    "dados.append(dados_produto)"
   ]
  },
  {
   "cell_type": "code",
   "execution_count": 41,
   "metadata": {},
   "outputs": [
    {
     "data": {
      "text/plain": [
       "[Produto(titulo='Atum', frete_gratis=False, parcelamento_s_juros=True, envio_internacional=True, em_oferta=False, num_estrelas=2, descricao='Cumque natus neque sit impedit. Ullam eius est aut veniam fugit perspiciatis.', preco='1798', foto='https://picsum.photos/seed/qH83hRw2TN/600/450')]"
      ]
     },
     "execution_count": 41,
     "metadata": {},
     "output_type": "execute_result"
    }
   ],
   "source": [
    "dados"
   ]
  },
  {
   "cell_type": "code",
   "execution_count": 70,
   "metadata": {},
   "outputs": [],
   "source": [
    "from IPython.display import HTML\n",
    "#HTML(produto.get_property('outerHTML'))"
   ]
  },
  {
   "cell_type": "code",
   "execution_count": 43,
   "metadata": {},
   "outputs": [
    {
     "data": {
      "text/plain": [
       "<selenium.webdriver.remote.webelement.WebElement (session=\"cfff13241aea74f95ca4e2370dd6c48f\", element=\"f.7974DFA9C215FFA68987D8B076D3D60E.d.E7CC09FA8F07275C63B0DE4EC3AD2E76.e.640\")>"
      ]
     },
     "execution_count": 43,
     "metadata": {},
     "output_type": "execute_result"
    }
   ],
   "source": [
    "btn_proximo = driver.find_element(By.XPATH, '//div//button[contains(text(), \"Próxima\")]')\n",
    "btn_proximo"
   ]
  },
  {
   "cell_type": "code",
   "execution_count": 44,
   "metadata": {},
   "outputs": [],
   "source": [
    "btn_proximo.click()"
   ]
  },
  {
   "cell_type": "markdown",
   "metadata": {},
   "source": [
    "### Selecionando filtros"
   ]
  },
  {
   "cell_type": "code",
   "execution_count": 45,
   "metadata": {},
   "outputs": [],
   "source": [
    "# Filtros\n",
    "frete = driver.find_element(By.ID, 'frete')\n",
    "parcelamento = driver.find_element(By.ID, 'parcelamento')\n",
    "internacional = driver.find_element(By.ID, 'envio-internacional')\n",
    "oferta = driver.find_element(By.ID, 'oferta')"
   ]
  },
  {
   "cell_type": "code",
   "execution_count": 46,
   "metadata": {},
   "outputs": [],
   "source": [
    "# Preço\n",
    "preco_inicial = driver.find_element(By.ID, 'price-from')\n",
    "preco_final = driver.find_element(By.ID, 'price-to')"
   ]
  },
  {
   "cell_type": "code",
   "execution_count": 47,
   "metadata": {},
   "outputs": [],
   "source": [
    "# Classificação\n",
    "nota_1 = driver.find_element(By.ID, 'one-star')\n",
    "nota_2 = driver.find_element(By.ID, 'two-stars')\n",
    "nota_3 = driver.find_element(By.ID, 'three-stars')\n",
    "nota_4 = driver.find_element(By.ID, 'four-stars')\n",
    "nota_5 = driver.find_element(By.ID, 'five-stars')"
   ]
  },
  {
   "cell_type": "code",
   "execution_count": 48,
   "metadata": {},
   "outputs": [],
   "source": [
    "btn_enviar = driver.find_element(By.CSS_SELECTOR, 'form#filtros button[type=\"submit\"]')\n",
    "btn_limpar = driver.find_element(By.CSS_SELECTOR, 'form#filtros button[type=\"reset\"]')"
   ]
  },
  {
   "cell_type": "code",
   "execution_count": 62,
   "metadata": {},
   "outputs": [],
   "source": [
    "actions = ActionChains(driver)"
   ]
  },
  {
   "cell_type": "code",
   "execution_count": 63,
   "metadata": {},
   "outputs": [
    {
     "data": {
      "text/plain": [
       "<selenium.webdriver.common.action_chains.ActionChains at 0x1996f4e0620>"
      ]
     },
     "execution_count": 63,
     "metadata": {},
     "output_type": "execute_result"
    }
   ],
   "source": [
    "actions.click(btn_limpar)"
   ]
  },
  {
   "cell_type": "code",
   "execution_count": 64,
   "metadata": {},
   "outputs": [],
   "source": [
    "# Entrada de dados\n",
    "\n",
    "frete_gratis = True\n",
    "parcelamento_sem_juros = True\n",
    "envio_internacional = True\n",
    "em_oferta = True\n",
    "preco_min = 100\n",
    "preco_max = 5000\n",
    "classif = 5"
   ]
  },
  {
   "cell_type": "code",
   "execution_count": 65,
   "metadata": {},
   "outputs": [],
   "source": [
    "if frete_gratis:\n",
    "    actions.click(frete)\n",
    "\n",
    "if parcelamento_sem_juros:\n",
    "    actions.click(parcelamento)\n",
    "\n",
    "if envio_internacional:\n",
    "    actions.click(internacional)\n",
    "\n",
    "if em_oferta:\n",
    "    actions.click(oferta)"
   ]
  },
  {
   "cell_type": "code",
   "execution_count": 66,
   "metadata": {},
   "outputs": [
    {
     "data": {
      "text/plain": [
       "<selenium.webdriver.common.action_chains.ActionChains at 0x1996f4e0620>"
      ]
     },
     "execution_count": 66,
     "metadata": {},
     "output_type": "execute_result"
    }
   ],
   "source": [
    "(\n",
    "    actions\n",
    "    .click(preco_inicial)\n",
    "    .double_click(preco_inicial)\n",
    "    .send_keys(preco_min)\n",
    ")\n",
    "\n",
    "(\n",
    "    actions\n",
    "    .click(preco_final)\n",
    "    .double_click(preco_final)\n",
    "    .send_keys(preco_max)\n",
    ")"
   ]
  },
  {
   "cell_type": "code",
   "execution_count": 67,
   "metadata": {},
   "outputs": [],
   "source": [
    "match classif:\n",
    "    case 1:\n",
    "        actions.click(nota_1)\n",
    "\n",
    "    case 2:\n",
    "        actions.click(nota_2)\n",
    "\n",
    "    case 3:\n",
    "        actions.click(nota_3)\n",
    "\n",
    "    case 4:\n",
    "        actions.click(nota_4)\n",
    "\n",
    "    case 5:\n",
    "        actions.click(nota_5)"
   ]
  },
  {
   "cell_type": "code",
   "execution_count": 68,
   "metadata": {},
   "outputs": [
    {
     "data": {
      "text/plain": [
       "<selenium.webdriver.common.action_chains.ActionChains at 0x1996f4e0620>"
      ]
     },
     "execution_count": 68,
     "metadata": {},
     "output_type": "execute_result"
    }
   ],
   "source": [
    "actions.click(btn_enviar)"
   ]
  },
  {
   "cell_type": "code",
   "execution_count": 69,
   "metadata": {},
   "outputs": [],
   "source": [
    "actions.perform()"
   ]
  },
  {
   "cell_type": "markdown",
   "metadata": {},
   "source": [
    "# Automatização"
   ]
  },
  {
   "cell_type": "code",
   "execution_count": 71,
   "metadata": {},
   "outputs": [],
   "source": [
    "from dataclasses import dataclass\n",
    "\n",
    "@dataclass\n",
    "class Produto:\n",
    "    titulo: str\n",
    "    frete_gratis: bool\n",
    "    parcelamento_s_juros: bool\n",
    "    envio_internacional: bool\n",
    "    em_oferta: bool\n",
    "    num_estrelas: int\n",
    "    descricao: str\n",
    "    preco: int\n",
    "    foto: str"
   ]
  },
  {
   "cell_type": "code",
   "execution_count": 72,
   "metadata": {},
   "outputs": [],
   "source": [
    "wait = WebDriverWait(driver=driver, timeout=5, poll_frequency=1)\n",
    "driver.implicitly_wait(time_to_wait=10)"
   ]
  },
  {
   "cell_type": "code",
   "execution_count": 107,
   "metadata": {},
   "outputs": [],
   "source": [
    "def escolher_categoria(categoria: str):\n",
    "    driver.get('https://curso-web-scraping.pages.dev/#/desafio/4')\n",
    "    btn_menu = driver.find_element(By.CSS_SELECTOR, 'div button[type=\"button\"]')\n",
    "    btn_menu.click()\n",
    "    wait.until(EC.visibility_of_all_elements_located(\n",
    "        locator = (By.CSS_SELECTOR, 'div#categoria div > div > img')\n",
    "    ))\n",
    "    \n",
    "    (\n",
    "        ActionChains(driver)\n",
    "        .click(driver.find_element(By.XPATH, f'//div//h1[contains(text(), \"{categoria}\")]'))\n",
    "        .perform()\n",
    "    )"
   ]
  },
  {
   "cell_type": "code",
   "execution_count": 95,
   "metadata": {},
   "outputs": [],
   "source": [
    "def armazernar_dados_produtos():\n",
    "    dados = []\n",
    "\n",
    "    while True:\n",
    "        wait.until(EC.visibility_of_all_elements_located(\n",
    "            locator = (By.CSS_SELECTOR, 'form#filtros + div div > img')\n",
    "        ))\n",
    "        produtos = driver.find_elements(By.CSS_SELECTOR, 'form#filtros + div div:has(>img)')\n",
    "\n",
    "        for produto in produtos:\n",
    "            dados_produto = Produto(\n",
    "                titulo = produto.find_element(By.TAG_NAME, 'h5').text,\n",
    "                frete_gratis = True if produto.find_elements(By.CSS_SELECTOR, 'div.bg-blue-100') else False,\n",
    "                parcelamento_s_juros = True if produto.find_elements(By.CSS_SELECTOR, 'div.bg-green-100') else False,\n",
    "                envio_internacional = True if produto.find_elements(By.CSS_SELECTOR, 'div.bg-orange-100') else False,\n",
    "                em_oferta = True if produto.find_elements(By.CSS_SELECTOR, 'div.bg-purple-100') else False,\n",
    "                num_estrelas = len(produto.find_elements(By.CSS_SELECTOR, 'svg.text-yellow-300')),\n",
    "                descricao = produto.find_element(By.TAG_NAME, 'p').text,\n",
    "                preco = produto.find_element(By.CSS_SELECTOR, 'div:has(>span:nth-last-child(2)) > span:nth-child(2)').text,\n",
    "                foto = produto.find_element(By.TAG_NAME, 'img').get_attribute('src')\n",
    "            )\n",
    "\n",
    "            dados.append(dados_produto)\n",
    "\n",
    "        btn_proximo = driver.find_element(By.XPATH, '//div//button[contains(text(), \"Próxima\")]')\n",
    "        #btn_proximo = driver.find_element(By.CSS_SELECTOR, 'form#filtros + div button:last-child')\n",
    "\n",
    "        try:\n",
    "            btn_proximo.click()\n",
    "        except:\n",
    "            break\n",
    "\n",
    "    return dados"
   ]
  },
  {
   "cell_type": "code",
   "execution_count": 80,
   "metadata": {},
   "outputs": [
    {
     "data": {
      "text/plain": [
       "[Produto(titulo='Carro', frete_gratis=True, parcelamento_s_juros=True, envio_internacional=True, em_oferta=True, num_estrelas=5, descricao='Aspernatur sed alias vitae repudiandae. Perspiciatis alias harum amet animi. At tempora animi laborum ad ducimus.', preco='3625', foto='https://picsum.photos/seed/hblffUgWYY/600/450'),\n",
       " Produto(titulo='Teclado', frete_gratis=True, parcelamento_s_juros=True, envio_internacional=True, em_oferta=True, num_estrelas=5, descricao='Quidem velit placeat aut distinctio eum incidunt et quaerat.', preco='2393', foto='https://picsum.photos/seed/X4jbc/600/450')]"
      ]
     },
     "execution_count": 80,
     "metadata": {},
     "output_type": "execute_result"
    }
   ],
   "source": [
    "armazernar_dados_produtos()"
   ]
  },
  {
   "cell_type": "code",
   "execution_count": 82,
   "metadata": {},
   "outputs": [],
   "source": [
    "def preencher_filtros(\n",
    "        frete_gratis = bool,\n",
    "        parcelamento_sem_juros = bool,\n",
    "        envio_internacional = bool,\n",
    "        em_oferta = bool,\n",
    "        preco_min = int,\n",
    "        preco_max = int,\n",
    "        classif = int\n",
    "    ):\n",
    "    # Filtros\n",
    "    frete = driver.find_element(By.ID, 'frete')\n",
    "    parcelamento = driver.find_element(By.ID, 'parcelamento')\n",
    "    internacional = driver.find_element(By.ID, 'envio-internacional')\n",
    "    oferta = driver.find_element(By.ID, 'oferta')\n",
    "\n",
    "    # Preço\n",
    "    preco_inicial = driver.find_element(By.ID, 'price-from')\n",
    "    preco_final = driver.find_element(By.ID, 'price-to')\n",
    "    \n",
    "    # Classificação\n",
    "    nota_1 = driver.find_element(By.ID, 'one-star')\n",
    "    nota_2 = driver.find_element(By.ID, 'two-stars')\n",
    "    nota_3 = driver.find_element(By.ID, 'three-stars')\n",
    "    nota_4 = driver.find_element(By.ID, 'four-stars')\n",
    "    nota_5 = driver.find_element(By.ID, 'five-stars')\n",
    "\n",
    "    # Botões de ação\n",
    "    btn_enviar = driver.find_element(By.CSS_SELECTOR, 'form#filtros button[type=\"submit\"]')\n",
    "    btn_limpar = driver.find_element(By.CSS_SELECTOR, 'form#filtros button[type=\"reset\"]')\n",
    "\n",
    "    actions = ActionChains(driver)\n",
    "\n",
    "    actions.click(btn_limpar)\n",
    "\n",
    "    if frete_gratis:\n",
    "        actions.click(frete)\n",
    "\n",
    "    if parcelamento_sem_juros:\n",
    "        actions.click(parcelamento)\n",
    "\n",
    "    if envio_internacional:\n",
    "        actions.click(internacional)\n",
    "\n",
    "    if em_oferta:\n",
    "        actions.click(oferta)\n",
    "\n",
    "    (\n",
    "    actions\n",
    "    .click(preco_inicial)\n",
    "    .double_click(preco_inicial)\n",
    "    .send_keys(preco_min)\n",
    "    )\n",
    "\n",
    "    (\n",
    "        actions\n",
    "        .click(preco_final)\n",
    "        .double_click(preco_final)\n",
    "        .send_keys(preco_max)\n",
    "    )\n",
    "\n",
    "    match classif:\n",
    "        case 1:\n",
    "            actions.click(nota_1)\n",
    "\n",
    "        case 2:\n",
    "            actions.click(nota_2)\n",
    "\n",
    "        case 3:\n",
    "            actions.click(nota_3)\n",
    "\n",
    "        case 4:\n",
    "            actions.click(nota_4)\n",
    "\n",
    "        case 5:\n",
    "            actions.click(nota_5)\n",
    "\n",
    "    actions.click(btn_enviar)\n",
    "    actions.perform()"
   ]
  },
  {
   "cell_type": "markdown",
   "metadata": {},
   "source": [
    "### Selecionar todos os produtos da categoria Celulares com frete grátis, em oferta, preço entre R$ 500,00 e R$ 2500,00 reais com 4 estrelas."
   ]
  },
  {
   "cell_type": "code",
   "execution_count": 85,
   "metadata": {},
   "outputs": [],
   "source": [
    "escolher_categoria(categoria='Celulares')\n",
    "\n",
    "preencher_filtros(\n",
    "    frete_gratis = True,\n",
    "    parcelamento_sem_juros = False,\n",
    "    envio_internacional = False,\n",
    "    em_oferta = True,\n",
    "    preco_min = 500,\n",
    "    preco_max = 2500,\n",
    "    classif = 4\n",
    ")"
   ]
  },
  {
   "cell_type": "code",
   "execution_count": 96,
   "metadata": {},
   "outputs": [
    {
     "data": {
      "text/plain": [
       "[Produto(titulo='Pizza', frete_gratis=True, parcelamento_s_juros=False, envio_internacional=False, em_oferta=True, num_estrelas=4, descricao='Perferendis ipsa facilis.', preco='2233', foto='https://picsum.photos/seed/Q5uRq/600/450'),\n",
       " Produto(titulo='Bola', frete_gratis=True, parcelamento_s_juros=False, envio_internacional=True, em_oferta=True, num_estrelas=4, descricao='Repudiandae omnis in ea amet perspiciatis impedit iste. Dicta eligendi beatae esse quaerat. Non aut molestias voluptates.', preco='2160', foto='https://picsum.photos/seed/rHTsmA08/600/450'),\n",
       " Produto(titulo='Sabonete', frete_gratis=True, parcelamento_s_juros=False, envio_internacional=False, em_oferta=True, num_estrelas=4, descricao='Omnis quis quo et placeat occaecati. Dignissimos quas nobis unde.', preco='1000', foto='https://picsum.photos/seed/8OWUGlx/600/450'),\n",
       " Produto(titulo='Bola', frete_gratis=True, parcelamento_s_juros=False, envio_internacional=True, em_oferta=True, num_estrelas=4, descricao='Atque accusamus architecto quo assumenda alias quibusdam explicabo enim ab. Neque fuga neque omnis placeat officia iusto.', preco='2404', foto='https://picsum.photos/seed/RNQIbcFi/600/450'),\n",
       " Produto(titulo='Camiseta', frete_gratis=True, parcelamento_s_juros=True, envio_internacional=False, em_oferta=True, num_estrelas=4, descricao='Cum quibusdam reiciendis.', preco='2430', foto='https://picsum.photos/seed/MNf2gV/600/450'),\n",
       " Produto(titulo='Salgadinhos', frete_gratis=True, parcelamento_s_juros=True, envio_internacional=False, em_oferta=True, num_estrelas=4, descricao='Tempore ducimus facere nesciunt maiores accusamus repudiandae necessitatibus magni.', preco='2258', foto='https://picsum.photos/seed/Hxqhe2WV5/600/450')]"
      ]
     },
     "execution_count": 96,
     "metadata": {},
     "output_type": "execute_result"
    }
   ],
   "source": [
    "celulares = armazernar_dados_produtos()\n",
    "celulares"
   ]
  },
  {
   "cell_type": "markdown",
   "metadata": {},
   "source": [
    "### Selecionar todos os produtos da categoria TVs com envio internacional, preço até R$ 5.000,00 e 5 estrelas."
   ]
  },
  {
   "cell_type": "code",
   "execution_count": 103,
   "metadata": {},
   "outputs": [
    {
     "data": {
      "text/plain": [
       "[Produto(titulo='Computador', frete_gratis=False, parcelamento_s_juros=True, envio_internacional=True, em_oferta=True, num_estrelas=5, descricao='Dolor nam reprehenderit suscipit beatae aperiam nesciunt necessitatibus harum.', preco='1776', foto='https://picsum.photos/seed/zx7rnBI/600/450'),\n",
       " Produto(titulo='Frango', frete_gratis=True, parcelamento_s_juros=True, envio_internacional=True, em_oferta=False, num_estrelas=5, descricao='Dolore nobis iusto natus placeat.', preco='278', foto='https://picsum.photos/seed/4KFDI/600/450'),\n",
       " Produto(titulo='Atum', frete_gratis=False, parcelamento_s_juros=True, envio_internacional=True, em_oferta=False, num_estrelas=5, descricao='Ullam quis deserunt itaque illo.', preco='2283', foto='https://picsum.photos/seed/yFsB67pvS/600/450'),\n",
       " Produto(titulo='Bola', frete_gratis=False, parcelamento_s_juros=False, envio_internacional=True, em_oferta=False, num_estrelas=5, descricao='Perspiciatis rerum quibusdam. Sapiente officia iste consequatur explicabo. Reiciendis occaecati ducimus corporis occaecati temporibus corporis ipsum dolore non.', preco='4144', foto='https://picsum.photos/seed/0dVRZzoaNy/600/450'),\n",
       " Produto(titulo='Sapatos', frete_gratis=False, parcelamento_s_juros=True, envio_internacional=True, em_oferta=False, num_estrelas=5, descricao='Aspernatur et porro id quisquam tempora veniam.', preco='4855', foto='https://picsum.photos/seed/aHo5yMnOz/600/450'),\n",
       " Produto(titulo='Pizza', frete_gratis=True, parcelamento_s_juros=False, envio_internacional=True, em_oferta=False, num_estrelas=5, descricao='Reiciendis facere et. Ad quis nam iusto quas repudiandae quos. Quae exercitationem reprehenderit mollitia doloremque aliquid iusto.', preco='637', foto='https://picsum.photos/seed/RC2L34AN/600/450'),\n",
       " Produto(titulo='Bicicleta', frete_gratis=True, parcelamento_s_juros=False, envio_internacional=True, em_oferta=True, num_estrelas=5, descricao='Inventore magni pariatur laboriosam quisquam saepe sunt. Alias nam unde vero hic mollitia nostrum laborum.', preco='491', foto='https://picsum.photos/seed/v1nTco5Xg/600/450'),\n",
       " Produto(titulo='Salsicha', frete_gratis=False, parcelamento_s_juros=False, envio_internacional=True, em_oferta=True, num_estrelas=5, descricao='Rerum odio molestiae excepturi sequi odio. Corrupti perferendis vitae nesciunt quod quisquam animi.', preco='2392', foto='https://picsum.photos/seed/3SKZF/600/450'),\n",
       " Produto(titulo='Teclado', frete_gratis=True, parcelamento_s_juros=False, envio_internacional=True, em_oferta=True, num_estrelas=5, descricao='Occaecati fuga quidem laudantium eum.', preco='1590', foto='https://picsum.photos/seed/TzjB0cPuW/600/450'),\n",
       " Produto(titulo='Queijo', frete_gratis=True, parcelamento_s_juros=True, envio_internacional=True, em_oferta=False, num_estrelas=5, descricao='Omnis excepturi laborum possimus repellat. Harum aperiam similique quia id debitis.', preco='742', foto='https://picsum.photos/seed/zt0IZo88B/600/450'),\n",
       " Produto(titulo='Atum', frete_gratis=False, parcelamento_s_juros=False, envio_internacional=True, em_oferta=True, num_estrelas=5, descricao='Reprehenderit illo reiciendis voluptatibus totam neque facere fugit incidunt voluptate. Blanditiis quae aspernatur neque laboriosam tenetur deleniti magnam id quae.', preco='2168', foto='https://picsum.photos/seed/OlANOJ/600/450'),\n",
       " Produto(titulo='Computador', frete_gratis=True, parcelamento_s_juros=True, envio_internacional=True, em_oferta=False, num_estrelas=5, descricao='Nam eos error accusamus adipisci numquam unde deserunt dolore. Iusto consequuntur fugiat ratione fuga libero rerum at illum voluptates.', preco='2194', foto='https://picsum.photos/seed/Ps53RBm7U/600/450'),\n",
       " Produto(titulo='Salgadinhos', frete_gratis=True, parcelamento_s_juros=False, envio_internacional=True, em_oferta=False, num_estrelas=5, descricao='Officiis numquam ipsam modi. Accusamus minima ea. Pariatur provident harum perspiciatis quos optio.', preco='4556', foto='https://picsum.photos/seed/Oz7SaRXv/600/450'),\n",
       " Produto(titulo='Queijo', frete_gratis=True, parcelamento_s_juros=True, envio_internacional=True, em_oferta=False, num_estrelas=5, descricao='In tempore vitae eum ea cumque odit. Sunt ex in hic sed incidunt ducimus optio magni.', preco='3492', foto='https://picsum.photos/seed/ggpKJ/600/450'),\n",
       " Produto(titulo='Salsicha', frete_gratis=True, parcelamento_s_juros=False, envio_internacional=True, em_oferta=True, num_estrelas=5, descricao='Sunt quia facilis rerum. Necessitatibus magni eveniet doloremque quaerat repellat. Beatae at suscipit vel.', preco='1421', foto='https://picsum.photos/seed/m72sr/600/450'),\n",
       " Produto(titulo='Pizza', frete_gratis=True, parcelamento_s_juros=False, envio_internacional=True, em_oferta=False, num_estrelas=5, descricao='Voluptatum molestias non neque voluptas sint aperiam. Cupiditate sunt voluptatum perferendis provident.', preco='2479', foto='https://picsum.photos/seed/xYbTS/600/450'),\n",
       " Produto(titulo='Computador', frete_gratis=False, parcelamento_s_juros=False, envio_internacional=True, em_oferta=True, num_estrelas=5, descricao='Optio molestiae suscipit fuga. Sed sequi esse rerum qui in vero quis similique cum. Qui distinctio nobis placeat quod a quos.', preco='2457', foto='https://picsum.photos/seed/2U4akJQQ6/600/450'),\n",
       " Produto(titulo='Peixe', frete_gratis=False, parcelamento_s_juros=True, envio_internacional=True, em_oferta=True, num_estrelas=5, descricao='Animi distinctio harum aliquid.', preco='1842', foto='https://picsum.photos/seed/cMdDjuEm/600/450'),\n",
       " Produto(titulo='Computador', frete_gratis=True, parcelamento_s_juros=False, envio_internacional=True, em_oferta=False, num_estrelas=5, descricao='Temporibus est iste sint. Molestias repellendus dicta vel amet excepturi eius minima. Nemo necessitatibus reiciendis.', preco='4367', foto='https://picsum.photos/seed/erckE/600/450'),\n",
       " Produto(titulo='Toalhas', frete_gratis=False, parcelamento_s_juros=True, envio_internacional=True, em_oferta=False, num_estrelas=5, descricao='Officiis veniam quasi totam nisi hic sit facere dolor ad. Et cum corporis tempore facilis voluptas eius minus maxime.', preco='2863', foto='https://picsum.photos/seed/wkTkUXo/600/450'),\n",
       " Produto(titulo='Bacon', frete_gratis=False, parcelamento_s_juros=False, envio_internacional=True, em_oferta=False, num_estrelas=5, descricao='Cum perferendis neque quidem. Facilis laudantium et velit reprehenderit assumenda perferendis ipsa totam ipsum. Facere dolores ipsum minima.', preco='2549', foto='https://picsum.photos/seed/VL3Y0CCy/600/450'),\n",
       " Produto(titulo='Salsicha', frete_gratis=False, parcelamento_s_juros=True, envio_internacional=True, em_oferta=True, num_estrelas=5, descricao='Aperiam aspernatur veritatis illum recusandae. Excepturi culpa fugit enim architecto vel.', preco='4202', foto='https://picsum.photos/seed/VdqIwCec/600/450'),\n",
       " Produto(titulo='Mouse', frete_gratis=True, parcelamento_s_juros=False, envio_internacional=True, em_oferta=True, num_estrelas=5, descricao='Nemo est nihil sed tempore nemo veritatis et neque nobis. Officiis asperiores placeat incidunt reprehenderit nobis libero iusto fugit harum. Sequi itaque officiis ipsum reprehenderit.', preco='3397', foto='https://picsum.photos/seed/IDkJm1/600/450'),\n",
       " Produto(titulo='Carro', frete_gratis=False, parcelamento_s_juros=False, envio_internacional=True, em_oferta=True, num_estrelas=5, descricao='Eligendi blanditiis dolorum blanditiis debitis atque voluptate ducimus corrupti.', preco='4125', foto='https://picsum.photos/seed/u91r2/600/450'),\n",
       " Produto(titulo='Salsicha', frete_gratis=False, parcelamento_s_juros=True, envio_internacional=True, em_oferta=True, num_estrelas=5, descricao='Earum possimus explicabo praesentium ipsum illum praesentium voluptatum. Vero recusandae suscipit illo ab voluptas sit.', preco='2883', foto='https://picsum.photos/seed/GtXuTJ/600/450'),\n",
       " Produto(titulo='Bola', frete_gratis=False, parcelamento_s_juros=False, envio_internacional=True, em_oferta=True, num_estrelas=5, descricao='Sapiente hic at.', preco='3260', foto='https://picsum.photos/seed/hZkWApo/600/450'),\n",
       " Produto(titulo='Bicicleta', frete_gratis=False, parcelamento_s_juros=True, envio_internacional=True, em_oferta=False, num_estrelas=5, descricao='Labore deserunt ab laboriosam. Repellendus dignissimos nostrum.', preco='4079', foto='https://picsum.photos/seed/h1Z1o/600/450'),\n",
       " Produto(titulo='Carro', frete_gratis=True, parcelamento_s_juros=True, envio_internacional=True, em_oferta=True, num_estrelas=5, descricao='Animi voluptas aliquam ducimus aperiam expedita quae rerum pariatur.', preco='3895', foto='https://picsum.photos/seed/aNjSrluWgI/600/450'),\n",
       " Produto(titulo='Pizza', frete_gratis=True, parcelamento_s_juros=True, envio_internacional=True, em_oferta=True, num_estrelas=5, descricao='Ullam facere dolorem. Numquam voluptates consectetur adipisci consequatur quasi similique qui magni.', preco='1598', foto='https://picsum.photos/seed/LnVAM9Lm/600/450'),\n",
       " Produto(titulo='Luvas', frete_gratis=False, parcelamento_s_juros=True, envio_internacional=True, em_oferta=False, num_estrelas=5, descricao='Iusto nam repellendus debitis reprehenderit. Placeat quisquam quo fugit dolores commodi eum dolore incidunt voluptatibus. Fuga suscipit a.', preco='1653', foto='https://picsum.photos/seed/tIFRYK3by/600/450'),\n",
       " Produto(titulo='Luvas', frete_gratis=True, parcelamento_s_juros=True, envio_internacional=True, em_oferta=False, num_estrelas=5, descricao='Labore maiores vitae ea.', preco='1342', foto='https://picsum.photos/seed/WKkZJAtRA/600/450'),\n",
       " Produto(titulo='Atum', frete_gratis=False, parcelamento_s_juros=True, envio_internacional=True, em_oferta=False, num_estrelas=5, descricao='Nobis nesciunt sequi quam odit ea voluptas.', preco='4587', foto='https://picsum.photos/seed/3gXrrj/600/450'),\n",
       " Produto(titulo='Calças', frete_gratis=True, parcelamento_s_juros=True, envio_internacional=True, em_oferta=False, num_estrelas=5, descricao='Quia sit suscipit impedit harum fugit nihil ab doloremque. Vel harum exercitationem. In nostrum omnis quam libero ad laborum voluptas.', preco='736', foto='https://picsum.photos/seed/c74iFSUsAx/600/450'),\n",
       " Produto(titulo='Bicicleta', frete_gratis=True, parcelamento_s_juros=False, envio_internacional=True, em_oferta=False, num_estrelas=5, descricao='Eos qui illo fuga aliquid ratione ducimus. Cumque laudantium libero consequuntur tenetur unde.', preco='2715', foto='https://picsum.photos/seed/wsCft/600/450'),\n",
       " Produto(titulo='Computador', frete_gratis=True, parcelamento_s_juros=True, envio_internacional=True, em_oferta=True, num_estrelas=5, descricao='Voluptates deserunt facilis veniam fuga consectetur laudantium perspiciatis sint. Maiores corporis atque placeat voluptas assumenda autem. Iusto nobis quam labore est sint hic aut eius sint.', preco='1172', foto='https://picsum.photos/seed/HRXBC4/600/450'),\n",
       " Produto(titulo='Frango', frete_gratis=True, parcelamento_s_juros=False, envio_internacional=True, em_oferta=True, num_estrelas=5, descricao='Unde nostrum corporis labore minus ea ab.', preco='883', foto='https://picsum.photos/seed/573pR/600/450'),\n",
       " Produto(titulo='Frango', frete_gratis=False, parcelamento_s_juros=False, envio_internacional=True, em_oferta=False, num_estrelas=5, descricao='Fugit ab aperiam eius labore corrupti. Unde facilis mollitia error.', preco='4243', foto='https://picsum.photos/seed/0YKWN/600/450'),\n",
       " Produto(titulo='Pizza', frete_gratis=False, parcelamento_s_juros=True, envio_internacional=True, em_oferta=False, num_estrelas=5, descricao='Quos quis architecto maiores quia. Ullam aut velit sint unde dicta cum soluta tempore vero. Corrupti repellendus provident ratione aperiam vitae aliquid commodi.', preco='646', foto='https://picsum.photos/seed/8k8M7J3eIr/600/450'),\n",
       " Produto(titulo='Peixe', frete_gratis=False, parcelamento_s_juros=True, envio_internacional=True, em_oferta=False, num_estrelas=5, descricao='Corrupti ullam ex distinctio corrupti necessitatibus molestiae officia necessitatibus inventore.', preco='705', foto='https://picsum.photos/seed/U6bIq2/600/450'),\n",
       " Produto(titulo='Cadeira', frete_gratis=True, parcelamento_s_juros=False, envio_internacional=True, em_oferta=True, num_estrelas=5, descricao='Aperiam commodi illo inventore quisquam doloremque. Laborum totam optio officiis optio doloremque expedita sit.', preco='2374', foto='https://picsum.photos/seed/kEVqryG4u6/600/450'),\n",
       " Produto(titulo='Carro', frete_gratis=True, parcelamento_s_juros=False, envio_internacional=True, em_oferta=False, num_estrelas=5, descricao='Facilis minus vero voluptas inventore magni. Aut similique quae in dolorem possimus asperiores.', preco='1038', foto='https://picsum.photos/seed/8cJYFGOi/600/450'),\n",
       " Produto(titulo='Pizza', frete_gratis=False, parcelamento_s_juros=True, envio_internacional=True, em_oferta=False, num_estrelas=5, descricao='Soluta nesciunt natus esse quasi itaque. Quae pariatur quis nihil architecto placeat rerum sequi voluptate.', preco='3271', foto='https://picsum.photos/seed/2zUJKd2A/600/450'),\n",
       " Produto(titulo='Luvas', frete_gratis=True, parcelamento_s_juros=True, envio_internacional=True, em_oferta=True, num_estrelas=5, descricao='Saepe doloremque repudiandae aspernatur.', preco='3044', foto='https://picsum.photos/seed/56CLAaqiH9/600/450'),\n",
       " Produto(titulo='Cadeira', frete_gratis=False, parcelamento_s_juros=True, envio_internacional=True, em_oferta=False, num_estrelas=5, descricao='Neque architecto rem enim autem fugiat. Eius similique ratione ipsam atque saepe blanditiis aut.', preco='2438', foto='https://picsum.photos/seed/BwJQST8Zir/600/450'),\n",
       " Produto(titulo='Toalhas', frete_gratis=False, parcelamento_s_juros=False, envio_internacional=True, em_oferta=False, num_estrelas=5, descricao='Doloribus ut pariatur distinctio itaque quasi ullam.', preco='3659', foto='https://picsum.photos/seed/Q8zGQjN3i/600/450'),\n",
       " Produto(titulo='Salsicha', frete_gratis=False, parcelamento_s_juros=True, envio_internacional=True, em_oferta=True, num_estrelas=5, descricao='Animi quod ipsum omnis.', preco='4373', foto='https://picsum.photos/seed/viU3y/600/450'),\n",
       " Produto(titulo='Teclado', frete_gratis=False, parcelamento_s_juros=True, envio_internacional=True, em_oferta=False, num_estrelas=5, descricao='Odio ullam facere sit ab ipsa. Nemo perspiciatis corporis quibusdam explicabo. Nam dolorum laborum quibusdam doloribus sint consequuntur repudiandae.', preco='3952', foto='https://picsum.photos/seed/Ejb9GJ/600/450'),\n",
       " Produto(titulo='Bicicleta', frete_gratis=False, parcelamento_s_juros=True, envio_internacional=True, em_oferta=True, num_estrelas=5, descricao='At quam quae veniam sapiente maxime quisquam repellat labore perferendis. Assumenda velit cupiditate delectus est vel ipsum eligendi vero voluptatibus. Non hic dolorem excepturi officiis aliquid nesciunt rerum cumque.', preco='3426', foto='https://picsum.photos/seed/3gogjCWI8/600/450'),\n",
       " Produto(titulo='Frango', frete_gratis=False, parcelamento_s_juros=True, envio_internacional=True, em_oferta=True, num_estrelas=5, descricao='Explicabo tenetur laudantium consequatur itaque voluptas mollitia.', preco='1154', foto='https://picsum.photos/seed/xTSZEsC/600/450'),\n",
       " Produto(titulo='Cadeira', frete_gratis=True, parcelamento_s_juros=True, envio_internacional=True, em_oferta=False, num_estrelas=5, descricao='Dignissimos eligendi occaecati. Accusantium asperiores molestiae animi.', preco='4183', foto='https://picsum.photos/seed/0bZG2D5aK/600/450'),\n",
       " Produto(titulo='Carro', frete_gratis=True, parcelamento_s_juros=False, envio_internacional=True, em_oferta=True, num_estrelas=5, descricao='Deserunt quas consequuntur quidem praesentium.', preco='4608', foto='https://picsum.photos/seed/UVo6Iq/600/450')]"
      ]
     },
     "execution_count": 103,
     "metadata": {},
     "output_type": "execute_result"
    }
   ],
   "source": [
    "escolher_categoria(categoria='TVs')\n",
    "\n",
    "preencher_filtros(\n",
    "    frete_gratis = False,\n",
    "    parcelamento_sem_juros = False,\n",
    "    envio_internacional = True,\n",
    "    em_oferta = False,\n",
    "    preco_min = 1,\n",
    "    preco_max = 5000,\n",
    "    classif = 5\n",
    ")\n",
    "\n",
    "TVs = armazernar_dados_produtos()\n",
    "TVs"
   ]
  },
  {
   "cell_type": "markdown",
   "metadata": {},
   "source": [
    "### Selecionar todos os produtos da categoria Games com parcelamento sem juros, frete grátis, preço entre R$ 2.000,00 e R$ 8.000,00 reais e 3 estrelas."
   ]
  },
  {
   "cell_type": "code",
   "execution_count": null,
   "metadata": {},
   "outputs": [
    {
     "data": {
      "text/plain": [
       "[Produto(titulo='Queijo', frete_gratis=True, parcelamento_s_juros=True, envio_internacional=True, em_oferta=False, num_estrelas=3, descricao='Earum dolore aspernatur neque quasi sunt id.', preco='5727', foto='https://picsum.photos/seed/iBzRJFjgn/600/450'),\n",
       " Produto(titulo='Computador', frete_gratis=True, parcelamento_s_juros=True, envio_internacional=False, em_oferta=True, num_estrelas=3, descricao='Iste reiciendis corrupti deleniti. Et aspernatur nemo a accusantium recusandae.', preco='3396', foto='https://picsum.photos/seed/ysn4dO7mYF/600/450'),\n",
       " Produto(titulo='Camiseta', frete_gratis=True, parcelamento_s_juros=True, envio_internacional=True, em_oferta=False, num_estrelas=3, descricao='Dolor doloremque in explicabo. Magnam beatae placeat sint debitis expedita laudantium odit iure. Sapiente nobis aliquam corrupti ea saepe magni perferendis.', preco='7824', foto='https://picsum.photos/seed/rVksI1b88H/600/450'),\n",
       " Produto(titulo='Computador', frete_gratis=True, parcelamento_s_juros=True, envio_internacional=False, em_oferta=False, num_estrelas=3, descricao='Delectus ut quae quas. Sequi facilis laudantium ea odio dicta suscipit. Nisi dolorem animi accusantium.', preco='2126', foto='https://picsum.photos/seed/bYehDeV/600/450'),\n",
       " Produto(titulo='Cadeira', frete_gratis=True, parcelamento_s_juros=True, envio_internacional=True, em_oferta=False, num_estrelas=3, descricao='Eligendi sapiente sunt nemo qui. Repellat rerum culpa quod harum repellat ipsam ab officiis molestias.', preco='6290', foto='https://picsum.photos/seed/WWP90WkWA/600/450'),\n",
       " Produto(titulo='Queijo', frete_gratis=True, parcelamento_s_juros=True, envio_internacional=False, em_oferta=False, num_estrelas=3, descricao='Dolorem quam quas consequatur enim voluptatum natus. Commodi velit nulla itaque perspiciatis rem cumque alias. Dolorem dolore vel vero sequi ducimus dolorem reiciendis repellendus.', preco='5928', foto='https://picsum.photos/seed/FbHJA4/600/450'),\n",
       " Produto(titulo='Bola', frete_gratis=True, parcelamento_s_juros=True, envio_internacional=False, em_oferta=False, num_estrelas=3, descricao='Quasi enim dolores distinctio dicta est facere neque minima.', preco='6243', foto='https://picsum.photos/seed/zOH28rKnN/600/450'),\n",
       " Produto(titulo='Salsicha', frete_gratis=True, parcelamento_s_juros=True, envio_internacional=True, em_oferta=True, num_estrelas=3, descricao='Recusandae minus accusamus ipsam dolores.', preco='2479', foto='https://picsum.photos/seed/CaLC3wv/600/450'),\n",
       " Produto(titulo='Carro', frete_gratis=True, parcelamento_s_juros=True, envio_internacional=True, em_oferta=True, num_estrelas=3, descricao='Illum expedita voluptates laudantium excepturi. Ullam iusto ut velit. Commodi nostrum error.', preco='2778', foto='https://picsum.photos/seed/E0oes3/600/450'),\n",
       " Produto(titulo='Mouse', frete_gratis=True, parcelamento_s_juros=True, envio_internacional=False, em_oferta=False, num_estrelas=3, descricao='Dolorem id iusto. Recusandae quas magnam unde dignissimos vero ipsa.', preco='6063', foto='https://picsum.photos/seed/hrUL0u8h/600/450'),\n",
       " Produto(titulo='Mesa', frete_gratis=True, parcelamento_s_juros=True, envio_internacional=False, em_oferta=True, num_estrelas=3, descricao='Libero beatae atque impedit doloremque.', preco='2938', foto='https://picsum.photos/seed/uGFufjdt/600/450'),\n",
       " Produto(titulo='Queijo', frete_gratis=True, parcelamento_s_juros=True, envio_internacional=True, em_oferta=False, num_estrelas=3, descricao='Delectus cupiditate maxime qui officiis nemo.', preco='5269', foto='https://picsum.photos/seed/LHLA3v/600/450'),\n",
       " Produto(titulo='Cadeira', frete_gratis=True, parcelamento_s_juros=True, envio_internacional=True, em_oferta=False, num_estrelas=3, descricao='Aliquam sit nam aspernatur dolore architecto eum. Optio debitis ipsum sed eaque incidunt. Ipsa quas a tempora earum laudantium suscipit.', preco='7417', foto='https://picsum.photos/seed/7ECz6Ko/600/450'),\n",
       " Produto(titulo='Peixe', frete_gratis=True, parcelamento_s_juros=True, envio_internacional=True, em_oferta=False, num_estrelas=3, descricao='Suscipit illum laboriosam. Quos esse tempora. Quasi vero unde rerum odio eius ex doloribus ipsam.', preco='6904', foto='https://picsum.photos/seed/sw8A727C8f/600/450'),\n",
       " Produto(titulo='Cadeira', frete_gratis=True, parcelamento_s_juros=True, envio_internacional=True, em_oferta=False, num_estrelas=3, descricao='Optio est rerum sit voluptates quidem consectetur iure at. Impedit iusto accusantium vero. Labore facere ab distinctio quibusdam saepe ab odit.', preco='7887', foto='https://picsum.photos/seed/iGLvGY/600/450'),\n",
       " Produto(titulo='Cadeira', frete_gratis=True, parcelamento_s_juros=True, envio_internacional=True, em_oferta=True, num_estrelas=3, descricao='Omnis dolores quisquam sint officia. Dignissimos iure ex suscipit doloremque animi nemo. Autem perspiciatis molestias quae distinctio quo laboriosam corrupti consectetur.', preco='5832', foto='https://picsum.photos/seed/VAsQHLB/600/450'),\n",
       " Produto(titulo='Salgadinhos', frete_gratis=True, parcelamento_s_juros=True, envio_internacional=True, em_oferta=False, num_estrelas=3, descricao='Facilis itaque quia vel magnam laboriosam tenetur eveniet tempora.', preco='4112', foto='https://picsum.photos/seed/P80RC8Fo/600/450'),\n",
       " Produto(titulo='Frango', frete_gratis=True, parcelamento_s_juros=True, envio_internacional=False, em_oferta=True, num_estrelas=3, descricao='Dolore a dolor tempore corrupti voluptatibus dolor sit laudantium sint.', preco='5669', foto='https://picsum.photos/seed/uYAC8cxo/600/450'),\n",
       " Produto(titulo='Luvas', frete_gratis=True, parcelamento_s_juros=True, envio_internacional=False, em_oferta=False, num_estrelas=3, descricao='Commodi molestiae fugiat excepturi cupiditate molestias voluptas excepturi quis.', preco='5666', foto='https://picsum.photos/seed/f1VCed/600/450'),\n",
       " Produto(titulo='Teclado', frete_gratis=True, parcelamento_s_juros=True, envio_internacional=True, em_oferta=False, num_estrelas=3, descricao='Culpa non sequi occaecati iure natus. Perferendis corrupti laudantium reprehenderit animi odit. Maiores ea tempora ad perspiciatis impedit inventore.', preco='4329', foto='https://picsum.photos/seed/baQryyvQ/600/450'),\n",
       " Produto(titulo='Toalhas', frete_gratis=True, parcelamento_s_juros=True, envio_internacional=False, em_oferta=True, num_estrelas=3, descricao='Laboriosam laudantium quod dolorum minima officia dolorum itaque. Id expedita pariatur. Cum adipisci rem neque delectus similique.', preco='6525', foto='https://picsum.photos/seed/iCbEX4CFmA/600/450'),\n",
       " Produto(titulo='Salgadinhos', frete_gratis=True, parcelamento_s_juros=True, envio_internacional=False, em_oferta=False, num_estrelas=3, descricao='Aperiam saepe numquam quasi harum. Provident ipsam rerum excepturi aspernatur.', preco='6862', foto='https://picsum.photos/seed/RLrJ02/600/450'),\n",
       " Produto(titulo='Camiseta', frete_gratis=True, parcelamento_s_juros=True, envio_internacional=False, em_oferta=False, num_estrelas=3, descricao='Blanditiis illum maiores maiores nobis dolorem earum repudiandae est.', preco='5834', foto='https://picsum.photos/seed/B24Pj/600/450'),\n",
       " Produto(titulo='Salgadinhos', frete_gratis=True, parcelamento_s_juros=True, envio_internacional=False, em_oferta=True, num_estrelas=3, descricao='Quae doloribus veritatis laboriosam consequuntur veniam praesentium similique ullam deserunt. Vel minima consequatur ipsa. Sed deleniti reiciendis error quod.', preco='2513', foto='https://picsum.photos/seed/BVgiqDVr/600/450'),\n",
       " Produto(titulo='Bacon', frete_gratis=True, parcelamento_s_juros=True, envio_internacional=True, em_oferta=True, num_estrelas=3, descricao='Cum odio laborum ipsam maiores ratione. Sed pariatur ipsa quae deserunt perspiciatis.', preco='7573', foto='https://picsum.photos/seed/Lju5O/600/450'),\n",
       " Produto(titulo='Atum', frete_gratis=True, parcelamento_s_juros=True, envio_internacional=False, em_oferta=True, num_estrelas=3, descricao='Id eligendi doloremque. Nulla a tempora officiis dolores veritatis sequi vitae assumenda. Eius perferendis eligendi tempore necessitatibus laboriosam.', preco='7791', foto='https://picsum.photos/seed/Qroer2Y/600/450'),\n",
       " Produto(titulo='Frango', frete_gratis=True, parcelamento_s_juros=True, envio_internacional=False, em_oferta=True, num_estrelas=3, descricao='At facilis enim accusantium rerum eaque repellat repellendus. Harum ex eligendi. Deleniti asperiores hic voluptatem nostrum sequi quo harum doloribus.', preco='3282', foto='https://picsum.photos/seed/mtNTx/600/450'),\n",
       " Produto(titulo='Pizza', frete_gratis=True, parcelamento_s_juros=True, envio_internacional=True, em_oferta=True, num_estrelas=3, descricao='Voluptatum numquam labore accusantium voluptatibus debitis earum. Unde adipisci temporibus cum accusamus officia.', preco='7672', foto='https://picsum.photos/seed/Ww34BKv/600/450'),\n",
       " Produto(titulo='Calças', frete_gratis=True, parcelamento_s_juros=True, envio_internacional=False, em_oferta=False, num_estrelas=3, descricao='Alias provident sed.', preco='4524', foto='https://picsum.photos/seed/DGJiQLl/600/450'),\n",
       " Produto(titulo='Teclado', frete_gratis=True, parcelamento_s_juros=True, envio_internacional=True, em_oferta=True, num_estrelas=3, descricao='Voluptatibus quo voluptate dolores neque quisquam ea voluptatum molestias. Dolorem blanditiis consectetur earum hic libero animi maiores esse eaque. Quasi enim voluptatem distinctio voluptatem.', preco='3063', foto='https://picsum.photos/seed/cGFehFMaO/600/450'),\n",
       " Produto(titulo='Salsicha', frete_gratis=True, parcelamento_s_juros=True, envio_internacional=False, em_oferta=False, num_estrelas=3, descricao='Optio atque recusandae ipsam ipsam sit iure quam officiis.', preco='2261', foto='https://picsum.photos/seed/7kSkyOMMJ/600/450'),\n",
       " Produto(titulo='Luvas', frete_gratis=True, parcelamento_s_juros=True, envio_internacional=False, em_oferta=True, num_estrelas=3, descricao='Repellendus ad iusto enim officiis sapiente inventore perspiciatis aperiam quisquam.', preco='2862', foto='https://picsum.photos/seed/QbqQyOnp/600/450'),\n",
       " Produto(titulo='Salgadinhos', frete_gratis=True, parcelamento_s_juros=True, envio_internacional=True, em_oferta=False, num_estrelas=3, descricao='Totam voluptate rem. Sed nulla tenetur rem minima ad possimus. Similique impedit quod non.', preco='6688', foto='https://picsum.photos/seed/Kakx85II/600/450')]"
      ]
     },
     "execution_count": 105,
     "metadata": {},
     "output_type": "execute_result"
    }
   ],
   "source": [
    "escolher_categoria(categoria='Games')\n",
    "\n",
    "preencher_filtros(\n",
    "    frete_gratis = True,\n",
    "    parcelamento_sem_juros = True,\n",
    "    envio_internacional = False,\n",
    "    em_oferta = False,\n",
    "    preco_min = 2000,\n",
    "    preco_max = 8000,\n",
    "    classif = 3\n",
    ")\n",
    "\n",
    "games = armazernar_dados_produtos()\n",
    "games"
   ]
  },
  {
   "cell_type": "markdown",
   "metadata": {},
   "source": [
    "### Selecionar todos os produtos da categoria Notebooks com parcelamento sem juros, em oferta, preço entre R$ 1.234,00 e R$ 7.896,00 reais e 4 estrelas."
   ]
  },
  {
   "cell_type": "code",
   "execution_count": 108,
   "metadata": {},
   "outputs": [
    {
     "data": {
      "text/plain": [
       "[Produto(titulo='Atum', frete_gratis=False, parcelamento_s_juros=True, envio_internacional=False, em_oferta=True, num_estrelas=4, descricao='Vitae libero aliquid ullam a exercitationem hic est odio.', preco='1792', foto='https://picsum.photos/seed/2MiRx3gY/600/450'),\n",
       " Produto(titulo='Carro', frete_gratis=False, parcelamento_s_juros=True, envio_internacional=True, em_oferta=True, num_estrelas=4, descricao='Eaque aperiam asperiores. Exercitationem alias odio explicabo consequuntur ipsum porro cupiditate error.', preco='1408', foto='https://picsum.photos/seed/7NmQ31dg/600/450'),\n",
       " Produto(titulo='Toalhas', frete_gratis=False, parcelamento_s_juros=True, envio_internacional=False, em_oferta=True, num_estrelas=4, descricao='Error quo necessitatibus. Dolorem deleniti vel voluptatum dolor occaecati odio sequi aliquam.', preco='3752', foto='https://picsum.photos/seed/Im8CTqvlq3/600/450'),\n",
       " Produto(titulo='Mesa', frete_gratis=False, parcelamento_s_juros=True, envio_internacional=True, em_oferta=True, num_estrelas=4, descricao='Deleniti nesciunt nam odit facilis error cum libero dolorem ullam. Odio cumque ipsum qui et occaecati.', preco='5196', foto='https://picsum.photos/seed/iacWYg7/600/450'),\n",
       " Produto(titulo='Carro', frete_gratis=False, parcelamento_s_juros=True, envio_internacional=False, em_oferta=True, num_estrelas=4, descricao='Repellendus ex minus autem dolorum mollitia a aliquam. Quis beatae maxime dolores omnis distinctio magni repudiandae tempora. Harum vel reiciendis soluta magni laboriosam accusantium deleniti amet saepe.', preco='6672', foto='https://picsum.photos/seed/MUjb50yL/600/450'),\n",
       " Produto(titulo='Chapéu', frete_gratis=False, parcelamento_s_juros=True, envio_internacional=True, em_oferta=True, num_estrelas=4, descricao='Accusamus recusandae ducimus excepturi.', preco='7460', foto='https://picsum.photos/seed/nECfn3/600/450'),\n",
       " Produto(titulo='Carro', frete_gratis=True, parcelamento_s_juros=True, envio_internacional=False, em_oferta=True, num_estrelas=4, descricao='Voluptates necessitatibus voluptas mollitia minima quod architecto dolorum. Natus repellendus deserunt vero in cum. Corporis itaque nesciunt architecto dolores dolor quaerat rerum.', preco='7240', foto='https://picsum.photos/seed/9Sfo8oK/600/450'),\n",
       " Produto(titulo='Queijo', frete_gratis=False, parcelamento_s_juros=True, envio_internacional=True, em_oferta=True, num_estrelas=4, descricao='Alias suscipit repellendus minus repellat. Accusantium quo odit nulla nobis nemo omnis veritatis dignissimos expedita. Molestias assumenda aperiam consectetur occaecati temporibus maxime corporis maiores quam.', preco='3178', foto='https://picsum.photos/seed/MsBbrn/600/450'),\n",
       " Produto(titulo='Camiseta', frete_gratis=True, parcelamento_s_juros=True, envio_internacional=False, em_oferta=True, num_estrelas=4, descricao='Nisi maiores consequatur perspiciatis deleniti error commodi qui temporibus.', preco='5007', foto='https://picsum.photos/seed/TSoJW/600/450'),\n",
       " Produto(titulo='Calças', frete_gratis=True, parcelamento_s_juros=True, envio_internacional=True, em_oferta=True, num_estrelas=4, descricao='Numquam iusto veniam nulla vel nam reprehenderit quo. Deleniti provident velit placeat quibusdam ipsam explicabo nihil perferendis dolor. Quae incidunt neque commodi in reiciendis natus.', preco='7879', foto='https://picsum.photos/seed/9wXxMKqQX/600/450'),\n",
       " Produto(titulo='Queijo', frete_gratis=False, parcelamento_s_juros=True, envio_internacional=False, em_oferta=True, num_estrelas=4, descricao='Occaecati libero quidem vel. Earum libero facere nihil eaque nostrum accusantium. Sequi ipsa itaque error occaecati similique tenetur laboriosam error.', preco='5658', foto='https://picsum.photos/seed/eRsQj/600/450'),\n",
       " Produto(titulo='Luvas', frete_gratis=False, parcelamento_s_juros=True, envio_internacional=False, em_oferta=True, num_estrelas=4, descricao='Ex sit eaque necessitatibus voluptatem animi quae maiores.', preco='1628', foto='https://picsum.photos/seed/yIOnXtHk4/600/450'),\n",
       " Produto(titulo='Luvas', frete_gratis=True, parcelamento_s_juros=True, envio_internacional=False, em_oferta=True, num_estrelas=4, descricao='Commodi eaque eum magni sint non ab debitis. A cupiditate tenetur maiores consectetur exercitationem a.', preco='6764', foto='https://picsum.photos/seed/moro4LCc/600/450'),\n",
       " Produto(titulo='Luvas', frete_gratis=True, parcelamento_s_juros=True, envio_internacional=True, em_oferta=True, num_estrelas=4, descricao='Architecto vero nostrum nemo aliquam.', preco='5764', foto='https://picsum.photos/seed/QCsQ98O/600/450'),\n",
       " Produto(titulo='Mouse', frete_gratis=True, parcelamento_s_juros=True, envio_internacional=False, em_oferta=True, num_estrelas=4, descricao='Qui autem vel error.', preco='4945', foto='https://picsum.photos/seed/4VrnbSZoR2/600/450'),\n",
       " Produto(titulo='Bacon', frete_gratis=True, parcelamento_s_juros=True, envio_internacional=False, em_oferta=True, num_estrelas=4, descricao='Quis minima magni mollitia quam beatae qui. Perferendis quaerat qui. Sapiente ipsum amet pariatur assumenda harum reprehenderit.', preco='7529', foto='https://picsum.photos/seed/tk8vxOwX/600/450'),\n",
       " Produto(titulo='Pizza', frete_gratis=False, parcelamento_s_juros=True, envio_internacional=False, em_oferta=True, num_estrelas=4, descricao='Amet sit quibusdam repellendus enim dignissimos culpa. Quidem quae illum. Culpa architecto eaque corporis quasi optio.', preco='6374', foto='https://picsum.photos/seed/9gxBJtQva/600/450'),\n",
       " Produto(titulo='Bola', frete_gratis=False, parcelamento_s_juros=True, envio_internacional=True, em_oferta=True, num_estrelas=4, descricao='Minima recusandae autem. Sequi aspernatur officiis laborum nostrum.', preco='6517', foto='https://picsum.photos/seed/t1j5Cugfn/600/450'),\n",
       " Produto(titulo='Chapéu', frete_gratis=True, parcelamento_s_juros=True, envio_internacional=False, em_oferta=True, num_estrelas=4, descricao='Aliquid vitae voluptatum minus assumenda et. Debitis sequi commodi totam. Rem ipsam voluptatibus voluptatum accusamus blanditiis cumque dolorum possimus itaque.', preco='6764', foto='https://picsum.photos/seed/aCQsSerl/600/450'),\n",
       " Produto(titulo='Chapéu', frete_gratis=True, parcelamento_s_juros=True, envio_internacional=True, em_oferta=True, num_estrelas=4, descricao='Eius odio ea adipisci. Et impedit mollitia tempora rem modi voluptatem quae occaecati. Sunt quia expedita eveniet iure.', preco='6096', foto='https://picsum.photos/seed/g2kmcrL5V/600/450'),\n",
       " Produto(titulo='Salgadinhos', frete_gratis=False, parcelamento_s_juros=True, envio_internacional=False, em_oferta=True, num_estrelas=4, descricao='Animi corporis eaque modi veritatis sapiente atque.', preco='6462', foto='https://picsum.photos/seed/2TwQKS/600/450'),\n",
       " Produto(titulo='Carro', frete_gratis=True, parcelamento_s_juros=True, envio_internacional=True, em_oferta=True, num_estrelas=4, descricao='Rem ab facilis molestiae ex quam ipsam. Saepe perferendis numquam iste aut sit id cum.', preco='7040', foto='https://picsum.photos/seed/OBgLyva6n/600/450'),\n",
       " Produto(titulo='Peixe', frete_gratis=True, parcelamento_s_juros=True, envio_internacional=False, em_oferta=True, num_estrelas=4, descricao='Iusto molestiae earum. Placeat quaerat ipsum voluptatum qui nam quae.', preco='6500', foto='https://picsum.photos/seed/g3PkwDkd/600/450'),\n",
       " Produto(titulo='Queijo', frete_gratis=True, parcelamento_s_juros=True, envio_internacional=False, em_oferta=True, num_estrelas=4, descricao='Ut harum maiores placeat minima necessitatibus nemo expedita placeat temporibus. At vel tempora itaque voluptatibus nemo assumenda sint veniam.', preco='3258', foto='https://picsum.photos/seed/Iz12v/600/450'),\n",
       " Produto(titulo='Chapéu', frete_gratis=True, parcelamento_s_juros=True, envio_internacional=False, em_oferta=True, num_estrelas=4, descricao='Nemo magnam officiis numquam iste ullam. Autem repudiandae odio nesciunt ratione occaecati minima ea. Doloribus iste in illum itaque praesentium.', preco='3742', foto='https://picsum.photos/seed/SMoQTG7bzW/600/450'),\n",
       " Produto(titulo='Peixe', frete_gratis=False, parcelamento_s_juros=True, envio_internacional=True, em_oferta=True, num_estrelas=4, descricao='Ullam explicabo incidunt saepe illum laboriosam animi dolorum. Id voluptatum molestias rerum recusandae. Consequatur eveniet facilis cumque exercitationem ex.', preco='4034', foto='https://picsum.photos/seed/cAyAYH24/600/450'),\n",
       " Produto(titulo='Camiseta', frete_gratis=True, parcelamento_s_juros=True, envio_internacional=True, em_oferta=True, num_estrelas=4, descricao='Nihil consequuntur explicabo laudantium veritatis unde pariatur voluptas. Alias sunt occaecati.', preco='7843', foto='https://picsum.photos/seed/uoIHXEF/600/450'),\n",
       " Produto(titulo='Bola', frete_gratis=True, parcelamento_s_juros=True, envio_internacional=False, em_oferta=True, num_estrelas=4, descricao='Facilis magni dolor sequi et iusto.', preco='2957', foto='https://picsum.photos/seed/NqSbU3Ok/600/450'),\n",
       " Produto(titulo='Salsicha', frete_gratis=True, parcelamento_s_juros=True, envio_internacional=False, em_oferta=True, num_estrelas=4, descricao='Odio ducimus similique quas reiciendis esse quas quis pariatur. Laborum tempore repellendus porro aspernatur aliquid fugit deserunt iusto velit.', preco='2748', foto='https://picsum.photos/seed/Qwv1K0HkI/600/450'),\n",
       " Produto(titulo='Sapatos', frete_gratis=True, parcelamento_s_juros=True, envio_internacional=False, em_oferta=True, num_estrelas=4, descricao='Ipsa reiciendis tenetur beatae quisquam magni esse magni accusantium illo. Quis magnam modi labore placeat ad enim mollitia laboriosam aspernatur.', preco='6140', foto='https://picsum.photos/seed/qPFtFF/600/450'),\n",
       " Produto(titulo='Salgadinhos', frete_gratis=True, parcelamento_s_juros=True, envio_internacional=False, em_oferta=True, num_estrelas=4, descricao='Cumque ad enim hic beatae. Sapiente dolor nihil amet nemo eius laudantium saepe ab.', preco='6118', foto='https://picsum.photos/seed/nE4j1/600/450'),\n",
       " Produto(titulo='Mouse', frete_gratis=True, parcelamento_s_juros=True, envio_internacional=True, em_oferta=True, num_estrelas=4, descricao='Consequatur corrupti debitis quas nulla repellat. Illum dolorum officia. Aperiam cupiditate ipsa aspernatur ducimus.', preco='4365', foto='https://picsum.photos/seed/kP3WbOd/600/450'),\n",
       " Produto(titulo='Camiseta', frete_gratis=False, parcelamento_s_juros=True, envio_internacional=False, em_oferta=True, num_estrelas=4, descricao='Similique officia sed illo reiciendis fuga doloremque numquam sunt. Laborum est quia perspiciatis magnam et iusto possimus itaque. Aut asperiores quas.', preco='4183', foto='https://picsum.photos/seed/zesefApVTb/600/450'),\n",
       " Produto(titulo='Luvas', frete_gratis=True, parcelamento_s_juros=True, envio_internacional=True, em_oferta=True, num_estrelas=4, descricao='Voluptates voluptatum beatae voluptatibus reprehenderit praesentium. Hic illum esse blanditiis maiores quidem.', preco='2061', foto='https://picsum.photos/seed/5IRpzr0/600/450'),\n",
       " Produto(titulo='Peixe', frete_gratis=True, parcelamento_s_juros=True, envio_internacional=True, em_oferta=True, num_estrelas=4, descricao='Aperiam odio culpa numquam numquam.', preco='4495', foto='https://picsum.photos/seed/6dcuFxg/600/450'),\n",
       " Produto(titulo='Teclado', frete_gratis=True, parcelamento_s_juros=True, envio_internacional=True, em_oferta=True, num_estrelas=4, descricao='Temporibus in adipisci eos veritatis totam quam voluptatum accusamus.', preco='6996', foto='https://picsum.photos/seed/tfNzPJO2/600/450'),\n",
       " Produto(titulo='Salgadinhos', frete_gratis=True, parcelamento_s_juros=True, envio_internacional=True, em_oferta=True, num_estrelas=4, descricao='Commodi necessitatibus nobis necessitatibus sunt. Voluptas quod est autem.', preco='2559', foto='https://picsum.photos/seed/TP5U8V/600/450'),\n",
       " Produto(titulo='Teclado', frete_gratis=False, parcelamento_s_juros=True, envio_internacional=True, em_oferta=True, num_estrelas=4, descricao='Nisi aspernatur ad labore sunt. Perferendis excepturi non fuga tempora esse impedit voluptatum illum itaque. Velit mollitia cupiditate illum adipisci laboriosam repudiandae.', preco='2950', foto='https://picsum.photos/seed/JtxwcY/600/450'),\n",
       " Produto(titulo='Luvas', frete_gratis=True, parcelamento_s_juros=True, envio_internacional=False, em_oferta=True, num_estrelas=4, descricao='Cupiditate esse blanditiis.', preco='4500', foto='https://picsum.photos/seed/swlCJIAb/600/450'),\n",
       " Produto(titulo='Peixe', frete_gratis=True, parcelamento_s_juros=True, envio_internacional=False, em_oferta=True, num_estrelas=4, descricao='Porro unde et aspernatur sapiente deleniti. Tempora architecto aut enim rerum incidunt.', preco='7281', foto='https://picsum.photos/seed/H9DwA8h/600/450'),\n",
       " Produto(titulo='Cadeira', frete_gratis=True, parcelamento_s_juros=True, envio_internacional=True, em_oferta=True, num_estrelas=4, descricao='Ipsam eum nisi doloremque magnam. Dicta quod vitae veniam quidem sunt ratione doloremque.', preco='5642', foto='https://picsum.photos/seed/U2qJHnJT/600/450')]"
      ]
     },
     "execution_count": 108,
     "metadata": {},
     "output_type": "execute_result"
    }
   ],
   "source": [
    "escolher_categoria(categoria='Notebooks')\n",
    "\n",
    "preencher_filtros(\n",
    "    frete_gratis = False,\n",
    "    parcelamento_sem_juros = True,\n",
    "    envio_internacional = False,\n",
    "    em_oferta = True,\n",
    "    preco_min = 1234,\n",
    "    preco_max = 7896,\n",
    "    classif = 4\n",
    ")\n",
    "\n",
    "notebooks = armazernar_dados_produtos()\n",
    "notebooks"
   ]
  },
  {
   "cell_type": "markdown",
   "metadata": {},
   "source": [
    "### Exportar todos os dados para um JSON e um CSV"
   ]
  },
  {
   "cell_type": "code",
   "execution_count": 109,
   "metadata": {},
   "outputs": [],
   "source": [
    "todos_produtos = celulares + TVs + games + notebooks"
   ]
  },
  {
   "cell_type": "code",
   "execution_count": 110,
   "metadata": {},
   "outputs": [],
   "source": [
    "from dataclasses import asdict\n",
    "from dataclasses import fields\n",
    "import json\n",
    "import csv"
   ]
  },
  {
   "cell_type": "code",
   "execution_count": 111,
   "metadata": {},
   "outputs": [],
   "source": [
    "with open('desafio_04.json', 'w') as file:\n",
    "    data_formatted = [asdict(d) for d in todos_produtos]\n",
    "    json.dump(data_formatted, file, ensure_ascii=False)"
   ]
  },
  {
   "cell_type": "code",
   "execution_count": 114,
   "metadata": {},
   "outputs": [],
   "source": [
    "with open('desafio_04.csv', 'w') as csvfile:\n",
    "    headers = [field.name for field in fields(Produto)]\n",
    "    file = csv.DictWriter(csvfile, fieldnames=headers)\n",
    "\n",
    "    file.writeheader()\n",
    "\n",
    "    data_formatted = [asdict(d) for d in todos_produtos]\n",
    "    file.writerows(data_formatted)"
   ]
  },
  {
   "cell_type": "code",
   "execution_count": null,
   "metadata": {},
   "outputs": [],
   "source": []
  }
 ],
 "metadata": {
  "kernelspec": {
   "display_name": "Python 3",
   "language": "python",
   "name": "python3"
  },
  "language_info": {
   "codemirror_mode": {
    "name": "ipython",
    "version": 3
   },
   "file_extension": ".py",
   "mimetype": "text/x-python",
   "name": "python",
   "nbconvert_exporter": "python",
   "pygments_lexer": "ipython3",
   "version": "3.12.0"
  }
 },
 "nbformat": 4,
 "nbformat_minor": 2
}
