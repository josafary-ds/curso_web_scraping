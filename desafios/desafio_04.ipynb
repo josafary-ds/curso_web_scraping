{
 "cells": [
  {
   "cell_type": "code",
   "execution_count": 1,
   "metadata": {},
   "outputs": [],
   "source": [
    "from selenium import webdriver\n",
    "from selenium.webdriver.common.by import By\n",
    "from selenium.webdriver.support.wait import WebDriverWait\n",
    "from selenium.webdriver.support import expected_conditions as EC\n",
    "from selenium.webdriver.common.action_chains import ActionChains\n",
    "from selenium.webdriver.common.keys import Keys"
   ]
  },
  {
   "cell_type": "code",
   "execution_count": 16,
   "metadata": {},
   "outputs": [],
   "source": [
    "driver = webdriver.Chrome()"
   ]
  },
  {
   "cell_type": "code",
   "execution_count": 17,
   "metadata": {},
   "outputs": [],
   "source": [
    "driver.get('https://curso-web-scraping.pages.dev/#/desafio/4')"
   ]
  },
  {
   "cell_type": "code",
   "execution_count": 18,
   "metadata": {},
   "outputs": [],
   "source": [
    "cat_celulares = driver.find_element(By.XPATH, '//div//h1[contains(text(), \"Celulares\")]')\n",
    "cat_games = driver.find_element(By.XPATH, '//div//h1[contains(text(), \"Games\")]')\n",
    "cat_notebooks = driver.find_element(By.XPATH, '//div//h1[contains(text(), \"Notebooks\")]')\n",
    "cat_tvs = driver.find_element(By.XPATH, '//div//h1[contains(text(), \"TVs\")]')"
   ]
  },
  {
   "cell_type": "code",
   "execution_count": 19,
   "metadata": {},
   "outputs": [],
   "source": [
    "ActionChains(driver).move_to_element(cat_celulares).click().perform()"
   ]
  },
  {
   "cell_type": "code",
   "execution_count": 27,
   "metadata": {},
   "outputs": [],
   "source": [
    "frete = driver.find_element(By.ID, 'frete')\n",
    "oferta = driver.find_element(By.ID, 'oferta')\n",
    "\n",
    "(\n",
    "    ActionChains(driver)\n",
    "    .move_to_element(frete)\n",
    "    .click()\n",
    "    .move_to_element(oferta)\n",
    "    .click()\n",
    "    .perform()\n",
    ")"
   ]
  },
  {
   "cell_type": "code",
   "execution_count": 32,
   "metadata": {},
   "outputs": [],
   "source": [
    "preco_inicial = driver.find_element(By.ID, 'price-from')\n",
    "preco_final = driver.find_element(By.ID, 'price-to')\n",
    "\n",
    "(\n",
    "    ActionChains(driver)\n",
    "    .move_to_element(preco_inicial)\n",
    "    .double_click(preco_inicial)\n",
    "    .send_keys('500')\n",
    "    .perform()\n",
    ")\n",
    "\n",
    "(\n",
    "    ActionChains(driver)\n",
    "    .move_to_element(preco_final)\n",
    "    .double_click(preco_final)\n",
    "    .send_keys('2500')\n",
    "    .perform()\n",
    ")"
   ]
  },
  {
   "cell_type": "code",
   "execution_count": 29,
   "metadata": {},
   "outputs": [],
   "source": [
    "quatro_estrelas = driver.find_element(By.ID, 'four-stars')\n",
    "ActionChains(driver).move_to_element(quatro_estrelas).click().perform()"
   ]
  },
  {
   "cell_type": "code",
   "execution_count": 33,
   "metadata": {},
   "outputs": [],
   "source": [
    "buscar_btn = driver.find_element(By.XPATH, '//div//button[contains(text(), \"Buscar\")]')\n",
    "\n",
    "buscar_btn.click()"
   ]
  },
  {
   "cell_type": "code",
   "execution_count": null,
   "metadata": {},
   "outputs": [],
   "source": []
  }
 ],
 "metadata": {
  "kernelspec": {
   "display_name": "Python 3",
   "language": "python",
   "name": "python3"
  },
  "language_info": {
   "codemirror_mode": {
    "name": "ipython",
    "version": 3
   },
   "file_extension": ".py",
   "mimetype": "text/x-python",
   "name": "python",
   "nbconvert_exporter": "python",
   "pygments_lexer": "ipython3",
   "version": "3.12.0"
  }
 },
 "nbformat": 4,
 "nbformat_minor": 2
}
