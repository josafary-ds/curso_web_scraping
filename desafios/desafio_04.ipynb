{
 "cells": [
  {
   "cell_type": "code",
   "execution_count": 1,
   "metadata": {},
   "outputs": [],
   "source": [
    "from selenium import webdriver\n",
    "from selenium.webdriver.common.by import By\n",
    "from selenium.webdriver.support.wait import WebDriverWait\n",
    "from selenium.webdriver.support import expected_conditions as EC\n",
    "from selenium.webdriver.support.ui import Select\n",
    "from selenium.webdriver.common.action_chains import ActionChains\n",
    "from selenium.webdriver.common.keys import Keys"
   ]
  },
  {
   "cell_type": "code",
   "execution_count": 32,
   "metadata": {},
   "outputs": [],
   "source": [
    "driver = webdriver.Chrome()"
   ]
  },
  {
   "cell_type": "code",
   "execution_count": 34,
   "metadata": {},
   "outputs": [],
   "source": [
    "#driver.get('https://curso-web-scraping.pages.dev/#/desafio/4')\n",
    "driver.get('http://localhost:8000/#/desafio/4')"
   ]
  },
  {
   "cell_type": "code",
   "execution_count": 35,
   "metadata": {},
   "outputs": [],
   "source": [
    "categoria = \"Celulares\""
   ]
  },
  {
   "cell_type": "code",
   "execution_count": 36,
   "metadata": {},
   "outputs": [],
   "source": [
    "(\n",
    "    ActionChains(driver)\n",
    "    .click(driver.find_element(By.XPATH, f'//div//h1[contains(text(), \"{categoria}\")]'))\n",
    "    .perform()\n",
    ")"
   ]
  },
  {
   "cell_type": "markdown",
   "metadata": {},
   "source": [
    "### Busca de produtos"
   ]
  },
  {
   "cell_type": "code",
   "execution_count": 37,
   "metadata": {},
   "outputs": [
    {
     "data": {
      "text/plain": [
       "[<selenium.webdriver.remote.webelement.WebElement (session=\"cfff13241aea74f95ca4e2370dd6c48f\", element=\"f.7974DFA9C215FFA68987D8B076D3D60E.d.E7CC09FA8F07275C63B0DE4EC3AD2E76.e.414\")>,\n",
       " <selenium.webdriver.remote.webelement.WebElement (session=\"cfff13241aea74f95ca4e2370dd6c48f\", element=\"f.7974DFA9C215FFA68987D8B076D3D60E.d.E7CC09FA8F07275C63B0DE4EC3AD2E76.e.439\")>,\n",
       " <selenium.webdriver.remote.webelement.WebElement (session=\"cfff13241aea74f95ca4e2370dd6c48f\", element=\"f.7974DFA9C215FFA68987D8B076D3D60E.d.E7CC09FA8F07275C63B0DE4EC3AD2E76.e.465\")>,\n",
       " <selenium.webdriver.remote.webelement.WebElement (session=\"cfff13241aea74f95ca4e2370dd6c48f\", element=\"f.7974DFA9C215FFA68987D8B076D3D60E.d.E7CC09FA8F07275C63B0DE4EC3AD2E76.e.491\")>,\n",
       " <selenium.webdriver.remote.webelement.WebElement (session=\"cfff13241aea74f95ca4e2370dd6c48f\", element=\"f.7974DFA9C215FFA68987D8B076D3D60E.d.E7CC09FA8F07275C63B0DE4EC3AD2E76.e.515\")>,\n",
       " <selenium.webdriver.remote.webelement.WebElement (session=\"cfff13241aea74f95ca4e2370dd6c48f\", element=\"f.7974DFA9C215FFA68987D8B076D3D60E.d.E7CC09FA8F07275C63B0DE4EC3AD2E76.e.541\")>,\n",
       " <selenium.webdriver.remote.webelement.WebElement (session=\"cfff13241aea74f95ca4e2370dd6c48f\", element=\"f.7974DFA9C215FFA68987D8B076D3D60E.d.E7CC09FA8F07275C63B0DE4EC3AD2E76.e.565\")>,\n",
       " <selenium.webdriver.remote.webelement.WebElement (session=\"cfff13241aea74f95ca4e2370dd6c48f\", element=\"f.7974DFA9C215FFA68987D8B076D3D60E.d.E7CC09FA8F07275C63B0DE4EC3AD2E76.e.589\")>,\n",
       " <selenium.webdriver.remote.webelement.WebElement (session=\"cfff13241aea74f95ca4e2370dd6c48f\", element=\"f.7974DFA9C215FFA68987D8B076D3D60E.d.E7CC09FA8F07275C63B0DE4EC3AD2E76.e.615\")>]"
      ]
     },
     "execution_count": 37,
     "metadata": {},
     "output_type": "execute_result"
    }
   ],
   "source": [
    "produtos = driver.find_elements(By.CSS_SELECTOR, 'form#filtros + div div:has(>img)')\n",
    "produtos"
   ]
  },
  {
   "cell_type": "code",
   "execution_count": 38,
   "metadata": {},
   "outputs": [],
   "source": [
    "from dataclasses import dataclass\n",
    "\n",
    "@dataclass\n",
    "class Produto:\n",
    "    titulo: str\n",
    "    frete_gratis: bool\n",
    "    parcelamento_s_juros: bool\n",
    "    envio_internacional: bool\n",
    "    em_oferta: bool\n",
    "    num_estrelas: int\n",
    "    descricao: str\n",
    "    preco: int\n",
    "    foto: str"
   ]
  },
  {
   "cell_type": "code",
   "execution_count": 40,
   "metadata": {},
   "outputs": [],
   "source": [
    "produto = produtos[0]\n",
    "\n",
    "dados = []\n",
    "\n",
    "dados_produto = Produto(\n",
    "    titulo = produto.find_element(By.TAG_NAME, 'h5').text,\n",
    "    frete_gratis = True if produto.find_elements(By.CSS_SELECTOR, 'div.bg-blue-100') else False,\n",
    "    parcelamento_s_juros = True if produto.find_elements(By.CSS_SELECTOR, 'div.bg-green-100') else False,\n",
    "    envio_internacional = True if produto.find_elements(By.CSS_SELECTOR, 'div.bg-orange-100') else False,\n",
    "    em_oferta = True if produto.find_elements(By.CSS_SELECTOR, 'div.bg-purple-100') else False,\n",
    "    num_estrelas = len(produto.find_elements(By.CSS_SELECTOR, 'svg.text-yellow-300')),\n",
    "    descricao = produto.find_element(By.TAG_NAME, 'p').text,\n",
    "    preco = produto.find_element(By.CSS_SELECTOR, 'div:has(>span:nth-last-child(2)) > span:nth-child(2)').text,\n",
    "    foto = produto.find_element(By.TAG_NAME, 'img').get_attribute('src')\n",
    ")\n",
    "\n",
    "dados.append(dados_produto)"
   ]
  },
  {
   "cell_type": "code",
   "execution_count": 41,
   "metadata": {},
   "outputs": [
    {
     "data": {
      "text/plain": [
       "[Produto(titulo='Atum', frete_gratis=False, parcelamento_s_juros=True, envio_internacional=True, em_oferta=False, num_estrelas=2, descricao='Cumque natus neque sit impedit. Ullam eius est aut veniam fugit perspiciatis.', preco='1798', foto='https://picsum.photos/seed/qH83hRw2TN/600/450')]"
      ]
     },
     "execution_count": 41,
     "metadata": {},
     "output_type": "execute_result"
    }
   ],
   "source": [
    "dados"
   ]
  },
  {
   "cell_type": "code",
   "execution_count": 42,
   "metadata": {},
   "outputs": [
    {
     "data": {
      "text/html": [
       "<div class=\"w-full max-w-[200px] bg-white border border-gray-200 rounded-lg shadow dark:bg-gray-800 dark:border-gray-700 hover:bg-gray-50 dark:hover:bg-gray-900 justify-stretch\"><img class=\"mb-2 rounded-t-lg\" src=\"https://picsum.photos/seed/qH83hRw2TN/600/450\" alt=\"Atum\"><div class=\"px-5 pb-5 space-y-2 flex flex-col\"><h5 class=\"text-xl font-semibold tracking-tight text-gray-900 dark:text-white\">Atum</h5><div class=\"flex flex-wrap gap-1\"><div class=\"bg-green-100 text-green-800 text-[8px] font-semibold px-2.5 py-0.5 rounded dark:bg-green-200 dark:text-green-800 ms-3\">12x Sem juros</div><div class=\"bg-orange-100 text-orange-800 text-[8px] font-semibold px-2.5 py-0.5 rounded dark:bg-orange-200 dark:text-orange-800 ms-3\">Internacional</div></div><div class=\"flex items-center justify-center\"><div class=\"flex items-center space-x-1 rtl:space-x-reverse\"><svg class=\"w-4 h-4 text-yellow-300\" aria-hidden=\"true\" xmlns=\"http://www.w3.org/2000/svg\" fill=\"currentColor\" viewBox=\"0 0 22 20\"><path d=\"M20.924 7.625a1.523 1.523 0 0 0-1.238-1.044l-5.051-.734-2.259-4.577a1.534 1.534 0 0 0-2.752 0L7.365 5.847l-5.051.734A1.535 1.535 0 0 0 1.463 9.2l3.656 3.563-.863 5.031a1.532 1.532 0 0 0 2.226 1.616L11 17.033l4.518 2.375a1.534 1.534 0 0 0 2.226-1.617l-.863-5.03L20.537 9.2a1.523 1.523 0 0 0 .387-1.575Z\"></path></svg><svg class=\"w-4 h-4 text-yellow-300\" aria-hidden=\"true\" xmlns=\"http://www.w3.org/2000/svg\" fill=\"currentColor\" viewBox=\"0 0 22 20\"><path d=\"M20.924 7.625a1.523 1.523 0 0 0-1.238-1.044l-5.051-.734-2.259-4.577a1.534 1.534 0 0 0-2.752 0L7.365 5.847l-5.051.734A1.535 1.535 0 0 0 1.463 9.2l3.656 3.563-.863 5.031a1.532 1.532 0 0 0 2.226 1.616L11 17.033l4.518 2.375a1.534 1.534 0 0 0 2.226-1.617l-.863-5.03L20.537 9.2a1.523 1.523 0 0 0 .387-1.575Z\"></path></svg><svg class=\"w-4 h-4 text-gray-200 dark:text-gray-600\" aria-hidden=\"true\" xmlns=\"http://www.w3.org/2000/svg\" fill=\"currentColor\" viewBox=\"0 0 22 20\"><path d=\"M20.924 7.625a1.523 1.523 0 0 0-1.238-1.044l-5.051-.734-2.259-4.577a1.534 1.534 0 0 0-2.752 0L7.365 5.847l-5.051.734A1.535 1.535 0 0 0 1.463 9.2l3.656 3.563-.863 5.031a1.532 1.532 0 0 0 2.226 1.616L11 17.033l4.518 2.375a1.534 1.534 0 0 0 2.226-1.617l-.863-5.03L20.537 9.2a1.523 1.523 0 0 0 .387-1.575Z\"></path></svg><svg class=\"w-4 h-4 text-gray-200 dark:text-gray-600\" aria-hidden=\"true\" xmlns=\"http://www.w3.org/2000/svg\" fill=\"currentColor\" viewBox=\"0 0 22 20\"><path d=\"M20.924 7.625a1.523 1.523 0 0 0-1.238-1.044l-5.051-.734-2.259-4.577a1.534 1.534 0 0 0-2.752 0L7.365 5.847l-5.051.734A1.535 1.535 0 0 0 1.463 9.2l3.656 3.563-.863 5.031a1.532 1.532 0 0 0 2.226 1.616L11 17.033l4.518 2.375a1.534 1.534 0 0 0 2.226-1.617l-.863-5.03L20.537 9.2a1.523 1.523 0 0 0 .387-1.575Z\"></path></svg><svg class=\"w-4 h-4 text-gray-200 dark:text-gray-600\" aria-hidden=\"true\" xmlns=\"http://www.w3.org/2000/svg\" fill=\"currentColor\" viewBox=\"0 0 22 20\"><path d=\"M20.924 7.625a1.523 1.523 0 0 0-1.238-1.044l-5.051-.734-2.259-4.577a1.534 1.534 0 0 0-2.752 0L7.365 5.847l-5.051.734A1.535 1.535 0 0 0 1.463 9.2l3.656 3.563-.863 5.031a1.532 1.532 0 0 0 2.226 1.616L11 17.033l4.518 2.375a1.534 1.534 0 0 0 2.226-1.617l-.863-5.03L20.537 9.2a1.523 1.523 0 0 0 .387-1.575Z\"></path></svg></div></div><div class=\"text-ellipsis line-clamp-3\"><p>Cumque natus neque sit impedit. Ullam eius est aut veniam fugit perspiciatis.</p></div><div class=\"grow\"><span class=\"text-sm\">R$</span><span class=\"my-2 text-3xl font-bold text-gray-900 dark:text-white\">1798</span></div></div></div>"
      ],
      "text/plain": [
       "<IPython.core.display.HTML object>"
      ]
     },
     "execution_count": 42,
     "metadata": {},
     "output_type": "execute_result"
    }
   ],
   "source": [
    "from IPython.display import HTML\n",
    "HTML(produto.get_property('outerHTML'))"
   ]
  },
  {
   "cell_type": "code",
   "execution_count": 43,
   "metadata": {},
   "outputs": [
    {
     "data": {
      "text/plain": [
       "<selenium.webdriver.remote.webelement.WebElement (session=\"cfff13241aea74f95ca4e2370dd6c48f\", element=\"f.7974DFA9C215FFA68987D8B076D3D60E.d.E7CC09FA8F07275C63B0DE4EC3AD2E76.e.640\")>"
      ]
     },
     "execution_count": 43,
     "metadata": {},
     "output_type": "execute_result"
    }
   ],
   "source": [
    "btn_proximo = driver.find_element(By.XPATH, '//div//button[contains(text(), \"Próxima\")]')\n",
    "btn_proximo"
   ]
  },
  {
   "cell_type": "code",
   "execution_count": 44,
   "metadata": {},
   "outputs": [],
   "source": [
    "btn_proximo.click()"
   ]
  },
  {
   "cell_type": "markdown",
   "metadata": {},
   "source": [
    "### Selecionando filtros"
   ]
  },
  {
   "cell_type": "code",
   "execution_count": 45,
   "metadata": {},
   "outputs": [],
   "source": [
    "# Filtros\n",
    "frete = driver.find_element(By.ID, 'frete')\n",
    "parcelamento = driver.find_element(By.ID, 'parcelamento')\n",
    "internacional = driver.find_element(By.ID, 'envio-internacional')\n",
    "oferta = driver.find_element(By.ID, 'oferta')"
   ]
  },
  {
   "cell_type": "code",
   "execution_count": 46,
   "metadata": {},
   "outputs": [],
   "source": [
    "# Preço\n",
    "preco_inicial = driver.find_element(By.ID, 'price-from')\n",
    "preco_final = driver.find_element(By.ID, 'price-to')"
   ]
  },
  {
   "cell_type": "code",
   "execution_count": 47,
   "metadata": {},
   "outputs": [],
   "source": [
    "# Classificação\n",
    "nota_1 = driver.find_element(By.ID, 'one-star')\n",
    "nota_2 = driver.find_element(By.ID, 'two-stars')\n",
    "nota_3 = driver.find_element(By.ID, 'three-stars')\n",
    "nota_4 = driver.find_element(By.ID, 'four-stars')\n",
    "nota_5 = driver.find_element(By.ID, 'five-stars')"
   ]
  },
  {
   "cell_type": "code",
   "execution_count": 48,
   "metadata": {},
   "outputs": [],
   "source": [
    "btn_enviar = driver.find_element(By.CSS_SELECTOR, 'form#filtros button[type=\"submit\"]')\n",
    "btn_limpar = driver.find_element(By.CSS_SELECTOR, 'form#filtros button[type=\"reset\"]')"
   ]
  },
  {
   "cell_type": "code",
   "execution_count": 62,
   "metadata": {},
   "outputs": [],
   "source": [
    "actions = ActionChains(driver)"
   ]
  },
  {
   "cell_type": "code",
   "execution_count": 63,
   "metadata": {},
   "outputs": [
    {
     "data": {
      "text/plain": [
       "<selenium.webdriver.common.action_chains.ActionChains at 0x1996f4e0620>"
      ]
     },
     "execution_count": 63,
     "metadata": {},
     "output_type": "execute_result"
    }
   ],
   "source": [
    "actions.click(btn_limpar)"
   ]
  },
  {
   "cell_type": "code",
   "execution_count": 64,
   "metadata": {},
   "outputs": [],
   "source": [
    "# Entrada de dados\n",
    "\n",
    "frete_gratis = True\n",
    "parcelamento_sem_juros = True\n",
    "envio_internacional = True\n",
    "em_oferta = True\n",
    "preco_min = 100\n",
    "preco_max = 5000\n",
    "classif = 5"
   ]
  },
  {
   "cell_type": "code",
   "execution_count": 65,
   "metadata": {},
   "outputs": [],
   "source": [
    "if frete_gratis:\n",
    "    actions.click(frete)\n",
    "\n",
    "if parcelamento_sem_juros:\n",
    "    actions.click(parcelamento)\n",
    "\n",
    "if envio_internacional:\n",
    "    actions.click(internacional)\n",
    "\n",
    "if em_oferta:\n",
    "    actions.click(oferta)"
   ]
  },
  {
   "cell_type": "code",
   "execution_count": 66,
   "metadata": {},
   "outputs": [
    {
     "data": {
      "text/plain": [
       "<selenium.webdriver.common.action_chains.ActionChains at 0x1996f4e0620>"
      ]
     },
     "execution_count": 66,
     "metadata": {},
     "output_type": "execute_result"
    }
   ],
   "source": [
    "(\n",
    "    actions\n",
    "    .click(preco_inicial)\n",
    "    .double_click(preco_inicial)\n",
    "    .send_keys(preco_min)\n",
    ")\n",
    "\n",
    "(\n",
    "    actions\n",
    "    .click(preco_final)\n",
    "    .double_click(preco_final)\n",
    "    .send_keys(preco_max)\n",
    ")"
   ]
  },
  {
   "cell_type": "code",
   "execution_count": 67,
   "metadata": {},
   "outputs": [],
   "source": [
    "match classif:\n",
    "    case 1:\n",
    "        actions.click(nota_1)\n",
    "\n",
    "    case 2:\n",
    "        actions.click(nota_2)\n",
    "\n",
    "    case 3:\n",
    "        actions.click(nota_3)\n",
    "\n",
    "    case 4:\n",
    "        actions.click(nota_4)\n",
    "\n",
    "    case 5:\n",
    "        actions.click(nota_5)"
   ]
  },
  {
   "cell_type": "code",
   "execution_count": 68,
   "metadata": {},
   "outputs": [
    {
     "data": {
      "text/plain": [
       "<selenium.webdriver.common.action_chains.ActionChains at 0x1996f4e0620>"
      ]
     },
     "execution_count": 68,
     "metadata": {},
     "output_type": "execute_result"
    }
   ],
   "source": [
    "actions.click(btn_enviar)"
   ]
  },
  {
   "cell_type": "code",
   "execution_count": 69,
   "metadata": {},
   "outputs": [],
   "source": [
    "actions.perform()"
   ]
  },
  {
   "cell_type": "code",
   "execution_count": null,
   "metadata": {},
   "outputs": [],
   "source": []
  }
 ],
 "metadata": {
  "kernelspec": {
   "display_name": "Python 3",
   "language": "python",
   "name": "python3"
  },
  "language_info": {
   "codemirror_mode": {
    "name": "ipython",
    "version": 3
   },
   "file_extension": ".py",
   "mimetype": "text/x-python",
   "name": "python",
   "nbconvert_exporter": "python",
   "pygments_lexer": "ipython3",
   "version": "3.12.0"
  }
 },
 "nbformat": 4,
 "nbformat_minor": 2
}
