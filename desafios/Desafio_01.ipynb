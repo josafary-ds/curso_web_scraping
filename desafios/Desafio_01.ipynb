{
 "cells": [
  {
   "cell_type": "code",
   "execution_count": 1,
   "metadata": {},
   "outputs": [],
   "source": [
    "import pandas as pd\n",
    "import time\n",
    "from selenium import webdriver\n",
    "from selenium.webdriver.common.by import By\n",
    "from selenium.webdriver.support.ui import Select\n",
    "\n",
    "driver = webdriver.Chrome()"
   ]
  },
  {
   "cell_type": "code",
   "execution_count": 2,
   "metadata": {},
   "outputs": [],
   "source": [
    "driver.get('http://localhost:8000')"
   ]
  },
  {
   "cell_type": "code",
   "execution_count": 3,
   "metadata": {},
   "outputs": [
    {
     "data": {
      "text/html": [
       "<div>\n",
       "<style scoped>\n",
       "    .dataframe tbody tr th:only-of-type {\n",
       "        vertical-align: middle;\n",
       "    }\n",
       "\n",
       "    .dataframe tbody tr th {\n",
       "        vertical-align: top;\n",
       "    }\n",
       "\n",
       "    .dataframe thead th {\n",
       "        text-align: right;\n",
       "    }\n",
       "</style>\n",
       "<table border=\"1\" class=\"dataframe\">\n",
       "  <thead>\n",
       "    <tr style=\"text-align: right;\">\n",
       "      <th></th>\n",
       "      <th>email</th>\n",
       "      <th>senha</th>\n",
       "      <th>data-de-nascimento</th>\n",
       "      <th>newsletter</th>\n",
       "    </tr>\n",
       "  </thead>\n",
       "  <tbody>\n",
       "    <tr>\n",
       "      <th>0</th>\n",
       "      <td>lda-mota@example.net</td>\n",
       "      <td>*V03BSlEA*</td>\n",
       "      <td>1983-08-27</td>\n",
       "      <td>False</td>\n",
       "    </tr>\n",
       "    <tr>\n",
       "      <th>1</th>\n",
       "      <td>sda-luz@example.org</td>\n",
       "      <td>Qa8_2C0o5_</td>\n",
       "      <td>2003-07-16</td>\n",
       "      <td>True</td>\n",
       "    </tr>\n",
       "    <tr>\n",
       "      <th>2</th>\n",
       "      <td>daniela00@example.com</td>\n",
       "      <td>zZz4@J3ec@</td>\n",
       "      <td>1971-08-24</td>\n",
       "      <td>True</td>\n",
       "    </tr>\n",
       "    <tr>\n",
       "      <th>3</th>\n",
       "      <td>nogueiralorenzo@example.com</td>\n",
       "      <td>%8h&amp;@B6IgJ</td>\n",
       "      <td>1996-08-14</td>\n",
       "      <td>True</td>\n",
       "    </tr>\n",
       "    <tr>\n",
       "      <th>4</th>\n",
       "      <td>gcardoso@example.net</td>\n",
       "      <td>OAHsP2Eu_h</td>\n",
       "      <td>1990-04-20</td>\n",
       "      <td>True</td>\n",
       "    </tr>\n",
       "    <tr>\n",
       "      <th>5</th>\n",
       "      <td>lorenzoaragao@example.org</td>\n",
       "      <td>240iCRzfO_</td>\n",
       "      <td>1998-12-10</td>\n",
       "      <td>True</td>\n",
       "    </tr>\n",
       "    <tr>\n",
       "      <th>6</th>\n",
       "      <td>sofia65@example.org</td>\n",
       "      <td>!ytSm4@x0w</td>\n",
       "      <td>1971-06-01</td>\n",
       "      <td>True</td>\n",
       "    </tr>\n",
       "    <tr>\n",
       "      <th>7</th>\n",
       "      <td>joao08@example.com</td>\n",
       "      <td>J4d5A5nD)A</td>\n",
       "      <td>1954-10-27</td>\n",
       "      <td>False</td>\n",
       "    </tr>\n",
       "    <tr>\n",
       "      <th>8</th>\n",
       "      <td>wduarte@example.org</td>\n",
       "      <td>$V0TkvNYzd</td>\n",
       "      <td>1979-05-02</td>\n",
       "      <td>False</td>\n",
       "    </tr>\n",
       "    <tr>\n",
       "      <th>9</th>\n",
       "      <td>mariada-rocha@example.com</td>\n",
       "      <td>%0t$9CKq3P</td>\n",
       "      <td>2003-09-10</td>\n",
       "      <td>True</td>\n",
       "    </tr>\n",
       "  </tbody>\n",
       "</table>\n",
       "</div>"
      ],
      "text/plain": [
       "                         email       senha data-de-nascimento  newsletter\n",
       "0         lda-mota@example.net  *V03BSlEA*         1983-08-27       False\n",
       "1          sda-luz@example.org  Qa8_2C0o5_         2003-07-16        True\n",
       "2        daniela00@example.com  zZz4@J3ec@         1971-08-24        True\n",
       "3  nogueiralorenzo@example.com  %8h&@B6IgJ         1996-08-14        True\n",
       "4         gcardoso@example.net  OAHsP2Eu_h         1990-04-20        True\n",
       "5    lorenzoaragao@example.org  240iCRzfO_         1998-12-10        True\n",
       "6          sofia65@example.org  !ytSm4@x0w         1971-06-01        True\n",
       "7           joao08@example.com  J4d5A5nD)A         1954-10-27       False\n",
       "8          wduarte@example.org  $V0TkvNYzd         1979-05-02       False\n",
       "9    mariada-rocha@example.com  %0t$9CKq3P         2003-09-10        True"
      ]
     },
     "execution_count": 3,
     "metadata": {},
     "output_type": "execute_result"
    }
   ],
   "source": [
    "data = pd.read_json('desafio_1_dados.json')\n",
    "data"
   ]
  },
  {
   "cell_type": "code",
   "execution_count": 4,
   "metadata": {},
   "outputs": [
    {
     "data": {
      "text/plain": [
       "str"
      ]
     },
     "execution_count": 4,
     "metadata": {},
     "output_type": "execute_result"
    }
   ],
   "source": [
    "type(data['data-de-nascimento'][0])"
   ]
  },
  {
   "cell_type": "code",
   "execution_count": 5,
   "metadata": {},
   "outputs": [
    {
     "data": {
      "text/plain": [
       "pandas._libs.tslibs.timestamps.Timestamp"
      ]
     },
     "execution_count": 5,
     "metadata": {},
     "output_type": "execute_result"
    }
   ],
   "source": [
    "data['data-de-nascimento'] = pd.to_datetime(data['data-de-nascimento'])\n",
    "type(data['data-de-nascimento'][0])"
   ]
  },
  {
   "cell_type": "code",
   "execution_count": 16,
   "metadata": {},
   "outputs": [],
   "source": [
    "email = driver.find_element(By.NAME, 'email')\n",
    "senha = driver.find_element(By.NAME, 'senha')\n",
    "select_ano = Select(driver.find_element(By.NAME, 'ano'))\n",
    "select_mes = Select(driver.find_element(By.NAME, 'mes'))\n",
    "select_dia = Select(driver.find_element(By.NAME, 'dia'))\n",
    "\n",
    "for i in (range(len(data))):\n",
    "    email_data = data['email'][i]\n",
    "    senha_data = data['senha'][i]\n",
    "    ano = data['data-de-nascimento'][i].year\n",
    "    mes = data['data-de-nascimento'][i].month\n",
    "    dia = data['data-de-nascimento'][i].day\n",
    "\n",
    "    email.send_keys(email_data)\n",
    "    senha.send_keys(senha_data)\n",
    "    select_dia.select_by_visible_text(str(dia))\n",
    "    select_mes.select_by_visible_text(str(mes))\n",
    "    select_ano.select_by_visible_text(str(ano))\n",
    "\n",
    "    botao_check = driver.find_element(By.ID, 'airplane-mode')\n",
    "    switch_on = True if botao_check.get_attribute('aria-checked') == 'true' else False\n",
    "    if switch_on != data['newsletter'][i]:\n",
    "        botao_check.click()\n",
    "    \n",
    "    #if data['newsletter'][i] == True:\n",
    "    #    botao_check.click()\n",
    "\n",
    "    email.submit()\n",
    "\n",
    "    email.clear()\n",
    "    senha.clear()\n",
    "    select_ano.select_by_index(0)\n",
    "    select_mes.select_by_index(0)\n",
    "    select_dia.select_by_index(0)\n",
    "    botao_check.click()\n",
    "    time.sleep(1)"
   ]
  },
  {
   "cell_type": "code",
   "execution_count": null,
   "metadata": {},
   "outputs": [],
   "source": []
  }
 ],
 "metadata": {
  "kernelspec": {
   "display_name": "Python 3",
   "language": "python",
   "name": "python3"
  },
  "language_info": {
   "codemirror_mode": {
    "name": "ipython",
    "version": 3
   },
   "file_extension": ".py",
   "mimetype": "text/x-python",
   "name": "python",
   "nbconvert_exporter": "python",
   "pygments_lexer": "ipython3",
   "version": "3.12.0"
  }
 },
 "nbformat": 4,
 "nbformat_minor": 2
}
