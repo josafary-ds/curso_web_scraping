{
 "cells": [
  {
   "cell_type": "code",
   "execution_count": 25,
   "metadata": {},
   "outputs": [],
   "source": [
    "import pandas as pd\n",
    "import time\n",
    "from dataclasses import dataclass\n",
    "from dataclasses import asdict\n",
    "from selenium import webdriver\n",
    "from selenium.webdriver.common.by import By\n",
    "from selenium.webdriver.support.ui import Select\n",
    "from selenium.webdriver.support.wait import WebDriverWait\n",
    "from selenium.webdriver.support import expected_conditions as EC\n",
    "\n",
    "driver = webdriver.Chrome()"
   ]
  },
  {
   "cell_type": "code",
   "execution_count": 2,
   "metadata": {},
   "outputs": [],
   "source": [
    "driver.get('https://curso-web-scraping.pages.dev/#/desafio/2')"
   ]
  },
  {
   "cell_type": "code",
   "execution_count": 3,
   "metadata": {},
   "outputs": [],
   "source": [
    "driver.switch_to.new_window('tab')\n",
    "driver.switch_to.window(window_name=driver.window_handles[1])\n",
    "driver.get('https://curso-web-scraping.pages.dev/#/desafio/3')"
   ]
  },
  {
   "cell_type": "code",
   "execution_count": 23,
   "metadata": {},
   "outputs": [
    {
     "data": {
      "text/plain": [
       "'Dalton'"
      ]
     },
     "execution_count": 23,
     "metadata": {},
     "output_type": "execute_result"
    }
   ],
   "source": [
    "# Armazenando o nome do usuário\n",
    "user = driver.find_element(By.CSS_SELECTOR, 'span#usuario').text\n",
    "user"
   ]
  },
  {
   "cell_type": "code",
   "execution_count": 24,
   "metadata": {},
   "outputs": [
    {
     "data": {
      "text/plain": [
       "['E2C629B81167AD77F0EC9C30DAAE0639', '92C14AC85D18B35D39DE7431666E70CC']"
      ]
     },
     "execution_count": 24,
     "metadata": {},
     "output_type": "execute_result"
    }
   ],
   "source": [
    "driver.window_handles"
   ]
  },
  {
   "cell_type": "code",
   "execution_count": 25,
   "metadata": {},
   "outputs": [],
   "source": [
    "windows = {\n",
    "    'desafio_2': 'E2C629B81167AD77F0EC9C30DAAE0639',\n",
    "    'desafio_3': '92C14AC85D18B35D39DE7431666E70CC'\n",
    "}"
   ]
  },
  {
   "cell_type": "code",
   "execution_count": 26,
   "metadata": {},
   "outputs": [],
   "source": [
    "driver.switch_to.window(window_name=windows['desafio_2'])"
   ]
  },
  {
   "cell_type": "code",
   "execution_count": 27,
   "metadata": {},
   "outputs": [],
   "source": [
    "entrada = driver.find_element(By.CSS_SELECTOR, 'main input')\n",
    "botao = driver.find_element(By.CSS_SELECTOR, 'main button')\n",
    "\n",
    "entrada.send_keys(user)\n",
    "wait = WebDriverWait(driver=driver, timeout=5, poll_frequency=1)\n",
    "wait.until(EC.element_to_be_clickable(mark=botao))\n",
    "botao.click()"
   ]
  },
  {
   "cell_type": "code",
   "execution_count": 28,
   "metadata": {},
   "outputs": [
    {
     "data": {
      "text/plain": [
       "10"
      ]
     },
     "execution_count": 28,
     "metadata": {},
     "output_type": "execute_result"
    }
   ],
   "source": [
    "usuarios = driver.find_elements(By.CSS_SELECTOR, 'div.users-list > div')\n",
    "len(usuarios)"
   ]
  },
  {
   "cell_type": "code",
   "execution_count": 29,
   "metadata": {},
   "outputs": [],
   "source": [
    "usuario = usuarios[0]\n",
    "\n",
    "nome = usuario.find_element(By.TAG_NAME, 'h3')\n",
    "profissao = usuario.find_element(By.TAG_NAME, 'span')\n",
    "email = usuario.find_element(By.CSS_SELECTOR, 'ul > li:nth-child(1)')\n",
    "telefone = usuario.find_element(By.CSS_SELECTOR, 'ul > li:nth-child(2)')\n",
    "user_name = usuario.find_element(By.CSS_SELECTOR, 'ul > li:nth-child(3)')\n",
    "estado = usuario.find_element(By.CSS_SELECTOR, 'ul > li:nth-child(4)')"
   ]
  },
  {
   "cell_type": "code",
   "execution_count": 31,
   "metadata": {},
   "outputs": [],
   "source": [
    "@dataclass\n",
    "class Usuario:\n",
    "    nome: str\n",
    "    profissao: str\n",
    "    email: str\n",
    "    telefone: str\n",
    "    user_name: str\n",
    "    estado: str"
   ]
  },
  {
   "cell_type": "code",
   "execution_count": 33,
   "metadata": {},
   "outputs": [],
   "source": [
    "dados_do_usuario = Usuario(\n",
    "    nome = nome.text,\n",
    "    profissao = profissao.text,\n",
    "    email = email.text.split(': ')[1],\n",
    "    telefone = telefone.text.split(': ')[1],\n",
    "    user_name = user_name.text.split(': ')[1],\n",
    "    estado = estado.text.split(': ')[1]\n",
    ")"
   ]
  },
  {
   "cell_type": "code",
   "execution_count": 34,
   "metadata": {},
   "outputs": [
    {
     "data": {
      "text/plain": [
       "'Dalton Oliveira'"
      ]
     },
     "execution_count": 34,
     "metadata": {},
     "output_type": "execute_result"
    }
   ],
   "source": [
    "dados_do_usuario.nome"
   ]
  },
  {
   "cell_type": "code",
   "execution_count": 35,
   "metadata": {},
   "outputs": [],
   "source": [
    "driver.switch_to.window(window_name=windows['desafio_3'])"
   ]
  },
  {
   "cell_type": "code",
   "execution_count": 37,
   "metadata": {},
   "outputs": [],
   "source": [
    "input_name = driver.find_element(By.NAME, 'nome')\n",
    "input_prof = driver.find_element(By.NAME, 'profissao')\n",
    "input_email = driver.find_element(By.NAME, 'email')\n",
    "input_tel = driver.find_element(By.NAME, 'telefone')\n",
    "input_user_name = driver.find_element(By.NAME, 'usuario')\n",
    "select_state = Select(driver.find_element(By.NAME, 'estado'))\n",
    "\n",
    "input_name.send_keys(dados_do_usuario.nome)\n",
    "input_prof.send_keys(dados_do_usuario.profissao)\n",
    "input_email.send_keys(dados_do_usuario.email)\n",
    "input_tel.send_keys(dados_do_usuario.telefone)\n",
    "input_user_name.send_keys(dados_do_usuario.user_name)\n",
    "select_state.select_by_visible_text(dados_do_usuario.estado)"
   ]
  },
  {
   "cell_type": "code",
   "execution_count": 39,
   "metadata": {},
   "outputs": [],
   "source": [
    "botao_enviar = driver.find_element(By.CSS_SELECTOR, 'button.btn-primary')\n",
    "\n",
    "botao_enviar.click()\n"
   ]
  },
  {
   "cell_type": "markdown",
   "metadata": {},
   "source": [
    "## Automatização do processo"
   ]
  },
  {
   "cell_type": "code",
   "execution_count": 9,
   "metadata": {},
   "outputs": [],
   "source": [
    "# Definição das principais variaveis\n",
    "data = []\n",
    "\n",
    "# Criação da classe Usuario\n",
    "@dataclass\n",
    "class Usuario:\n",
    "    nome: str\n",
    "    profissao: str\n",
    "    email: str\n",
    "    telefone: str\n",
    "    user_name: str\n",
    "    estado: str"
   ]
  },
  {
   "cell_type": "code",
   "execution_count": 26,
   "metadata": {},
   "outputs": [],
   "source": [
    "# Abrindo primeira página e recolhendo menu lateral\n",
    "driver.get('https://curso-web-scraping.pages.dev/#/desafio/2')\n",
    "\n",
    "entrada = driver.find_element(By.CSS_SELECTOR, 'main input')\n",
    "botao_busca = driver.find_element(By.CSS_SELECTOR, 'main button')\n",
    "botao_menu_1 = driver.find_element(By.CSS_SELECTOR, 'button.fixed')\n",
    "\n",
    "time.sleep(1)\n",
    "botao_menu_1.click()\n",
    "time.sleep(1)\n",
    "\n",
    "# Abrindo segunda página e recolhendo menu lateral\n",
    "driver.switch_to.new_window('tab')\n",
    "driver.switch_to.window(window_name=driver.window_handles[1])\n",
    "driver.get('https://curso-web-scraping.pages.dev/#/desafio/3')\n",
    "\n",
    "input_name = driver.find_element(By.NAME, 'nome')\n",
    "input_prof = driver.find_element(By.NAME, 'profissao')\n",
    "input_email = driver.find_element(By.NAME, 'email')\n",
    "input_tel = driver.find_element(By.NAME, 'telefone')\n",
    "input_user_name = driver.find_element(By.NAME, 'usuario')\n",
    "select_state = Select(driver.find_element(By.NAME, 'estado'))\n",
    "botao_menu_2 = driver.find_element(By.CSS_SELECTOR, 'button.fixed')\n",
    "botao_enviar = driver.find_element(By.CSS_SELECTOR, 'button.btn-primary')\n",
    "\n",
    "time.sleep(1)\n",
    "botao_menu_2.click()\n",
    "time.sleep(1)\n",
    "\n",
    "# Criando dicionario com os ID de cada aba\n",
    "windows = {\n",
    "    'desafio_2': driver.window_handles[0],\n",
    "    'desafio_3': driver.window_handles[1]\n",
    "}\n",
    "\n",
    "# Loop\n",
    "while True:\n",
    "    try:\n",
    "        # Registra o nome, muda para a 1º página, insere o nome na barra de busca e clica no botão de buscar\n",
    "        user = driver.find_element(By.CSS_SELECTOR, 'span#usuario').text\n",
    "        driver.switch_to.window(window_name=windows['desafio_2'])\n",
    "        entrada.clear()\n",
    "        entrada.send_keys(user)\n",
    "        #wait = WebDriverWait(driver=driver, timeout=5, poll_frequency=1)\n",
    "        #wait.until(EC.element_to_be_clickable(mark=botao))\n",
    "        botao_busca.click()\n",
    "\n",
    "        # Aguarda 5s para renderização das imagens\n",
    "        driver.implicitly_wait(time_to_wait=5)\n",
    "\n",
    "        # Registra todos os usuários encontrados na busca\n",
    "        usuarios = driver.find_elements(By.CSS_SELECTOR, 'div.users-list > div')\n",
    "\n",
    "        for usuario in usuarios:\n",
    "            nome = usuario.find_element(By.TAG_NAME, 'h3')\n",
    "            profissao = usuario.find_element(By.TAG_NAME, 'span')\n",
    "            email = usuario.find_element(By.CSS_SELECTOR, 'ul > li:nth-child(1)')\n",
    "            telefone = usuario.find_element(By.CSS_SELECTOR, 'ul > li:nth-child(2)')\n",
    "            user_name = usuario.find_element(By.CSS_SELECTOR, 'ul > li:nth-child(3)')\n",
    "            estado = usuario.find_element(By.CSS_SELECTOR, 'ul > li:nth-child(4)')\n",
    "\n",
    "            dados_do_usuario = Usuario(\n",
    "                nome = nome.text,\n",
    "                profissao = profissao.text,\n",
    "                email = email.text.split(': ')[1],\n",
    "                telefone = telefone.text.split(': ')[1],\n",
    "                user_name = user_name.text.split(': ')[1],\n",
    "                estado = estado.text.split(': ')[1]\n",
    "            )\n",
    "\n",
    "            data.append(dados_do_usuario)\n",
    "\n",
    "            # Convertendo os objetos do dataclass em um dicionário\n",
    "            data_dict = [asdict(usuario) for usuario in data]\n",
    "            df = pd.DataFrame(data_dict)\n",
    "\n",
    "            # Alterna para 2° página, preenche os campos com os dados de cada usuário por vez e envia.\n",
    "            driver.switch_to.window(window_name=windows['desafio_3'])\n",
    "            for i in range(len(df)):\n",
    "                input_name.clear()\n",
    "                input_name.send_keys(df['nome'][i])\n",
    "                input_prof.clear()\n",
    "                input_prof.send_keys(df['profissao'][i])\n",
    "                input_email.clear()\n",
    "                input_email.send_keys(df['email'][i])\n",
    "                input_tel.clear()\n",
    "                input_tel.send_keys(df['telefone'][i])\n",
    "                input_user_name.clear()\n",
    "                input_user_name.send_keys(df['user_name'][i])\n",
    "                select_state.select_by_visible_text(df['estado'][i])\n",
    "\n",
    "                botao_enviar.click()\n",
    "\n",
    "    except Exception as e:\n",
    "        break"
   ]
  },
  {
   "cell_type": "code",
   "execution_count": null,
   "metadata": {},
   "outputs": [],
   "source": []
  }
 ],
 "metadata": {
  "kernelspec": {
   "display_name": "Python 3",
   "language": "python",
   "name": "python3"
  },
  "language_info": {
   "codemirror_mode": {
    "name": "ipython",
    "version": 3
   },
   "file_extension": ".py",
   "mimetype": "text/x-python",
   "name": "python",
   "nbconvert_exporter": "python",
   "pygments_lexer": "ipython3",
   "version": "3.12.0"
  }
 },
 "nbformat": 4,
 "nbformat_minor": 2
}
