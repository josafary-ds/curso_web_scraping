{
 "cells": [
  {
   "cell_type": "code",
   "execution_count": 2,
   "metadata": {},
   "outputs": [],
   "source": [
    "from selenium import webdriver\n",
    "from selenium.webdriver.common.by import By\n",
    "\n",
    "driver = webdriver.Chrome()"
   ]
  },
  {
   "cell_type": "code",
   "execution_count": 3,
   "metadata": {},
   "outputs": [],
   "source": [
    "driver.get('http://localhost:8000/#/exemplo/1')"
   ]
  },
  {
   "cell_type": "markdown",
   "metadata": {},
   "source": [
    "### Selecionando pelo NAME"
   ]
  },
  {
   "cell_type": "code",
   "execution_count": 7,
   "metadata": {},
   "outputs": [
    {
     "data": {
      "text/plain": [
       "'Felícia Moreira'"
      ]
     },
     "execution_count": 7,
     "metadata": {},
     "output_type": "execute_result"
    }
   ],
   "source": [
    "driver.find_element(By.NAME, 'fullname').get_property('value')"
   ]
  },
  {
   "cell_type": "code",
   "execution_count": 10,
   "metadata": {},
   "outputs": [
    {
     "name": "stdout",
     "output_type": "stream",
     "text": [
      "\n",
      "    nome='Felícia Moreira',\n",
      "    profissao='Dinâmico Implementation Designer',\n",
      "    signo='Virgem',\n",
      "    genero='Feminino'\n",
      "\n"
     ]
    }
   ],
   "source": [
    "nome = driver.find_element(By.NAME, 'fullname').get_property('value')\n",
    "profissao = driver.find_element(By.NAME, 'role').get_property('value')\n",
    "signo = driver.find_element(By.NAME, 'zodiacSign').get_property('value')\n",
    "genero = driver.find_element(By.NAME, 'genderOfBirth').get_property('value')\n",
    "\n",
    "print(f'''\n",
    "    {nome=},\n",
    "    {profissao=},\n",
    "    {signo=},\n",
    "    {genero=}\n",
    "''')"
   ]
  },
  {
   "cell_type": "markdown",
   "metadata": {},
   "source": [
    "### Selecionando pela TAG_NAME"
   ]
  },
  {
   "cell_type": "code",
   "execution_count": 11,
   "metadata": {},
   "outputs": [
    {
     "data": {
      "text/plain": [
       "'Felícia Moreira'"
      ]
     },
     "execution_count": 11,
     "metadata": {},
     "output_type": "execute_result"
    }
   ],
   "source": [
    "driver.find_element(By.TAG_NAME, 'input').get_property('value')"
   ]
  },
  {
   "cell_type": "code",
   "execution_count": 12,
   "metadata": {},
   "outputs": [
    {
     "data": {
      "text/plain": [
       "[<selenium.webdriver.remote.webelement.WebElement (session=\"7951836cef23802cce159e983239b547\", element=\"f.D2678BA6F092060B44830FF399D745BC.d.BF38F6DBE608EBA791DA93BB1664DA0F.e.276\")>,\n",
       " <selenium.webdriver.remote.webelement.WebElement (session=\"7951836cef23802cce159e983239b547\", element=\"f.D2678BA6F092060B44830FF399D745BC.d.BF38F6DBE608EBA791DA93BB1664DA0F.e.280\")>,\n",
       " <selenium.webdriver.remote.webelement.WebElement (session=\"7951836cef23802cce159e983239b547\", element=\"f.D2678BA6F092060B44830FF399D745BC.d.BF38F6DBE608EBA791DA93BB1664DA0F.e.284\")>,\n",
       " <selenium.webdriver.remote.webelement.WebElement (session=\"7951836cef23802cce159e983239b547\", element=\"f.D2678BA6F092060B44830FF399D745BC.d.BF38F6DBE608EBA791DA93BB1664DA0F.e.288\")>]"
      ]
     },
     "execution_count": 12,
     "metadata": {},
     "output_type": "execute_result"
    }
   ],
   "source": [
    "campos = driver.find_elements(By.TAG_NAME, 'input')\n",
    "campos"
   ]
  },
  {
   "cell_type": "code",
   "execution_count": 13,
   "metadata": {},
   "outputs": [
    {
     "name": "stdout",
     "output_type": "stream",
     "text": [
      "Felícia Moreira\n",
      "Dinâmico Implementation Designer\n",
      "Virgem\n",
      "Feminino\n"
     ]
    }
   ],
   "source": [
    "for campo in campos:\n",
    "    valor = campo.get_property('value')\n",
    "    print(valor)"
   ]
  },
  {
   "cell_type": "code",
   "execution_count": 17,
   "metadata": {},
   "outputs": [
    {
     "data": {
      "text/plain": [
       "[<selenium.webdriver.remote.webelement.WebElement (session=\"7951836cef23802cce159e983239b547\", element=\"f.D2678BA6F092060B44830FF399D745BC.d.BF38F6DBE608EBA791DA93BB1664DA0F.e.302\")>,\n",
       " <selenium.webdriver.remote.webelement.WebElement (session=\"7951836cef23802cce159e983239b547\", element=\"f.D2678BA6F092060B44830FF399D745BC.d.BF38F6DBE608EBA791DA93BB1664DA0F.e.333\")>,\n",
       " <selenium.webdriver.remote.webelement.WebElement (session=\"7951836cef23802cce159e983239b547\", element=\"f.D2678BA6F092060B44830FF399D745BC.d.BF38F6DBE608EBA791DA93BB1664DA0F.e.339\")>,\n",
       " <selenium.webdriver.remote.webelement.WebElement (session=\"7951836cef23802cce159e983239b547\", element=\"f.D2678BA6F092060B44830FF399D745BC.d.BF38F6DBE608EBA791DA93BB1664DA0F.e.345\")>,\n",
       " <selenium.webdriver.remote.webelement.WebElement (session=\"7951836cef23802cce159e983239b547\", element=\"f.D2678BA6F092060B44830FF399D745BC.d.BF38F6DBE608EBA791DA93BB1664DA0F.e.351\")>,\n",
       " <selenium.webdriver.remote.webelement.WebElement (session=\"7951836cef23802cce159e983239b547\", element=\"f.D2678BA6F092060B44830FF399D745BC.d.BF38F6DBE608EBA791DA93BB1664DA0F.e.357\")>,\n",
       " <selenium.webdriver.remote.webelement.WebElement (session=\"7951836cef23802cce159e983239b547\", element=\"f.D2678BA6F092060B44830FF399D745BC.d.BF38F6DBE608EBA791DA93BB1664DA0F.e.363\")>,\n",
       " <selenium.webdriver.remote.webelement.WebElement (session=\"7951836cef23802cce159e983239b547\", element=\"f.D2678BA6F092060B44830FF399D745BC.d.BF38F6DBE608EBA791DA93BB1664DA0F.e.369\")>,\n",
       " <selenium.webdriver.remote.webelement.WebElement (session=\"7951836cef23802cce159e983239b547\", element=\"f.D2678BA6F092060B44830FF399D745BC.d.BF38F6DBE608EBA791DA93BB1664DA0F.e.375\")>,\n",
       " <selenium.webdriver.remote.webelement.WebElement (session=\"7951836cef23802cce159e983239b547\", element=\"f.D2678BA6F092060B44830FF399D745BC.d.BF38F6DBE608EBA791DA93BB1664DA0F.e.381\")>,\n",
       " <selenium.webdriver.remote.webelement.WebElement (session=\"7951836cef23802cce159e983239b547\", element=\"f.D2678BA6F092060B44830FF399D745BC.d.BF38F6DBE608EBA791DA93BB1664DA0F.e.387\")>,\n",
       " <selenium.webdriver.remote.webelement.WebElement (session=\"7951836cef23802cce159e983239b547\", element=\"f.D2678BA6F092060B44830FF399D745BC.d.BF38F6DBE608EBA791DA93BB1664DA0F.e.393\")>,\n",
       " <selenium.webdriver.remote.webelement.WebElement (session=\"7951836cef23802cce159e983239b547\", element=\"f.D2678BA6F092060B44830FF399D745BC.d.BF38F6DBE608EBA791DA93BB1664DA0F.e.399\")>,\n",
       " <selenium.webdriver.remote.webelement.WebElement (session=\"7951836cef23802cce159e983239b547\", element=\"f.D2678BA6F092060B44830FF399D745BC.d.BF38F6DBE608EBA791DA93BB1664DA0F.e.405\")>,\n",
       " <selenium.webdriver.remote.webelement.WebElement (session=\"7951836cef23802cce159e983239b547\", element=\"f.D2678BA6F092060B44830FF399D745BC.d.BF38F6DBE608EBA791DA93BB1664DA0F.e.411\")>,\n",
       " <selenium.webdriver.remote.webelement.WebElement (session=\"7951836cef23802cce159e983239b547\", element=\"f.D2678BA6F092060B44830FF399D745BC.d.BF38F6DBE608EBA791DA93BB1664DA0F.e.417\")>,\n",
       " <selenium.webdriver.remote.webelement.WebElement (session=\"7951836cef23802cce159e983239b547\", element=\"f.D2678BA6F092060B44830FF399D745BC.d.BF38F6DBE608EBA791DA93BB1664DA0F.e.423\")>,\n",
       " <selenium.webdriver.remote.webelement.WebElement (session=\"7951836cef23802cce159e983239b547\", element=\"f.D2678BA6F092060B44830FF399D745BC.d.BF38F6DBE608EBA791DA93BB1664DA0F.e.429\")>,\n",
       " <selenium.webdriver.remote.webelement.WebElement (session=\"7951836cef23802cce159e983239b547\", element=\"f.D2678BA6F092060B44830FF399D745BC.d.BF38F6DBE608EBA791DA93BB1664DA0F.e.435\")>,\n",
       " <selenium.webdriver.remote.webelement.WebElement (session=\"7951836cef23802cce159e983239b547\", element=\"f.D2678BA6F092060B44830FF399D745BC.d.BF38F6DBE608EBA791DA93BB1664DA0F.e.441\")>,\n",
       " <selenium.webdriver.remote.webelement.WebElement (session=\"7951836cef23802cce159e983239b547\", element=\"f.D2678BA6F092060B44830FF399D745BC.d.BF38F6DBE608EBA791DA93BB1664DA0F.e.821\")>,\n",
       " <selenium.webdriver.remote.webelement.WebElement (session=\"7951836cef23802cce159e983239b547\", element=\"f.D2678BA6F092060B44830FF399D745BC.d.BF38F6DBE608EBA791DA93BB1664DA0F.e.824\")>,\n",
       " <selenium.webdriver.remote.webelement.WebElement (session=\"7951836cef23802cce159e983239b547\", element=\"f.D2678BA6F092060B44830FF399D745BC.d.BF38F6DBE608EBA791DA93BB1664DA0F.e.827\")>,\n",
       " <selenium.webdriver.remote.webelement.WebElement (session=\"7951836cef23802cce159e983239b547\", element=\"f.D2678BA6F092060B44830FF399D745BC.d.BF38F6DBE608EBA791DA93BB1664DA0F.e.830\")>,\n",
       " <selenium.webdriver.remote.webelement.WebElement (session=\"7951836cef23802cce159e983239b547\", element=\"f.D2678BA6F092060B44830FF399D745BC.d.BF38F6DBE608EBA791DA93BB1664DA0F.e.833\")>]"
      ]
     },
     "execution_count": 17,
     "metadata": {},
     "output_type": "execute_result"
    }
   ],
   "source": [
    "redes_sociais = driver.find_elements(By.TAG_NAME, 'span')\n",
    "redes_sociais"
   ]
  },
  {
   "cell_type": "code",
   "execution_count": 18,
   "metadata": {},
   "outputs": [
    {
     "name": "stdout",
     "output_type": "stream",
     "text": [
      "Abrir menu\n",
      "\n",
      "\n",
      "CSS - Filho imediato\n",
      "CSS - Irmãos\n",
      "Exemplo 1\n",
      "Exemplo 2\n",
      "Exemplo 3\n",
      "Exemplo 4\n",
      "Exemplo 5\n",
      "Exemplo 6\n",
      "Exemplo 7\n",
      "Exemplo 8\n",
      "Exemplo 9\n",
      "Exemplo 10\n",
      "Exemplo 11\n",
      "Desafio 1\n",
      "Desafio 2\n",
      "Desafio 3\n",
      "Desafio 4\n",
      "Instagram\n",
      "Facebook\n",
      "Github\n",
      "YouTube\n",
      "Telegram\n"
     ]
    }
   ],
   "source": [
    "for rs in redes_sociais:\n",
    "    rs_valor = rs.text\n",
    "    print(rs_valor)"
   ]
  },
  {
   "cell_type": "markdown",
   "metadata": {},
   "source": [
    "##### Concatenando critérios para restrigir a busca"
   ]
  },
  {
   "cell_type": "code",
   "execution_count": 33,
   "metadata": {},
   "outputs": [
    {
     "data": {
      "text/plain": [
       "[<selenium.webdriver.remote.webelement.WebElement (session=\"24d98838844e4f3a481012896b94bdfd\", element=\"f.48E444DC795B879EE9D6DC3661C6DF42.d.C66FADD78F3C31D2CDBCC14B46F9F9EC.e.354\")>,\n",
       " <selenium.webdriver.remote.webelement.WebElement (session=\"24d98838844e4f3a481012896b94bdfd\", element=\"f.48E444DC795B879EE9D6DC3661C6DF42.d.C66FADD78F3C31D2CDBCC14B46F9F9EC.e.358\")>,\n",
       " <selenium.webdriver.remote.webelement.WebElement (session=\"24d98838844e4f3a481012896b94bdfd\", element=\"f.48E444DC795B879EE9D6DC3661C6DF42.d.C66FADD78F3C31D2CDBCC14B46F9F9EC.e.363\")>,\n",
       " <selenium.webdriver.remote.webelement.WebElement (session=\"24d98838844e4f3a481012896b94bdfd\", element=\"f.48E444DC795B879EE9D6DC3661C6DF42.d.C66FADD78F3C31D2CDBCC14B46F9F9EC.e.367\")>,\n",
       " <selenium.webdriver.remote.webelement.WebElement (session=\"24d98838844e4f3a481012896b94bdfd\", element=\"f.48E444DC795B879EE9D6DC3661C6DF42.d.C66FADD78F3C31D2CDBCC14B46F9F9EC.e.372\")>]"
      ]
     },
     "execution_count": 33,
     "metadata": {},
     "output_type": "execute_result"
    }
   ],
   "source": [
    "redes_sociais = driver.find_element(By.ID, 'social').find_elements(By.TAG_NAME, 'span')\n",
    "redes_sociais"
   ]
  },
  {
   "cell_type": "code",
   "execution_count": 34,
   "metadata": {},
   "outputs": [
    {
     "name": "stdout",
     "output_type": "stream",
     "text": [
      "Instagram\n",
      "Facebook\n",
      "Github\n",
      "YouTube\n",
      "Telegram\n"
     ]
    }
   ],
   "source": [
    "for rs in redes_sociais:\n",
    "    rs_valor = rs.text\n",
    "    print(rs_valor)"
   ]
  },
  {
   "cell_type": "code",
   "execution_count": 35,
   "metadata": {},
   "outputs": [
    {
     "name": "stdout",
     "output_type": "stream",
     "text": [
      "Instagram\n",
      "Facebook\n",
      "Github\n",
      "YouTube\n",
      "Telegram\n"
     ]
    }
   ],
   "source": [
    "for rs in redes_sociais:\n",
    "    rs_valor = rs.get_property('innerText')\n",
    "    print(rs_valor)"
   ]
  },
  {
   "cell_type": "markdown",
   "metadata": {},
   "source": [
    "### Selecionando pelo LINK"
   ]
  },
  {
   "cell_type": "code",
   "execution_count": 38,
   "metadata": {},
   "outputs": [
    {
     "data": {
      "text/plain": [
       "[<selenium.webdriver.remote.webelement.WebElement (session=\"24d98838844e4f3a481012896b94bdfd\", element=\"f.48E444DC795B879EE9D6DC3661C6DF42.d.C66FADD78F3C31D2CDBCC14B46F9F9EC.e.351\")>]"
      ]
     },
     "execution_count": 38,
     "metadata": {},
     "output_type": "execute_result"
    }
   ],
   "source": [
    "driver.find_elements(By.LINK_TEXT, 'Instagram')"
   ]
  },
  {
   "cell_type": "code",
   "execution_count": 40,
   "metadata": {},
   "outputs": [
    {
     "data": {
      "text/plain": [
       "[<selenium.webdriver.remote.webelement.WebElement (session=\"24d98838844e4f3a481012896b94bdfd\", element=\"f.48E444DC795B879EE9D6DC3661C6DF42.d.C66FADD78F3C31D2CDBCC14B46F9F9EC.e.351\")>,\n",
       " <selenium.webdriver.remote.webelement.WebElement (session=\"24d98838844e4f3a481012896b94bdfd\", element=\"f.48E444DC795B879EE9D6DC3661C6DF42.d.C66FADD78F3C31D2CDBCC14B46F9F9EC.e.369\")>]"
      ]
     },
     "execution_count": 40,
     "metadata": {},
     "output_type": "execute_result"
    }
   ],
   "source": [
    "gram = driver.find_elements(By.PARTIAL_LINK_TEXT, 'gram')\n",
    "gram"
   ]
  },
  {
   "cell_type": "code",
   "execution_count": 41,
   "metadata": {},
   "outputs": [
    {
     "name": "stdout",
     "output_type": "stream",
     "text": [
      "Instagram\n",
      "Telegram\n"
     ]
    }
   ],
   "source": [
    "for g in gram:\n",
    "    g_valor = g.text\n",
    "    print(g_valor)"
   ]
  },
  {
   "cell_type": "markdown",
   "metadata": {},
   "source": [
    "### Busca por CLASS_NAME"
   ]
  },
  {
   "cell_type": "code",
   "execution_count": 4,
   "metadata": {},
   "outputs": [
    {
     "data": {
      "text/plain": [
       "[<selenium.webdriver.remote.webelement.WebElement (session=\"ecd92718c094cd5676fb75bc6f7e9ff5\", element=\"f.9BD914D4DB642B560B6EE2FA97DEFB2C.d.F3717F0E4D324C363EE90BD3CBE12FA8.e.8\")>,\n",
       " <selenium.webdriver.remote.webelement.WebElement (session=\"ecd92718c094cd5676fb75bc6f7e9ff5\", element=\"f.9BD914D4DB642B560B6EE2FA97DEFB2C.d.F3717F0E4D324C363EE90BD3CBE12FA8.e.9\")>,\n",
       " <selenium.webdriver.remote.webelement.WebElement (session=\"ecd92718c094cd5676fb75bc6f7e9ff5\", element=\"f.9BD914D4DB642B560B6EE2FA97DEFB2C.d.F3717F0E4D324C363EE90BD3CBE12FA8.e.10\")>,\n",
       " <selenium.webdriver.remote.webelement.WebElement (session=\"ecd92718c094cd5676fb75bc6f7e9ff5\", element=\"f.9BD914D4DB642B560B6EE2FA97DEFB2C.d.F3717F0E4D324C363EE90BD3CBE12FA8.e.11\")>]"
      ]
     },
     "execution_count": 4,
     "metadata": {},
     "output_type": "execute_result"
    }
   ],
   "source": [
    "styled_input = driver.find_elements(By.CLASS_NAME, 'styled-input')\n",
    "styled_input"
   ]
  },
  {
   "cell_type": "code",
   "execution_count": 5,
   "metadata": {},
   "outputs": [
    {
     "name": "stdout",
     "output_type": "stream",
     "text": [
      "Warley Nogueira Neto\n",
      "Legado Infraestrutura Diretor\n",
      "Gêmeos\n",
      "Feminino\n"
     ]
    }
   ],
   "source": [
    "for si in styled_input:\n",
    "    si_valor = si.get_property('value')\n",
    "    print(si_valor)"
   ]
  },
  {
   "cell_type": "markdown",
   "metadata": {},
   "source": [
    "#### Busca por múltiplas classes\n"
   ]
  },
  {
   "cell_type": "code",
   "execution_count": 6,
   "metadata": {},
   "outputs": [
    {
     "data": {
      "text/plain": [
       "[<selenium.webdriver.remote.webelement.WebElement (session=\"ecd92718c094cd5676fb75bc6f7e9ff5\", element=\"f.9BD914D4DB642B560B6EE2FA97DEFB2C.d.F3717F0E4D324C363EE90BD3CBE12FA8.e.10\")>,\n",
       " <selenium.webdriver.remote.webelement.WebElement (session=\"ecd92718c094cd5676fb75bc6f7e9ff5\", element=\"f.9BD914D4DB642B560B6EE2FA97DEFB2C.d.F3717F0E4D324C363EE90BD3CBE12FA8.e.11\")>]"
      ]
     },
     "execution_count": 6,
     "metadata": {},
     "output_type": "execute_result"
    }
   ],
   "source": [
    "multi_clas = driver.find_elements(By.CLASS_NAME, 'styled-input.optional-info')\n",
    "multi_clas"
   ]
  },
  {
   "cell_type": "code",
   "execution_count": 7,
   "metadata": {},
   "outputs": [
    {
     "name": "stdout",
     "output_type": "stream",
     "text": [
      "Gêmeos\n",
      "Feminino\n"
     ]
    }
   ],
   "source": [
    "for mc in multi_clas:\n",
    "    mc_valor = mc.get_property('value')\n",
    "    print(mc_valor)"
   ]
  },
  {
   "cell_type": "code",
   "execution_count": null,
   "metadata": {},
   "outputs": [],
   "source": []
  }
 ],
 "metadata": {
  "kernelspec": {
   "display_name": ".venv",
   "language": "python",
   "name": "python3"
  },
  "language_info": {
   "codemirror_mode": {
    "name": "ipython",
    "version": 3
   },
   "file_extension": ".py",
   "mimetype": "text/x-python",
   "name": "python",
   "nbconvert_exporter": "python",
   "pygments_lexer": "ipython3",
   "version": "3.12.1"
  }
 },
 "nbformat": 4,
 "nbformat_minor": 2
}
