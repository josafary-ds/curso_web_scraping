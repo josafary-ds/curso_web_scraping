{
 "cells": [
  {
   "cell_type": "code",
   "execution_count": 10,
   "metadata": {},
   "outputs": [],
   "source": [
    "from selenium import webdriver\n",
    "from selenium.webdriver.common.by import By\n",
    "\n",
    "driver = webdriver.Chrome()"
   ]
  },
  {
   "cell_type": "code",
   "execution_count": 11,
   "metadata": {},
   "outputs": [],
   "source": [
    "driver.get('http://localhost:8000/#/exemplo/1')"
   ]
  },
  {
   "cell_type": "markdown",
   "metadata": {},
   "source": [
    "## Busca por CSS_SELECTOR\n",
    "\n",
    "- ( # ) Seleção de ID\n",
    "- ( . ) Seleção de classe\n",
    "- ( > ) Seleção de filho imediato\n",
    "- ( ~ ) Seleção de irmãos\n",
    "- ( + ) Seleção de irmão imediato\n",
    "- ( * ) Seleção de todos os elementos\n",
    "- [property=value] Seleção de propriedades\n",
    "     - ^= : Prefixo\n",
    "     - $= : Sufixo\n",
    "     - *= : Substring\n",
    "     - |= : Texto seguido por hífen\n",
    "     - ~= : Palavra"
   ]
  },
  {
   "cell_type": "markdown",
   "metadata": {},
   "source": [
    "### ID"
   ]
  },
  {
   "cell_type": "code",
   "execution_count": 12,
   "metadata": {},
   "outputs": [
    {
     "data": {
      "text/plain": [
       "<selenium.webdriver.remote.webelement.WebElement (session=\"1186f849855a00247db7943e09967138\", element=\"f.3D3F80B9250CC34E9AE9213DAE4FA6E9.d.7FFA350B4F1E71816C950CEA1945FD4F.e.25\")>"
      ]
     },
     "execution_count": 12,
     "metadata": {},
     "output_type": "execute_result"
    }
   ],
   "source": [
    "# Seleciona elementos que estejam em uma tag \"div\" e que possuam o ID \"social\" (concatenação de critérios)\n",
    "driver.find_element(By.CSS_SELECTOR, 'div#social')"
   ]
  },
  {
   "cell_type": "code",
   "execution_count": 14,
   "metadata": {},
   "outputs": [
    {
     "name": "stdout",
     "output_type": "stream",
     "text": [
      "<selenium.webdriver.remote.webelement.WebElement (session=\"1186f849855a00247db7943e09967138\", element=\"f.3D3F80B9250CC34E9AE9213DAE4FA6E9.d.7FFA350B4F1E71816C950CEA1945FD4F.e.25\")>\n"
     ]
    }
   ],
   "source": [
    "# Equivalência utilizando seletor Selenium\n",
    "itens = driver.find_elements(By.TAG_NAME, 'div')\n",
    "\n",
    "for item in itens:\n",
    "    if item.get_property('id') == 'social':\n",
    "        elemento = item\n",
    "\n",
    "print(item)"
   ]
  },
  {
   "cell_type": "markdown",
   "metadata": {},
   "source": [
    "### CLASS"
   ]
  },
  {
   "cell_type": "code",
   "execution_count": 15,
   "metadata": {},
   "outputs": [
    {
     "data": {
      "text/plain": [
       "[<selenium.webdriver.remote.webelement.WebElement (session=\"1186f849855a00247db7943e09967138\", element=\"f.3D3F80B9250CC34E9AE9213DAE4FA6E9.d.7FFA350B4F1E71816C950CEA1945FD4F.e.6\")>,\n",
       " <selenium.webdriver.remote.webelement.WebElement (session=\"1186f849855a00247db7943e09967138\", element=\"f.3D3F80B9250CC34E9AE9213DAE4FA6E9.d.7FFA350B4F1E71816C950CEA1945FD4F.e.7\")>,\n",
       " <selenium.webdriver.remote.webelement.WebElement (session=\"1186f849855a00247db7943e09967138\", element=\"f.3D3F80B9250CC34E9AE9213DAE4FA6E9.d.7FFA350B4F1E71816C950CEA1945FD4F.e.8\")>,\n",
       " <selenium.webdriver.remote.webelement.WebElement (session=\"1186f849855a00247db7943e09967138\", element=\"f.3D3F80B9250CC34E9AE9213DAE4FA6E9.d.7FFA350B4F1E71816C950CEA1945FD4F.e.9\")>]"
      ]
     },
     "execution_count": 15,
     "metadata": {},
     "output_type": "execute_result"
    }
   ],
   "source": [
    "driver.find_elements(By.CSS_SELECTOR, '.styled-input')"
   ]
  },
  {
   "cell_type": "code",
   "execution_count": 16,
   "metadata": {},
   "outputs": [
    {
     "data": {
      "text/plain": [
       "[<selenium.webdriver.remote.webelement.WebElement (session=\"1186f849855a00247db7943e09967138\", element=\"f.3D3F80B9250CC34E9AE9213DAE4FA6E9.d.7FFA350B4F1E71816C950CEA1945FD4F.e.8\")>,\n",
       " <selenium.webdriver.remote.webelement.WebElement (session=\"1186f849855a00247db7943e09967138\", element=\"f.3D3F80B9250CC34E9AE9213DAE4FA6E9.d.7FFA350B4F1E71816C950CEA1945FD4F.e.9\")>]"
      ]
     },
     "execution_count": 16,
     "metadata": {},
     "output_type": "execute_result"
    }
   ],
   "source": [
    "# Seleciona elementos dentro da tag \"input\" que possuam as classes \"styled_input\" e \"optional-info\"\n",
    "driver.find_elements(By.CSS_SELECTOR, 'input.styled-input.optional-info')"
   ]
  },
  {
   "cell_type": "markdown",
   "metadata": {},
   "source": [
    "### Parentesco"
   ]
  },
  {
   "cell_type": "code",
   "execution_count": 17,
   "metadata": {},
   "outputs": [
    {
     "data": {
      "text/plain": [
       "[<selenium.webdriver.remote.webelement.WebElement (session=\"1186f849855a00247db7943e09967138\", element=\"f.3D3F80B9250CC34E9AE9213DAE4FA6E9.d.7FFA350B4F1E71816C950CEA1945FD4F.e.8\")>,\n",
       " <selenium.webdriver.remote.webelement.WebElement (session=\"1186f849855a00247db7943e09967138\", element=\"f.3D3F80B9250CC34E9AE9213DAE4FA6E9.d.7FFA350B4F1E71816C950CEA1945FD4F.e.9\")>]"
      ]
     },
     "execution_count": 17,
     "metadata": {},
     "output_type": "execute_result"
    }
   ],
   "source": [
    "# Descendente qualquer\n",
    "driver.find_elements(By.CSS_SELECTOR, 'div.main-container input.optional-info')"
   ]
  },
  {
   "cell_type": "code",
   "execution_count": 18,
   "metadata": {},
   "outputs": [
    {
     "data": {
      "text/plain": [
       "[<selenium.webdriver.remote.webelement.WebElement (session=\"1186f849855a00247db7943e09967138\", element=\"f.3D3F80B9250CC34E9AE9213DAE4FA6E9.d.7FFA350B4F1E71816C950CEA1945FD4F.e.199\")>,\n",
       " <selenium.webdriver.remote.webelement.WebElement (session=\"1186f849855a00247db7943e09967138\", element=\"f.3D3F80B9250CC34E9AE9213DAE4FA6E9.d.7FFA350B4F1E71816C950CEA1945FD4F.e.26\")>,\n",
       " <selenium.webdriver.remote.webelement.WebElement (session=\"1186f849855a00247db7943e09967138\", element=\"f.3D3F80B9250CC34E9AE9213DAE4FA6E9.d.7FFA350B4F1E71816C950CEA1945FD4F.e.206\")>,\n",
       " <selenium.webdriver.remote.webelement.WebElement (session=\"1186f849855a00247db7943e09967138\", element=\"f.3D3F80B9250CC34E9AE9213DAE4FA6E9.d.7FFA350B4F1E71816C950CEA1945FD4F.e.27\")>,\n",
       " <selenium.webdriver.remote.webelement.WebElement (session=\"1186f849855a00247db7943e09967138\", element=\"f.3D3F80B9250CC34E9AE9213DAE4FA6E9.d.7FFA350B4F1E71816C950CEA1945FD4F.e.213\")>]"
      ]
     },
     "execution_count": 18,
     "metadata": {},
     "output_type": "execute_result"
    }
   ],
   "source": [
    "# Filhos imediatos\n",
    "driver.find_elements(By.CSS_SELECTOR, 'div#social > a')"
   ]
  },
  {
   "cell_type": "code",
   "execution_count": 21,
   "metadata": {},
   "outputs": [
    {
     "data": {
      "text/plain": [
       "[<selenium.webdriver.remote.webelement.WebElement (session=\"1186f849855a00247db7943e09967138\", element=\"f.3D3F80B9250CC34E9AE9213DAE4FA6E9.d.7FFA350B4F1E71816C950CEA1945FD4F.e.199\")>,\n",
       " <selenium.webdriver.remote.webelement.WebElement (session=\"1186f849855a00247db7943e09967138\", element=\"f.3D3F80B9250CC34E9AE9213DAE4FA6E9.d.7FFA350B4F1E71816C950CEA1945FD4F.e.26\")>,\n",
       " <selenium.webdriver.remote.webelement.WebElement (session=\"1186f849855a00247db7943e09967138\", element=\"f.3D3F80B9250CC34E9AE9213DAE4FA6E9.d.7FFA350B4F1E71816C950CEA1945FD4F.e.206\")>,\n",
       " <selenium.webdriver.remote.webelement.WebElement (session=\"1186f849855a00247db7943e09967138\", element=\"f.3D3F80B9250CC34E9AE9213DAE4FA6E9.d.7FFA350B4F1E71816C950CEA1945FD4F.e.27\")>,\n",
       " <selenium.webdriver.remote.webelement.WebElement (session=\"1186f849855a00247db7943e09967138\", element=\"f.3D3F80B9250CC34E9AE9213DAE4FA6E9.d.7FFA350B4F1E71816C950CEA1945FD4F.e.213\")>]"
      ]
     },
     "execution_count": 21,
     "metadata": {},
     "output_type": "execute_result"
    }
   ],
   "source": [
    "# Seletor universal\n",
    "driver.find_elements(By.CSS_SELECTOR, 'div#social > *')"
   ]
  },
  {
   "cell_type": "code",
   "execution_count": 20,
   "metadata": {},
   "outputs": [
    {
     "name": "stdout",
     "output_type": "stream",
     "text": [
      "main --> relative mx-auto max-w-sm w-full md:w-[90%] lg:max-w-[70vw]\n",
      "div --> absolute inset-0 bg-gradient-to-r from-cyan-400 to-sky-500 bg-center shadow-xl rounded-lg -rotate-6 lg:-rotate-4\n",
      "div --> relative bg-white dark:bg-gray-800 px-6 pt-10 pb-8 shadow-xl ring-1 ring-gray-900/5 rounded-lg sm:px-10\n",
      "div --> relative mx-auto\n",
      "div --> title\n",
      "label --> block text-sm font-medium leading-6 text-gray-700 dark:text-white text-left \n",
      "input --> block w-full rounded-md border-0 py-1.5 px-4 h-10 text-gray-700 ring-1 ring-inset ring-gray-300 bg-white placeholder:text-gray-400 focus:ring-2 focus:ring-inset focus:ring-cyan-600 sm:text-sm sm:leading-6 styled-input\n",
      "label --> block text-sm font-medium leading-6 text-gray-700 dark:text-white text-left \n",
      "input --> block w-full rounded-md border-0 py-1.5 px-4 h-10 text-gray-700 ring-1 ring-inset ring-gray-300 bg-white placeholder:text-gray-400 focus:ring-2 focus:ring-inset focus:ring-cyan-600 sm:text-sm sm:leading-6 styled-input\n",
      "label --> block text-sm font-medium leading-6 text-gray-700 dark:text-white text-left \n",
      "input --> block w-full rounded-md border-0 py-1.5 px-4 h-10 text-gray-700 ring-1 ring-inset ring-gray-300 bg-white placeholder:text-gray-400 focus:ring-2 focus:ring-inset focus:ring-cyan-600 sm:text-sm sm:leading-6 styled-input optional-info\n",
      "label --> block text-sm font-medium leading-6 text-gray-700 dark:text-white text-left \n",
      "input --> block w-full rounded-md border-0 py-1.5 px-4 h-10 text-gray-700 ring-1 ring-inset ring-gray-300 bg-white placeholder:text-gray-400 focus:ring-2 focus:ring-inset focus:ring-cyan-600 sm:text-sm sm:leading-6 styled-input optional-info\n",
      "label --> block text-sm font-medium leading-6 text-gray-700 dark:text-white text-left \n",
      "div --> grid grid-cols-2 lg:grid-cols-3 grid-flow-row gap-2 text-sm\n",
      "a --> text-slate-700 dark:text-slate-100 hover:text-cyan-500 flex gap-2 items-center\n",
      "i --> text-[20px] fi fi-brands-instagram\n",
      "span --> \n",
      "a --> text-slate-700 dark:text-slate-100 hover:text-cyan-500 flex gap-2 items-center\n",
      "i --> text-[20px] fi fi-brands-facebook\n",
      "span --> \n",
      "a --> text-slate-700 dark:text-slate-100 hover:text-cyan-500 flex gap-2 items-center\n",
      "i --> text-[20px] fi fi-brands-github\n",
      "span --> \n",
      "a --> text-slate-700 dark:text-slate-100 hover:text-cyan-500 flex gap-2 items-center\n",
      "i --> text-[20px] fi fi-brands-youtube\n",
      "span --> \n",
      "a --> text-slate-700 dark:text-slate-100 hover:text-cyan-500 flex gap-2 items-center\n",
      "i --> text-[20px] fi fi-brands-telegram\n",
      "span --> \n"
     ]
    }
   ],
   "source": [
    "main_container = driver.find_elements(By.CSS_SELECTOR, 'div.main-container  *')\n",
    "\n",
    "for mc in main_container:\n",
    "    print(mc.tag_name, '-->', mc.get_attribute('class'))\n",
    "    # print(mc.tag_name, '-->', mc.get_property('className'))"
   ]
  },
  {
   "cell_type": "markdown",
   "metadata": {},
   "source": [
    "### Propriedades e atributos"
   ]
  },
  {
   "cell_type": "code",
   "execution_count": 24,
   "metadata": {},
   "outputs": [
    {
     "data": {
      "text/plain": [
       "[<selenium.webdriver.remote.webelement.WebElement (session=\"1186f849855a00247db7943e09967138\", element=\"f.3D3F80B9250CC34E9AE9213DAE4FA6E9.d.7FFA350B4F1E71816C950CEA1945FD4F.e.6\")>,\n",
       " <selenium.webdriver.remote.webelement.WebElement (session=\"1186f849855a00247db7943e09967138\", element=\"f.3D3F80B9250CC34E9AE9213DAE4FA6E9.d.7FFA350B4F1E71816C950CEA1945FD4F.e.7\")>,\n",
       " <selenium.webdriver.remote.webelement.WebElement (session=\"1186f849855a00247db7943e09967138\", element=\"f.3D3F80B9250CC34E9AE9213DAE4FA6E9.d.7FFA350B4F1E71816C950CEA1945FD4F.e.8\")>,\n",
       " <selenium.webdriver.remote.webelement.WebElement (session=\"1186f849855a00247db7943e09967138\", element=\"f.3D3F80B9250CC34E9AE9213DAE4FA6E9.d.7FFA350B4F1E71816C950CEA1945FD4F.e.9\")>]"
      ]
     },
     "execution_count": 24,
     "metadata": {},
     "output_type": "execute_result"
    }
   ],
   "source": [
    "driver.find_elements(By.CSS_SELECTOR, 'input[disabled]')"
   ]
  },
  {
   "cell_type": "code",
   "execution_count": 23,
   "metadata": {},
   "outputs": [
    {
     "data": {
      "text/plain": [
       "[<selenium.webdriver.remote.webelement.WebElement (session=\"1186f849855a00247db7943e09967138\", element=\"f.3D3F80B9250CC34E9AE9213DAE4FA6E9.d.7FFA350B4F1E71816C950CEA1945FD4F.e.8\")>,\n",
       " <selenium.webdriver.remote.webelement.WebElement (session=\"1186f849855a00247db7943e09967138\", element=\"f.3D3F80B9250CC34E9AE9213DAE4FA6E9.d.7FFA350B4F1E71816C950CEA1945FD4F.e.9\")>]"
      ]
     },
     "execution_count": 23,
     "metadata": {},
     "output_type": "execute_result"
    }
   ],
   "source": [
    "# Concatenando mais de uma propriedade\n",
    "driver.find_elements(By.CSS_SELECTOR, 'input[disabled][data-optional=\"true\"]')"
   ]
  },
  {
   "cell_type": "markdown",
   "metadata": {},
   "source": [
    "### Sufixo"
   ]
  },
  {
   "cell_type": "code",
   "execution_count": 25,
   "metadata": {},
   "outputs": [
    {
     "name": "stdout",
     "output_type": "stream",
     "text": [
      "text-[20px] fi fi-brands-instagram\n",
      "text-[20px] fi fi-brands-telegram\n"
     ]
    }
   ],
   "source": [
    "gram = driver.find_elements(By.CSS_SELECTOR, '[class$=\"gram\"]')\n",
    "\n",
    "for g in gram:\n",
    "    valor = g.get_attribute('class')\n",
    "    print(valor)"
   ]
  },
  {
   "cell_type": "markdown",
   "metadata": {},
   "source": [
    "### Prefixo"
   ]
  },
  {
   "cell_type": "code",
   "execution_count": 26,
   "metadata": {},
   "outputs": [
    {
     "data": {
      "text/plain": [
       "[<selenium.webdriver.remote.webelement.WebElement (session=\"1186f849855a00247db7943e09967138\", element=\"f.3D3F80B9250CC34E9AE9213DAE4FA6E9.d.7FFA350B4F1E71816C950CEA1945FD4F.e.186\")>,\n",
       " <selenium.webdriver.remote.webelement.WebElement (session=\"1186f849855a00247db7943e09967138\", element=\"f.3D3F80B9250CC34E9AE9213DAE4FA6E9.d.7FFA350B4F1E71816C950CEA1945FD4F.e.25\")>]"
      ]
     },
     "execution_count": 26,
     "metadata": {},
     "output_type": "execute_result"
    }
   ],
   "source": [
    "driver.find_elements(By.CSS_SELECTOR, '[name^=\"user\"]')"
   ]
  },
  {
   "cell_type": "markdown",
   "metadata": {},
   "source": [
    "### Substring"
   ]
  },
  {
   "cell_type": "code",
   "execution_count": 28,
   "metadata": {},
   "outputs": [
    {
     "name": "stdout",
     "output_type": "stream",
     "text": [
      "Clara Franco\n",
      "Líder Implementação Desenvolvedor\n",
      "Masculino\n"
     ]
    }
   ],
   "source": [
    "contain_e = driver.find_elements(By.CSS_SELECTOR, 'input[id*=\"e\"]')\n",
    "\n",
    "for ce in contain_e:\n",
    "    valor = ce.get_property('value')\n",
    "    print(valor)"
   ]
  },
  {
   "cell_type": "code",
   "execution_count": 29,
   "metadata": {},
   "outputs": [],
   "source": [
    "driver.quit()"
   ]
  },
  {
   "cell_type": "code",
   "execution_count": null,
   "metadata": {},
   "outputs": [],
   "source": []
  }
 ],
 "metadata": {
  "kernelspec": {
   "display_name": ".venv",
   "language": "python",
   "name": "python3"
  },
  "language_info": {
   "codemirror_mode": {
    "name": "ipython",
    "version": 3
   },
   "file_extension": ".py",
   "mimetype": "text/x-python",
   "name": "python",
   "nbconvert_exporter": "python",
   "pygments_lexer": "ipython3",
   "version": "3.12.1"
  }
 },
 "nbformat": 4,
 "nbformat_minor": 2
}
